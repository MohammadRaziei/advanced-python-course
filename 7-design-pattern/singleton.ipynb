{
 "cells": [
  {
   "cell_type": "markdown",
   "id": "64da7bb1",
   "metadata": {},
   "source": [
    "# 🧱 Singleton Design Pattern  \n",
    "## The “Only One” Pattern in Software Design\n",
    "\n",
    "---\n",
    "\n",
    "## 🎯 What Is the Singleton Pattern?\n",
    "\n",
    "The **Singleton Pattern** ensures that a class has **only one instance**  \n",
    "and provides a **global access point** to that instance.\n",
    "\n",
    "> It’s like saying: “There should only ever be one of this thing in the entire system.”\n",
    "\n",
    "---\n",
    "\n",
    "## 🧠 Why Use It?\n",
    "\n",
    "Some components in your software should only exist once.  \n",
    "You don’t want multiple instances, because that could cause:\n",
    "- inconsistency\n",
    "- resource waste\n",
    "- conflict\n",
    "\n",
    "---\n",
    "\n",
    "## 📦 Real-World Use Cases\n",
    "\n",
    "| Use Case                     | Why Singleton?                           |\n",
    "|-----------------------------|------------------------------------------|\n",
    "| Logger                      | All parts of the app should log to the same place |\n",
    "| Database connection manager | One shared connection is efficient       |\n",
    "| Configuration manager       | All components should use the same settings |\n",
    "| Caching layer               | Centralized memory store                 |\n",
    "\n",
    "---\n",
    "\n",
    "## 🧰 Problem It Solves\n",
    "\n",
    "Without Singleton, you might create multiple instances of:\n",
    "- database connectors → wasteful\n",
    "- loggers → scattered log outputs\n",
    "- config loaders → inconsistent behavior\n",
    "\n",
    "The Singleton makes sure there is always **one and only one**.\n",
    "\n",
    "---\n",
    "\n",
    "## 📐 How It Works (Conceptually)\n",
    "\n",
    "1. You **block direct instantiation** of the class\n",
    "2. You **store the one instance internally**\n",
    "3. You provide a **static method to access it**\n",
    "\n",
    "---\n",
    "\n",
    "## ✅ Benefits\n",
    "\n",
    "| Advantage             | Why It Matters                             |\n",
    "|-----------------------|--------------------------------------------|\n",
    "| Controlled access     | One place to manage a shared resource      |\n",
    "| Memory efficiency     | Only one instance created                  |\n",
    "| Centralized behavior  | Consistency across modules                 |\n",
    "\n",
    "---\n",
    "\n",
    "## ⚠️ Drawbacks\n",
    "\n",
    "| Concern                        | Description                                  |\n",
    "|--------------------------------|----------------------------------------------|\n",
    "| Global state                  | Can lead to hidden dependencies              |\n",
    "| Harder to test                | You can't easily replace the instance        |\n",
    "| Thread-safety issues          | Must prevent multiple instantiations in multi-threaded environments |\n",
    "\n",
    "> 🧠 **Use Singleton sparingly**. Not everything that’s used globally needs to be a Singleton.\n",
    "\n",
    "---\n",
    "\n",
    "## 🎯 When to Use Singleton\n",
    "\n",
    "- When your class **represents a single concept** (e.g. AppConfig)\n",
    "- When multiple instances would cause **conflict or inconsistency**\n",
    "- When you want to manage **shared resources** like logs or network pools\n",
    "\n",
    "---\n",
    "\n",
    "## 🧪 When NOT to Use It\n",
    "\n",
    "- When dependency injection would work better\n",
    "- When multiple testable instances are needed\n",
    "- When global access would break modularity\n",
    "\n",
    "---\n",
    "\n",
    "## 🧠 Summary\n",
    "\n",
    "| Term         | Meaning                                                |\n",
    "|--------------|---------------------------------------------------------|\n",
    "| Singleton    | One instance of a class, globally accessible            |\n",
    "| Purpose      | Prevent multiple objects where only one should exist   |\n",
    "| Common Uses  | Logging, configs, database connections, state managers |\n",
    "| Key Rule     | Control instantiation and expose a shared instance     |\n",
    "\n",
    "---\n",
    "\n",
    "> “Singleton is not about having one object, it's about having one access point to it.”\n",
    "\n"
   ]
  },
  {
   "cell_type": "markdown",
   "id": "87b785e6",
   "metadata": {},
   "source": [
    "# 🧱 Singleton Pattern in Python  \n",
    "## 3 Ways to Guarantee a Single Instance\n",
    "\n",
    "---\n",
    "\n",
    "## 🎯 What is the Singleton Pattern?\n",
    "\n",
    "The **Singleton Pattern** ensures that a class has **only one instance** during the lifetime of a program and provides a **global access point** to that instance.\n",
    "\n",
    "This is useful for managing shared resources like:\n",
    "- Configuration\n",
    "- Logging\n",
    "- Database connections\n",
    "- Caching systems\n",
    "\n",
    "---\n",
    "\n",
    "## ⚙️ Three Main Ways to Implement Singleton in Python\n",
    "\n",
    "We’ll explore:\n",
    "\n",
    "1. Using `__new__()`\n",
    "2. Using a `@singleton` decorator\n",
    "3. Using a custom `metaclass`\n",
    "\n",
    "---\n",
    "\n",
    "## 1️⃣ Using `__new__()` Method\n",
    "\n",
    "The `__new__()` method controls object creation in Python — it runs **before** `__init__()`.  \n",
    "By overriding it, you can ensure that only one instance is created.\n",
    "\n",
    "### 🧪 Example:"
   ]
  },
  {
   "cell_type": "code",
   "execution_count": 2,
   "id": "452fd3ae",
   "metadata": {},
   "outputs": [],
   "source": [
    "class Singleton:\n",
    "    _instance = None  # class-level storage\n",
    "\n",
    "    def __new__(cls, *args, **kwargs):\n",
    "        if cls._instance is None:\n",
    "            print(\"Creating a new instance...\")\n",
    "            cls._instance = super().__new__(cls)\n",
    "        else:\n",
    "            print(\"Using existing instance...\")\n",
    "        return cls._instance"
   ]
  },
  {
   "cell_type": "markdown",
   "id": "c661891d",
   "metadata": {},
   "source": [
    "### ✅ Usage:"
   ]
  },
  {
   "cell_type": "code",
   "execution_count": 3,
   "id": "20a270fa",
   "metadata": {},
   "outputs": [
    {
     "name": "stdout",
     "output_type": "stream",
     "text": [
      "Creating a new instance...\n",
      "Using existing instance...\n",
      "True\n"
     ]
    }
   ],
   "source": [
    "a = Singleton()\n",
    "b = Singleton()\n",
    "\n",
    "print(a is b)  # True"
   ]
  },
  {
   "cell_type": "markdown",
   "id": "09353625",
   "metadata": {},
   "source": [
    "### ✅ Pros:\n",
    "- Simple and explicit\n",
    "- Works with subclassing\n",
    "\n",
    "### ❌ Cons:\n",
    "- Logic is embedded inside the class\n",
    "- Not reusable across multiple singleton classes\n",
    "\n",
    "---\n",
    "\n",
    "## 2️⃣ Using a `@singleton` Decorator\n",
    "\n",
    "Decorators are a Pythonic way to **wrap** object creation.  \n",
    "You can define a reusable decorator to control instantiation externally.\n",
    "\n",
    "### 🧪 Example:\n"
   ]
  },
  {
   "cell_type": "code",
   "execution_count": 5,
   "id": "3939eac1",
   "metadata": {},
   "outputs": [],
   "source": [
    "def singleton(cls):\n",
    "    instances = {}\n",
    "    def get_instance(*args, **kwargs):\n",
    "        if cls not in instances:\n",
    "            print(\"Creating new instance\")\n",
    "            instances[cls] = cls(*args, **kwargs)\n",
    "        else:\n",
    "            print(\"Using existing instance\")\n",
    "        return instances[cls]\n",
    "    return get_instance\n",
    "\n",
    "\n",
    "@singleton\n",
    "class Logger:\n",
    "    def __init__(self):\n",
    "        self.name = \"AppLogger\""
   ]
  },
  {
   "cell_type": "markdown",
   "id": "5c4feb1f",
   "metadata": {},
   "source": [
    "### ✅ Usage:"
   ]
  },
  {
   "cell_type": "code",
   "execution_count": 6,
   "id": "f8e7c913",
   "metadata": {},
   "outputs": [
    {
     "name": "stdout",
     "output_type": "stream",
     "text": [
      "Creating new instance\n",
      "Using existing instance\n",
      "True\n"
     ]
    }
   ],
   "source": [
    "log1 = Logger()\n",
    "log2 = Logger()\n",
    "\n",
    "print(log1 is log2)  # True"
   ]
  },
  {
   "cell_type": "markdown",
   "id": "4207a239",
   "metadata": {},
   "source": [
    "\n",
    "### ✅ Pros:\n",
    "- Clean and readable\n",
    "- Reusable across any class\n",
    "- Keeps class logic untouched\n",
    "\n",
    "### ❌ Cons:\n",
    "- You lose the class type (`Logger.__class__` is no longer `Logger`)\n",
    "- Harder to inherit or subclass"
   ]
  },
  {
   "cell_type": "markdown",
   "id": "ce27578c",
   "metadata": {},
   "source": [
    "\n",
    "---\n",
    "\n",
    "## 3️⃣ Using a Singleton `Metaclass`\n",
    "\n",
    "A **metaclass** is a class that creates classes.  \n",
    "By using a custom metaclass, you can control instance creation at the class level.\n",
    "\n",
    "### 🧪 Example:\n",
    "\n"
   ]
  },
  {
   "cell_type": "code",
   "execution_count": 7,
   "id": "b4815242",
   "metadata": {},
   "outputs": [],
   "source": [
    "class SingletonMeta(type):\n",
    "    _instances = {}\n",
    "    def __call__(cls, *args, **kwargs):\n",
    "        if cls not in cls._instances:\n",
    "            print(f\"Creating new instance of {cls.__name__}\")\n",
    "            cls._instances[cls] = super().__call__(*args, **kwargs)\n",
    "        else:\n",
    "            print(f\"Using existing instance of {cls.__name__}\")\n",
    "        return cls._instances[cls]\n",
    "\n",
    "    \n",
    "class Config(metaclass=SingletonMeta):\n",
    "    def __init__(self):\n",
    "        self.settings = {\"debug\": True}"
   ]
  },
  {
   "cell_type": "markdown",
   "id": "d848bbab",
   "metadata": {},
   "source": [
    "### ✅ Usage:"
   ]
  },
  {
   "cell_type": "code",
   "execution_count": 8,
   "id": "6a89acf1",
   "metadata": {},
   "outputs": [
    {
     "name": "stdout",
     "output_type": "stream",
     "text": [
      "Creating new instance of Config\n",
      "Using existing instance of Config\n",
      "True\n"
     ]
    }
   ],
   "source": [
    "c1 = Config()\n",
    "c2 = Config()\n",
    "\n",
    "print(c1 is c2)  # True"
   ]
  },
  {
   "cell_type": "markdown",
   "id": "706f199e",
   "metadata": {},
   "source": [
    "\n",
    "\n",
    "\n",
    "### ✅ Pros:\n",
    "- Cleanest and most reusable\n",
    "- Works across many classes without duplicating logic\n",
    "- True Singleton class (not just function wrapper)\n",
    "\n",
    "### ❌ Cons:\n",
    "- Requires understanding metaclasses (advanced)\n",
    "- More abstract for beginners\n",
    "\n",
    "---\n",
    "\n",
    "## 🧠 Summary Table\n",
    "\n",
    "| Method            | Easy to Implement | Reusable | Clean Class | Subclass Friendly | Pythonic |\n",
    "|------------------|-------------------|----------|-------------|-------------------|----------|\n",
    "| `__new__()`       | ✅ Yes             | ❌ No     | ❌ No        | ✅ Yes            | ✅        |\n",
    "| `@singleton`      | ✅ Yes             | ✅ Yes    | ✅ Yes       | ❌ No             | ✅        |\n",
    "| `metaclass`       | ⚠️ Intermediate   | ✅ Yes    | ✅ Yes       | ✅ Yes            | ✅✅       |\n",
    "\n",
    "---\n",
    "\n",
    "## 🔚 Conclusion\n",
    "\n",
    "Choose your Singleton approach based on your needs:\n",
    "\n",
    "- ✅ Use `__new__()` for simple, one-off use cases\n",
    "- ✅ Use a `@singleton` decorator for small, reusable logic\n",
    "- ✅ Use a **metaclass** when you want **professional, scalable Singleton logic** that works across many classes\n",
    "\n",
    "> 🧠 Singleton isn't about making one object — it's about **controlling access** to that one object in a clean, safe, and testable way.\n",
    "```\n",
    "\n",
    "---\n",
    "\n",
    "Would you like me to follow this up with a **real-world Singleton project** (like a Logger or ConfigManager)? Let’s build it! 💻✨"
   ]
  },
  {
   "cell_type": "code",
   "execution_count": null,
   "id": "ad24868c",
   "metadata": {},
   "outputs": [],
   "source": []
  }
 ],
 "metadata": {
  "kernelspec": {
   "display_name": "Python 3 (ipykernel)",
   "language": "python",
   "name": "python3"
  },
  "language_info": {
   "codemirror_mode": {
    "name": "ipython",
    "version": 3
   },
   "file_extension": ".py",
   "mimetype": "text/x-python",
   "name": "python",
   "nbconvert_exporter": "python",
   "pygments_lexer": "ipython3",
   "version": "3.11.5"
  }
 },
 "nbformat": 4,
 "nbformat_minor": 5
}
