{
 "cells": [
  {
   "cell_type": "markdown",
   "id": "152054c3",
   "metadata": {},
   "source": [
    "# ✍️ Type Annotations in Python: What, Why, and How\n",
    "\n",
    "---\n",
    "\n",
    "## ✅ What Are Type Annotations?\n",
    "\n",
    "**Type annotations** (a.k.a type hints) are a feature in Python that allow you to explicitly **specify the type of variables, function parameters, and return values**.\n",
    "\n",
    "Introduced in **PEP 484**, type annotations help you document the **intended usage** of your code, without changing how it runs.\n",
    "\n",
    "---\n",
    "\n",
    "### 🧠 Why Use Type Annotations?\n",
    "\n",
    "| Benefit                      | Description                                                       |\n",
    "|------------------------------|-------------------------------------------------------------------|\n",
    "| ✅ Code clarity              | Makes functions easier to read and understand                     |\n",
    "| 🚫 Fewer bugs               | Helps detect type mismatches before they cause problems           |\n",
    "| 🧰 Better tooling            | IDEs like VS Code and PyCharm provide better auto-complete        |\n",
    "| 🔍 Static analysis           | Tools like `mypy` and `pyright` can check types without running code |\n",
    "| 📚 Self-documenting code     | Types act like inline documentation                               |\n",
    "\n",
    "---\n",
    "\n",
    "## 🔤 Basic Syntax\n"
   ]
  },
  {
   "cell_type": "code",
   "execution_count": 1,
   "id": "8e581d39",
   "metadata": {},
   "outputs": [],
   "source": [
    "# Variables\n",
    "name: str = \"Alice\"\n",
    "age: int = 30\n",
    "active: bool = True\n",
    "\n",
    "# Function parameters and return types\n",
    "def greet(name: str) -> str:\n",
    "    return f\"Hello, {name}!\"\n",
    "\n",
    "# Default values\n",
    "def add(x: int, y: int = 0) -> int:\n",
    "    return x + y"
   ]
  },
  {
   "cell_type": "markdown",
   "id": "a1f1c8b2",
   "metadata": {},
   "source": [
    "---\n",
    "\n",
    "## ❓ Are Type Annotations Mandatory?\n",
    "\n",
    "**No!**  \n",
    "Python is a dynamically typed language, so **you are never required** to use type annotations.\n",
    "\n",
    "They are **completely optional** and used for:\n",
    "- Static analysis tools (like `mypy`, `pyright`)\n",
    "- Documentation\n",
    "- Better development experience\n",
    "\n",
    "You can ignore them entirely — and your code will still run:\n",
    "\n",
    "---\n",
    "\n",
    "### ⚠️ Wrong Type, Still Runs\n"
   ]
  },
  {
   "cell_type": "code",
   "execution_count": 11,
   "id": "c72b88ab",
   "metadata": {},
   "outputs": [
    {
     "name": "stdout",
     "output_type": "stream",
     "text": [
      "21\n"
     ]
    }
   ],
   "source": [
    "def square(x: int) -> int:\n",
    "    return str(x) + \"1\"  # 👈 This is wrong \n",
    "\n",
    "print(square(2))"
   ]
  },
  {
   "cell_type": "code",
   "execution_count": 12,
   "id": "b0567705",
   "metadata": {},
   "outputs": [
    {
     "ename": "TypeError",
     "evalue": "unsupported operand type(s) for +: 'int' and 'str'",
     "output_type": "error",
     "traceback": [
      "\u001b[1;31m---------------------------------------------------------------------------\u001b[0m",
      "\u001b[1;31mTypeError\u001b[0m                                 Traceback (most recent call last)",
      "Cell \u001b[1;32mIn[12], line 4\u001b[0m\n\u001b[0;32m      1\u001b[0m \u001b[38;5;28;01mdef\u001b[39;00m \u001b[38;5;21msquare\u001b[39m(x: \u001b[38;5;28mint\u001b[39m) \u001b[38;5;241m-\u001b[39m\u001b[38;5;241m>\u001b[39m \u001b[38;5;28mint\u001b[39m:\n\u001b[0;32m      2\u001b[0m     \u001b[38;5;28;01mreturn\u001b[39;00m x \u001b[38;5;241m+\u001b[39m \u001b[38;5;124m\"\u001b[39m\u001b[38;5;124m1\u001b[39m\u001b[38;5;124m\"\u001b[39m  \u001b[38;5;66;03m# 👈 This is wrong \u001b[39;00m\n\u001b[1;32m----> 4\u001b[0m \u001b[38;5;28mprint\u001b[39m(square(\u001b[38;5;241m2\u001b[39m))\n",
      "Cell \u001b[1;32mIn[12], line 2\u001b[0m, in \u001b[0;36msquare\u001b[1;34m(x)\u001b[0m\n\u001b[0;32m      1\u001b[0m \u001b[38;5;28;01mdef\u001b[39;00m \u001b[38;5;21msquare\u001b[39m(x: \u001b[38;5;28mint\u001b[39m) \u001b[38;5;241m-\u001b[39m\u001b[38;5;241m>\u001b[39m \u001b[38;5;28mint\u001b[39m:\n\u001b[1;32m----> 2\u001b[0m     \u001b[38;5;28;01mreturn\u001b[39;00m x \u001b[38;5;241m+\u001b[39m \u001b[38;5;124m\"\u001b[39m\u001b[38;5;124m1\u001b[39m\u001b[38;5;124m\"\u001b[39m\n",
      "\u001b[1;31mTypeError\u001b[0m: unsupported operand type(s) for +: 'int' and 'str'"
     ]
    }
   ],
   "source": [
    "def square(x: int) -> int:\n",
    "    return x + \"1\"  # 👈 This is wrong \n",
    "\n",
    "print(square(2))"
   ]
  },
  {
   "cell_type": "markdown",
   "id": "148ae491",
   "metadata": {},
   "source": [
    "\n",
    "✅ Python will raise a `TypeError at runtime`, but **no error appears before execution**.\n",
    "\n",
    "---\n",
    "\n",
    "## 🛠️ Enter Static Type Checkers\n",
    "\n",
    "Type checkers like **`mypy`** and **`pyright`** analyze your code **without running it**, and show type errors ahead of time.\n"
   ]
  },
  {
   "cell_type": "markdown",
   "id": "8ccdd372",
   "metadata": {},
   "source": [
    "\n",
    "### 🧪 Using `mypy`\n",
    "\n",
    "```bash\n",
    "pip install mypy\n",
    "```\n",
    "\n",
    "```python\n",
    "def square(x: int) -> int:\n",
    "    return x + \"1\"\n",
    "```\n",
    "\n",
    "```bash\n",
    "$ mypy script.py\n",
    "script.py:2: error: Unsupported operand types for + (\"int\" and \"str\")\n",
    "```\n",
    "\n",
    "---\n",
    "\n",
    "### ⚡ Using `pyright` (or `Pylance` in VS Code)\n",
    "\n",
    "```bash\n",
    "npm install -g pyright\n",
    "pyright script.py\n",
    "```\n",
    "\n",
    "Same result — without running your code.\n",
    "\n",
    "---\n"
   ]
  },
  {
   "cell_type": "code",
   "execution_count": 34,
   "id": "4f2396a7",
   "metadata": {
    "scrolled": false
   },
   "outputs": [
    {
     "name": "stderr",
     "output_type": "stream",
     "text": [
      "DEPRECATION: Loading egg at c:\\programdata\\anaconda3\\lib\\site-packages\\vboxapi-1.0-py3.11.egg is deprecated. pip 25.1 will enforce this behaviour change. A possible replacement is to use pip for package installation. Discussion can be found at https://github.com/pypa/pip/issues/12330\n"
     ]
    }
   ],
   "source": [
    "!pip install mypy -q"
   ]
  },
  {
   "cell_type": "code",
   "execution_count": 36,
   "id": "887943b1",
   "metadata": {},
   "outputs": [
    {
     "name": "stdout",
     "output_type": "stream",
     "text": [
      "assets\\mypy_example.py:2: \u001b[1m\u001b[91merror:\u001b[0m Unsupported operand types for + (\u001b[0m\u001b[1m\"int\"\u001b[0m and \u001b[0m\u001b[1m\"str\"\u001b[0m)  \u001b[0m\u001b[93m[operator]\u001b[0m\n",
      "\u001b[1m\u001b[91mFound 1 error in 1 file (checked 1 source file)\u001b[0m\n"
     ]
    }
   ],
   "source": [
    "!mypy assets/mypy_example.py"
   ]
  },
  {
   "cell_type": "markdown",
   "id": "03ba9c66",
   "metadata": {},
   "source": [
    "---\n",
    "\n",
    "## 🛡️ Runtime Type Checking with `typeguard`\n",
    "\n",
    "While `mypy` and `pyright` check types **before runtime**, `typeguard` lets you enforce types **during execution**.\n",
    "\n",
    "### 🔌 Install:\n",
    "\n",
    "```bash\n",
    "pip install typeguard\n",
    "```\n"
   ]
  },
  {
   "cell_type": "markdown",
   "id": "a77e9759",
   "metadata": {},
   "source": [
    "\n",
    "### 🔒 Example:\n",
    "\n",
    "```python\n",
    "from typeguard import typechecked\n",
    "\n",
    "@typechecked\n",
    "def multiply(x: int, y: int) -> int:\n",
    "    return x * y\n",
    "\n",
    "multiply(\"hello\", 3)  # ❌ Raises TypeError at runtime\n",
    "```\n",
    "\n",
    "🧠 With `@typechecked`, Python **will actually check types when the function runs** — great for debugging and testing.\n",
    "\n",
    "---"
   ]
  },
  {
   "cell_type": "code",
   "execution_count": 35,
   "id": "832ab0fe",
   "metadata": {},
   "outputs": [
    {
     "name": "stderr",
     "output_type": "stream",
     "text": [
      "DEPRECATION: Loading egg at c:\\programdata\\anaconda3\\lib\\site-packages\\vboxapi-1.0-py3.11.egg is deprecated. pip 25.1 will enforce this behaviour change. A possible replacement is to use pip for package installation. Discussion can be found at https://github.com/pypa/pip/issues/12330\n"
     ]
    }
   ],
   "source": [
    "!pip install typeguard -q"
   ]
  },
  {
   "cell_type": "code",
   "execution_count": 32,
   "id": "7234c0ff",
   "metadata": {},
   "outputs": [
    {
     "name": "stderr",
     "output_type": "stream",
     "text": [
      "Traceback (most recent call last):\n",
      "  File \"D:\\Desk\\project\\hamrah academy\\advanced-python-course\\5-typing-annotations\\assets\\typeguard_example.py\", line 7, in <module>\n",
      "    print(multiply(\"hello\", 3))  # \\u274c Raises TypeError at runtime\n",
      "          ^^^^^^^^^^^^^^^^^^^^\n",
      "  File \"D:\\Desk\\project\\hamrah academy\\advanced-python-course\\5-typing-annotations\\assets\\typeguard_example.py\", line 4, in multiply\n",
      "    def multiply(x: int, y: int) -> int:\n",
      "  File \"C:\\Users\\Mohammad\\AppData\\Roaming\\Python\\Python311\\site-packages\\typeguard\\_functions.py\", line 137, in check_argument_types\n",
      "    check_type_internal(value, annotation, memo)\n",
      "  File \"C:\\Users\\Mohammad\\AppData\\Roaming\\Python\\Python311\\site-packages\\typeguard\\_checkers.py\", line 956, in check_type_internal\n",
      "    raise TypeCheckError(f\"is not an instance of {qualified_name(origin_type)}\")\n",
      "typeguard.TypeCheckError: argument \"x\" (str) is not an instance of int\n"
     ]
    }
   ],
   "source": [
    "!python assets/typeguard_example.py"
   ]
  },
  {
   "cell_type": "markdown",
   "id": "722f1ec3",
   "metadata": {},
   "source": [
    "\n",
    "\n",
    "## ✅ Summary\n",
    "\n",
    "| Tool/Feature     | What it does                               | Checked When     |\n",
    "|------------------|---------------------------------------------|------------------|\n",
    "| `Annotations`     | Add type hints (no enforcement)             | Not checked      |\n",
    "| `mypy`, `pyright`| Check types statically                      | Before runtime   |\n",
    "| `typeguard`       | Enforce types at runtime                    | During execution |\n",
    "\n",
    "---\n",
    "\n",
    "> 🎯 Type annotations don’t change how Python runs — but they make your code safer, clearer, and more powerful when used with the right tools.\n"
   ]
  }
 ],
 "metadata": {
  "kernelspec": {
   "display_name": "Python 3 (ipykernel)",
   "language": "python",
   "name": "python3"
  },
  "language_info": {
   "codemirror_mode": {
    "name": "ipython",
    "version": 3
   },
   "file_extension": ".py",
   "mimetype": "text/x-python",
   "name": "python",
   "nbconvert_exporter": "python",
   "pygments_lexer": "ipython3",
   "version": "3.11.5"
  }
 },
 "nbformat": 4,
 "nbformat_minor": 5
}
