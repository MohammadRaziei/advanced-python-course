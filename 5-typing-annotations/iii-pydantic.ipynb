{
 "cells": [
  {
   "cell_type": "markdown",
   "id": "359144a2",
   "metadata": {},
   "source": [
    "\n",
    "# 🎯 What is `pydantic`?\n",
    "\n",
    "**Pydantic** is a Python library that allows you to create **data models with built-in validation and type enforcement** using standard Python type annotations.\n",
    "\n",
    "> It combines the clarity of `@dataclass` with the power of runtime validation — and it's widely used in frameworks like **FastAPI**.\n",
    "\n",
    "---\n",
    "\n",
    "## ✅ Why Use Pydantic?\n",
    "\n",
    "| Feature                  | Benefit                                                                 |\n",
    "|--------------------------|-------------------------------------------------------------------------|\n",
    "| ✅ Type enforcement      | Ensures values match their types at runtime                             |\n",
    "| 🔍 Auto validation       | Validates nested structures, required fields, and constraints            |\n",
    "| 🧱 Works like dataclasses | Clean syntax using class definitions                                    |\n",
    "| 🧰 JSON support          | Converts to/from JSON effortlessly                                       |\n",
    "| ⚙️ Easy integration      | Used in web frameworks, config loaders, APIs, etc. (especially FastAPI) |\n",
    "\n",
    "---\n",
    "\n",
    "## 📦 Installation\n",
    "\n",
    "```bash\n",
    "pip install pydantic\n",
    "```\n",
    "\n"
   ]
  },
  {
   "cell_type": "code",
   "execution_count": null,
   "id": "5db9a0fd",
   "metadata": {},
   "outputs": [],
   "source": []
  },
  {
   "cell_type": "markdown",
   "id": "6d0b0828",
   "metadata": {},
   "source": [
    "> ⚠️ For Python 3.10+, install **pydantic v2+** (latest by default)\n",
    "\n",
    "---\n",
    "\n",
    "## 🧪 Basic Example\n"
   ]
  },
  {
   "cell_type": "code",
   "execution_count": 3,
   "id": "0e85e711",
   "metadata": {},
   "outputs": [
    {
     "name": "stdout",
     "output_type": "stream",
     "text": [
      "Ali 30\n"
     ]
    },
    {
     "ename": "ValidationError",
     "evalue": "1 validation error for User\nage\n  Input should be a valid integer, unable to parse string as an integer [type=int_parsing, input_value='thirty', input_type=str]\n    For further information visit https://errors.pydantic.dev/2.7/v/int_parsing",
     "output_type": "error",
     "traceback": [
      "\u001b[1;31m---------------------------------------------------------------------------\u001b[0m",
      "\u001b[1;31mValidationError\u001b[0m                           Traceback (most recent call last)",
      "Cell \u001b[1;32mIn[3], line 13\u001b[0m\n\u001b[0;32m     10\u001b[0m \u001b[38;5;28mprint\u001b[39m(user\u001b[38;5;241m.\u001b[39mname, user\u001b[38;5;241m.\u001b[39mage)\n\u001b[0;32m     12\u001b[0m \u001b[38;5;66;03m# ❌ Invalid input\u001b[39;00m\n\u001b[1;32m---> 13\u001b[0m User(name\u001b[38;5;241m=\u001b[39m\u001b[38;5;124m\"\u001b[39m\u001b[38;5;124mMohammad\u001b[39m\u001b[38;5;124m\"\u001b[39m, age\u001b[38;5;241m=\u001b[39m\u001b[38;5;124m\"\u001b[39m\u001b[38;5;124mthirty\u001b[39m\u001b[38;5;124m\"\u001b[39m, email\u001b[38;5;241m=\u001b[39m\u001b[38;5;124m\"\u001b[39m\u001b[38;5;124mmohammad@example.com\u001b[39m\u001b[38;5;124m\"\u001b[39m)\n",
      "File \u001b[1;32m~\\AppData\\Roaming\\Python\\Python311\\site-packages\\pydantic\\main.py:176\u001b[0m, in \u001b[0;36mBaseModel.__init__\u001b[1;34m(self, **data)\u001b[0m\n\u001b[0;32m    174\u001b[0m \u001b[38;5;66;03m# `__tracebackhide__` tells pytest and some other tools to omit this function from tracebacks\u001b[39;00m\n\u001b[0;32m    175\u001b[0m __tracebackhide__ \u001b[38;5;241m=\u001b[39m \u001b[38;5;28;01mTrue\u001b[39;00m\n\u001b[1;32m--> 176\u001b[0m \u001b[38;5;28mself\u001b[39m\u001b[38;5;241m.\u001b[39m__pydantic_validator__\u001b[38;5;241m.\u001b[39mvalidate_python(data, self_instance\u001b[38;5;241m=\u001b[39m\u001b[38;5;28mself\u001b[39m)\n",
      "\u001b[1;31mValidationError\u001b[0m: 1 validation error for User\nage\n  Input should be a valid integer, unable to parse string as an integer [type=int_parsing, input_value='thirty', input_type=str]\n    For further information visit https://errors.pydantic.dev/2.7/v/int_parsing"
     ]
    }
   ],
   "source": [
    "from pydantic import BaseModel\n",
    "\n",
    "class User(BaseModel):\n",
    "    name: str\n",
    "    age: int\n",
    "    email: str\n",
    "\n",
    "# ✅ Valid input\n",
    "user = User(name=\"Ali\", age=30, email=\"ali@example.com\")\n",
    "print(user.name, user.age)\n",
    "\n",
    "# ❌ Invalid input\n",
    "User(name=\"Mohammad\", age=\"thirty\", email=\"mohammad@example.com\")  # Raises ValidationError"
   ]
  },
  {
   "cell_type": "markdown",
   "id": "f370a458",
   "metadata": {},
   "source": [
    "---\n",
    "\n",
    "## 🔐 Validation in Action\n"
   ]
  },
  {
   "cell_type": "code",
   "execution_count": 4,
   "id": "fcf30a70",
   "metadata": {},
   "outputs": [
    {
     "ename": "ValidationError",
     "evalue": "1 validation error for Contact\nemail\n  value is not a valid email address: The email address is not valid. It must have exactly one @-sign. [type=value_error, input_value='not-an-email', input_type=str]",
     "output_type": "error",
     "traceback": [
      "\u001b[1;31m---------------------------------------------------------------------------\u001b[0m",
      "\u001b[1;31mValidationError\u001b[0m                           Traceback (most recent call last)",
      "Cell \u001b[1;32mIn[4], line 8\u001b[0m\n\u001b[0;32m      5\u001b[0m     email: EmailStr  \u001b[38;5;66;03m# ✅ Email validation\u001b[39;00m\n\u001b[0;32m      7\u001b[0m c \u001b[38;5;241m=\u001b[39m Contact(name\u001b[38;5;241m=\u001b[39m\u001b[38;5;124m\"\u001b[39m\u001b[38;5;124mAli\u001b[39m\u001b[38;5;124m\"\u001b[39m, email\u001b[38;5;241m=\u001b[39m\u001b[38;5;124m\"\u001b[39m\u001b[38;5;124mali@example.com\u001b[39m\u001b[38;5;124m\"\u001b[39m)  \u001b[38;5;66;03m# OK\u001b[39;00m\n\u001b[1;32m----> 8\u001b[0m Contact(name\u001b[38;5;241m=\u001b[39m\u001b[38;5;124m\"\u001b[39m\u001b[38;5;124mX\u001b[39m\u001b[38;5;124m\"\u001b[39m, email\u001b[38;5;241m=\u001b[39m\u001b[38;5;124m\"\u001b[39m\u001b[38;5;124mnot-an-email\u001b[39m\u001b[38;5;124m\"\u001b[39m)\n",
      "File \u001b[1;32m~\\AppData\\Roaming\\Python\\Python311\\site-packages\\pydantic\\main.py:176\u001b[0m, in \u001b[0;36mBaseModel.__init__\u001b[1;34m(self, **data)\u001b[0m\n\u001b[0;32m    174\u001b[0m \u001b[38;5;66;03m# `__tracebackhide__` tells pytest and some other tools to omit this function from tracebacks\u001b[39;00m\n\u001b[0;32m    175\u001b[0m __tracebackhide__ \u001b[38;5;241m=\u001b[39m \u001b[38;5;28;01mTrue\u001b[39;00m\n\u001b[1;32m--> 176\u001b[0m \u001b[38;5;28mself\u001b[39m\u001b[38;5;241m.\u001b[39m__pydantic_validator__\u001b[38;5;241m.\u001b[39mvalidate_python(data, self_instance\u001b[38;5;241m=\u001b[39m\u001b[38;5;28mself\u001b[39m)\n",
      "\u001b[1;31mValidationError\u001b[0m: 1 validation error for Contact\nemail\n  value is not a valid email address: The email address is not valid. It must have exactly one @-sign. [type=value_error, input_value='not-an-email', input_type=str]"
     ]
    }
   ],
   "source": [
    "from pydantic import BaseModel, EmailStr\n",
    "\n",
    "class Contact(BaseModel):\n",
    "    name: str\n",
    "    email: EmailStr  # ✅ Email validation\n",
    "\n",
    "c = Contact(name=\"Ali\", email=\"ali@example.com\")  # OK\n",
    "Contact(name=\"X\", email=\"not-an-email\")  # ❌ raises ValidationError"
   ]
  },
  {
   "cell_type": "markdown",
   "id": "ae633b28",
   "metadata": {},
   "source": [
    "---\n",
    "\n",
    "## ⚙️ Default Values & Optional Fields\n"
   ]
  },
  {
   "cell_type": "code",
   "execution_count": 6,
   "id": "f23e03c0",
   "metadata": {},
   "outputs": [],
   "source": [
    "from typing import Optional\n",
    "\n",
    "class Config(BaseModel):\n",
    "    debug: bool = False\n",
    "    log_level: Optional[str] = \"info\""
   ]
  },
  {
   "cell_type": "markdown",
   "id": "cd8ca4e6",
   "metadata": {},
   "source": [
    "\n",
    "---\n",
    "\n",
    "## 🔄 JSON Support\n"
   ]
  },
  {
   "cell_type": "code",
   "execution_count": 8,
   "id": "15cf833d",
   "metadata": {},
   "outputs": [
    {
     "name": "stdout",
     "output_type": "stream",
     "text": [
      "{\"name\":\"Mary\",\"age\":24,\"email\":\"m@x.com\"}\n",
      "{'name': 'Mary', 'age': 24, 'email': 'm@x.com'}\n"
     ]
    }
   ],
   "source": [
    "u = User(name=\"Mary\", age=24, email=\"m@x.com\")\n",
    "print(u.json())  # Convert to JSON\n",
    "print(u.dict())  # Convert to dictionary"
   ]
  },
  {
   "cell_type": "markdown",
   "id": "1dcc6bf1",
   "metadata": {},
   "source": [
    "---\n",
    "\n",
    "## 📌 Validators (Advanced Feature)\n"
   ]
  },
  {
   "cell_type": "code",
   "execution_count": 9,
   "id": "7930bd4c",
   "metadata": {},
   "outputs": [
    {
     "name": "stderr",
     "output_type": "stream",
     "text": [
      "C:\\Users\\Mohammad\\AppData\\Local\\Temp\\ipykernel_2564\\2852935490.py:7: PydanticDeprecatedSince20: Pydantic V1 style `@validator` validators are deprecated. You should migrate to Pydantic V2 style `@field_validator` validators, see the migration guide for more details. Deprecated in Pydantic V2.0 to be removed in V3.0. See Pydantic V2 Migration Guide at https://errors.pydantic.dev/2.7/migration/\n",
      "  @validator(\"price\")\n"
     ]
    },
    {
     "ename": "ValidationError",
     "evalue": "1 validation error for Product\nprice\n  Value error, Price must be positive [type=value_error, input_value=-10, input_type=int]\n    For further information visit https://errors.pydantic.dev/2.7/v/value_error",
     "output_type": "error",
     "traceback": [
      "\u001b[1;31m---------------------------------------------------------------------------\u001b[0m",
      "\u001b[1;31mValidationError\u001b[0m                           Traceback (most recent call last)",
      "Cell \u001b[1;32mIn[9], line 14\u001b[0m\n\u001b[0;32m     11\u001b[0m         \u001b[38;5;28;01mreturn\u001b[39;00m v\n\u001b[0;32m     13\u001b[0m Product(name\u001b[38;5;241m=\u001b[39m\u001b[38;5;124m\"\u001b[39m\u001b[38;5;124mItem\u001b[39m\u001b[38;5;124m\"\u001b[39m, price\u001b[38;5;241m=\u001b[39m\u001b[38;5;241m20\u001b[39m)    \u001b[38;5;66;03m# OK\u001b[39;00m\n\u001b[1;32m---> 14\u001b[0m Product(name\u001b[38;5;241m=\u001b[39m\u001b[38;5;124m\"\u001b[39m\u001b[38;5;124mItem\u001b[39m\u001b[38;5;124m\"\u001b[39m, price\u001b[38;5;241m=\u001b[39m\u001b[38;5;241m-\u001b[39m\u001b[38;5;241m10\u001b[39m)\n",
      "File \u001b[1;32m~\\AppData\\Roaming\\Python\\Python311\\site-packages\\pydantic\\main.py:176\u001b[0m, in \u001b[0;36mBaseModel.__init__\u001b[1;34m(self, **data)\u001b[0m\n\u001b[0;32m    174\u001b[0m \u001b[38;5;66;03m# `__tracebackhide__` tells pytest and some other tools to omit this function from tracebacks\u001b[39;00m\n\u001b[0;32m    175\u001b[0m __tracebackhide__ \u001b[38;5;241m=\u001b[39m \u001b[38;5;28;01mTrue\u001b[39;00m\n\u001b[1;32m--> 176\u001b[0m \u001b[38;5;28mself\u001b[39m\u001b[38;5;241m.\u001b[39m__pydantic_validator__\u001b[38;5;241m.\u001b[39mvalidate_python(data, self_instance\u001b[38;5;241m=\u001b[39m\u001b[38;5;28mself\u001b[39m)\n",
      "\u001b[1;31mValidationError\u001b[0m: 1 validation error for Product\nprice\n  Value error, Price must be positive [type=value_error, input_value=-10, input_type=int]\n    For further information visit https://errors.pydantic.dev/2.7/v/value_error"
     ]
    }
   ],
   "source": [
    "from pydantic import BaseModel, validator\n",
    "\n",
    "class Product(BaseModel):\n",
    "    name: str\n",
    "    price: float\n",
    "\n",
    "    @validator(\"price\")\n",
    "    def price_must_be_positive(cls, v):\n",
    "        if v <= 0:\n",
    "            raise ValueError(\"Price must be positive\")\n",
    "        return v\n",
    "\n",
    "Product(name=\"Item\", price=20)    # OK\n",
    "Product(name=\"Item\", price=-10)   # ❌ Error"
   ]
  },
  {
   "cell_type": "markdown",
   "id": "5fbfc19b",
   "metadata": {},
   "source": [
    "---\n",
    "\n",
    "## 🧱 Nested Models\n"
   ]
  },
  {
   "cell_type": "code",
   "execution_count": 10,
   "id": "2e578e76",
   "metadata": {},
   "outputs": [],
   "source": [
    "class Address(BaseModel):\n",
    "    city: str\n",
    "    postal_code: str\n",
    "\n",
    "class Person(BaseModel):\n",
    "    name: str\n",
    "    address: Address\n",
    "\n",
    "p = Person(name=\"Nima\", address={\"city\": \"Tehran\", \"postal_code\": \"12345\"})"
   ]
  },
  {
   "cell_type": "markdown",
   "id": "fa9cf8c3",
   "metadata": {},
   "source": [
    "---\n",
    "\n",
    "## 🧠 Summary\n",
    "\n",
    "| Feature           | Description                                |\n",
    "|-------------------|--------------------------------------------|\n",
    "| `BaseModel`       | Base class for all Pydantic models         |\n",
    "| Runtime Validation| Checks data at object creation             |\n",
    "| Type Annotations  | Used for both documentation & enforcement  |\n",
    "| JSON-ready        | `.json()`, `.dict()`                        |\n",
    "| Validators        | Add custom logic to enforce constraints    |\n",
    "| Integration       | Perfect for APIs, configs, form parsers    |\n",
    "\n",
    "---\n",
    "\n",
    "> 💡 Pydantic is the **go-to solution** for modern Python apps that need **safe, structured data handling** — from APIs to configuration to data pipelines.\n"
   ]
  }
 ],
 "metadata": {
  "kernelspec": {
   "display_name": "Python 3 (ipykernel)",
   "language": "python",
   "name": "python3"
  },
  "language_info": {
   "codemirror_mode": {
    "name": "ipython",
    "version": 3
   },
   "file_extension": ".py",
   "mimetype": "text/x-python",
   "name": "python",
   "nbconvert_exporter": "python",
   "pygments_lexer": "ipython3",
   "version": "3.11.5"
  }
 },
 "nbformat": 4,
 "nbformat_minor": 5
}
