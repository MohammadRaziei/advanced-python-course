{
 "cells": [
  {
   "cell_type": "markdown",
   "id": "23b93bdf",
   "metadata": {},
   "source": [
    "# 📚 Deep Dive into Python's `typing` Module\n",
    "\n",
    "---\n",
    "\n",
    "## 🧠 What Is `typing`?\n",
    "\n",
    "The `typing` module is a **standard library** introduced in Python 3.5 (PEP 484) that enables you to use **complex and expressive type hints** in your Python code.\n",
    "\n",
    "> While basic types like `int`, `str`, and `bool` are built-in, `typing` helps you describe lists, dicts, unions, callables, custom generics, and more.\n",
    "\n",
    "---\n",
    "\n",
    "## 🔤 Importing `typing`"
   ]
  },
  {
   "cell_type": "code",
   "execution_count": 1,
   "id": "e27c671d",
   "metadata": {},
   "outputs": [],
   "source": [
    "from typing import List, Dict, Tuple, Union, Optional"
   ]
  },
  {
   "cell_type": "markdown",
   "id": "7f73fc5a",
   "metadata": {},
   "source": [
    "\n",
    "---\n",
    "\n",
    "## 📦 Common Type Hints in `typing`\n",
    "\n",
    "### 🔹 `List`, `Dict`, `Tuple`\n",
    "\n",
    "Use them to specify contents of collections."
   ]
  },
  {
   "cell_type": "code",
   "execution_count": 3,
   "id": "65e6481c",
   "metadata": {},
   "outputs": [],
   "source": [
    "from typing import List, Dict, Tuple\n",
    "\n",
    "names: List[str] = [\"Ali\", \"Mohammad\"]\n",
    "scores: Dict[str, int] = {\"Ali\": 20, \"Mohammad\": 19}\n",
    "point: Tuple[float, float] = (1.5, 3.2)"
   ]
  },
  {
   "cell_type": "markdown",
   "id": "5d69e592",
   "metadata": {},
   "source": [
    "---\n",
    "\n",
    "### 🔹 `Union` — Multiple Possible Types\n"
   ]
  },
  {
   "cell_type": "code",
   "execution_count": 4,
   "id": "bbd3a844",
   "metadata": {},
   "outputs": [],
   "source": [
    "from typing import Union\n",
    "\n",
    "def parse(data: Union[str, bytes]) -> str:\n",
    "    if isinstance(data, bytes):\n",
    "        return data.decode(\"utf-8\")\n",
    "    return data"
   ]
  },
  {
   "cell_type": "markdown",
   "id": "d7c4b6ed",
   "metadata": {},
   "source": [
    "---\n",
    "\n",
    "### 🔹 `Optional` — Shortcut for `Union[T, None]`\n"
   ]
  },
  {
   "cell_type": "code",
   "execution_count": 10,
   "id": "863d4512",
   "metadata": {},
   "outputs": [
    {
     "data": {
      "text/plain": [
       "'Hello, Guest'"
      ]
     },
     "execution_count": 10,
     "metadata": {},
     "output_type": "execute_result"
    }
   ],
   "source": [
    "from typing import Optional\n",
    "\n",
    "def greet(name: Optional[str]=\"\") -> str:\n",
    "    return f\"Hello, {name or 'Guest'}\"\n",
    "\n",
    "greet()"
   ]
  },
  {
   "cell_type": "markdown",
   "id": "5d4b7cb1",
   "metadata": {},
   "source": [
    "\n",
    "---\n",
    "\n",
    "### 🔹 `Any` — Disable Type Checking for That Variable\n"
   ]
  },
  {
   "cell_type": "code",
   "execution_count": 14,
   "id": "0c6b9368",
   "metadata": {},
   "outputs": [],
   "source": [
    "from typing import Any\n",
    "\n",
    "def log(data: Any):\n",
    "    print(f\"[LOG] {data}\")"
   ]
  },
  {
   "cell_type": "markdown",
   "id": "fd179a08",
   "metadata": {},
   "source": [
    "---\n",
    "\n",
    "### 🔹 `Callable` — Functions as First-Class Types"
   ]
  },
  {
   "cell_type": "code",
   "execution_count": 15,
   "id": "f33530bd",
   "metadata": {},
   "outputs": [
    {
     "name": "stdout",
     "output_type": "stream",
     "text": [
      "7\n"
     ]
    }
   ],
   "source": [
    "from typing import Callable\n",
    "\n",
    "def apply(f: Callable[[int, int], int], x: int, y: int) -> int:\n",
    "    return f(x, y)\n",
    "\n",
    "def add(a: int, b: int) -> int:\n",
    "    return a + b\n",
    "\n",
    "print(apply(add, 3, 4))  # 7"
   ]
  },
  {
   "cell_type": "markdown",
   "id": "d4aee302",
   "metadata": {},
   "source": [
    "---\n",
    "\n",
    "### 🔹 `Literal` (Python 3.8+)\n",
    "\n",
    "Restrict value to a fixed set of options.\n"
   ]
  },
  {
   "cell_type": "code",
   "execution_count": 16,
   "id": "b5ad1da9",
   "metadata": {},
   "outputs": [],
   "source": [
    "from typing import Literal\n",
    "\n",
    "def move(direction: Literal[\"up\", \"down\", \"left\", \"right\"]) -> None:\n",
    "    print(f\"Moving {direction}\")"
   ]
  },
  {
   "cell_type": "markdown",
   "id": "c7e8afe3",
   "metadata": {},
   "source": [
    "---\n",
    "\n",
    "### 🔹 `TypeAlias` (Python 3.10+)\n"
   ]
  },
  {
   "cell_type": "markdown",
   "id": "0fc96b13",
   "metadata": {},
   "source": [
    "Give a name to a complex type."
   ]
  },
  {
   "cell_type": "code",
   "execution_count": null,
   "id": "1f37a424",
   "metadata": {},
   "outputs": [],
   "source": [
    "from typing import TypeAlias\n",
    "\n",
    "Vector: TypeAlias = list[float]\n",
    "\n",
    "def magnitude(v: Vector) -> float:\n",
    "    return sum(x**2 for x in v) ** 0.5"
   ]
  },
  {
   "cell_type": "markdown",
   "id": "e3cd4003",
   "metadata": {},
   "source": [
    "---\n",
    "\n",
    "### 🔹 `TypedDict` (Python 3.8+)\n",
    "\n",
    "Typed dictionaries with fixed keys."
   ]
  },
  {
   "cell_type": "code",
   "execution_count": 19,
   "id": "69780580",
   "metadata": {},
   "outputs": [],
   "source": [
    "from typing import TypedDict\n",
    "\n",
    "class Person(TypedDict):\n",
    "    name: str\n",
    "    age: int\n",
    "\n",
    "def show(p: Person):\n",
    "    print(f\"{p['name']} is {p['age']} years old\")"
   ]
  },
  {
   "cell_type": "markdown",
   "id": "d879525a",
   "metadata": {},
   "source": [
    "---\n",
    "\n",
    "### 🔹 `Annotated` (Python 3.9+ via `typing_extensions`)\n",
    "\n",
    "Add metadata to type hints (e.g., for validation frameworks).\n"
   ]
  },
  {
   "cell_type": "code",
   "execution_count": 25,
   "id": "bd5c1bd9",
   "metadata": {},
   "outputs": [],
   "source": [
    "from typing import Annotated\n",
    "\n",
    "def process(x: Annotated[int, \"must be positive\"]) -> int:\n",
    "    return x * 2"
   ]
  },
  {
   "cell_type": "markdown",
   "id": "a655dd61",
   "metadata": {},
   "source": [
    "---\n",
    "\n",
    "### 🔹 `Final` — Immutable Variables or Methods\n"
   ]
  },
  {
   "cell_type": "code",
   "execution_count": 27,
   "id": "ab216e27",
   "metadata": {},
   "outputs": [],
   "source": [
    "from typing import Final\n",
    "\n",
    "MAX_USERS: Final = 100  # ❌ You shouldn't reassign this"
   ]
  },
  {
   "cell_type": "markdown",
   "id": "e1d6d80d",
   "metadata": {},
   "source": [
    "---\n",
    "\n",
    "### 🔹 `NoReturn` — Functions That Never Return\n"
   ]
  },
  {
   "cell_type": "code",
   "execution_count": 29,
   "id": "a2798631",
   "metadata": {},
   "outputs": [],
   "source": [
    "from typing import NoReturn\n",
    "\n",
    "def exit_app() -> NoReturn:\n",
    "    raise SystemExit(\"Goodbye\")"
   ]
  },
  {
   "cell_type": "markdown",
   "id": "2d0f5f09",
   "metadata": {},
   "source": [
    "\n",
    "---\n",
    "\n",
    "### 🔹 `Self` (Python 3.11+)\n",
    "\n",
    "Used in methods to refer to the instance itself.\n"
   ]
  },
  {
   "cell_type": "code",
   "execution_count": 31,
   "id": "ad16ece2",
   "metadata": {},
   "outputs": [],
   "source": [
    "from typing import Self\n",
    "\n",
    "class Fluent:\n",
    "    def do_something(self) -> Self:\n",
    "        print(\"Done\")\n",
    "        return self"
   ]
  },
  {
   "cell_type": "markdown",
   "id": "921f5991",
   "metadata": {},
   "source": [
    "---\n",
    "\n",
    "## 🚀 Python 3.9+ Shorthand\n",
    "\n",
    "From Python 3.9 onward, you can use built-in generic types without importing from `typing`:\n",
    "\n",
    "| Older              | Newer (3.9+)         |\n",
    "|--------------------|----------------------|\n",
    "| `List[int]`        | `list[int]`          |\n",
    "| `Dict[str, int]`   | `dict[str, int]`     |\n",
    "| `Tuple[int, str]`  | `tuple[int, str]`    |\n",
    "\n",
    "But `Callable`, `Union`, `Annotated` still come from `typing`.\n",
    "\n",
    "---\n",
    "\n",
    "## ✅ Summary\n",
    "\n",
    "| Feature         | Purpose                              |\n",
    "|-----------------|---------------------------------------|\n",
    "| `List`, `Dict`  | Typed collections                     |\n",
    "| `Union`, `Optional` | Multiple types or nullable         |\n",
    "| `Callable`      | Type hinting for functions            |\n",
    "| `Literal`       | Fixed string or value choices         |\n",
    "| `TypedDict`     | Typed structured dictionaries         |\n",
    "| `Final`         | Constants                             |\n",
    "| `Annotated`     | Metadata-based hints (e.g., validation) |\n",
    "\n",
    "---\n",
    "\n",
    "> 🧠 `typing` gives you the tools to write expressive, safe, and scalable Python code — especially in large projects and teams.\n",
    "\n",
    "Need examples with `mypy` or `pydantic`, or how to combine annotations with decorators and classes? Just say the word! 🧪🔠\n",
    "```\n"
   ]
  }
 ],
 "metadata": {
  "kernelspec": {
   "display_name": "Python 3 (ipykernel)",
   "language": "python",
   "name": "python3"
  },
  "language_info": {
   "codemirror_mode": {
    "name": "ipython",
    "version": 3
   },
   "file_extension": ".py",
   "mimetype": "text/x-python",
   "name": "python",
   "nbconvert_exporter": "python",
   "pygments_lexer": "ipython3",
   "version": "3.11.5"
  }
 },
 "nbformat": 4,
 "nbformat_minor": 5
}
