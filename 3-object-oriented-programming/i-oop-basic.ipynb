{
 "cells": [
  {
   "cell_type": "markdown",
   "metadata": {},
   "source": [
    "# Introduction to Object-Oriented Programming (OOP) in Python\n",
    "\n",
    "## What is Object-Oriented Programming?\n",
    "\n",
    "Object-Oriented Programming (OOP) is a programming paradigm centered around **objects**. Objects are instances of **classes**, which are blueprints for creating data structures that contain both data (attributes) and functions (methods).\n",
    "\n",
    "OOP helps in organizing code, making it reusable, modular, and easier to understand. The four key principles of OOP are:\n",
    "\n",
    "- **Encapsulation**\n",
    "- **Abstraction**\n",
    "- **Inheritance**\n",
    "- **Polymorphism**\n",
    "\n",
    "In this lesson, we focus on **Encapsulation**, and how to create and use a simple class in Python.\n"
   ]
  },
  {
   "cell_type": "markdown",
   "metadata": {},
   "source": [
    "\n",
    "## Encapsulation\n",
    "\n",
    "**Encapsulation** means bundling the data (attributes) and the methods that operate on the data into a single unit: a class. It also involves restricting direct access to some of an object’s components, which is often done by using private variables.\n",
    "\n",
    "This ensures that the internal representation of the object is hidden from the outside and can only be changed through defined methods.\n",
    "\n",
    "![Encapsulation](assets/encapsulation.png \"Title\")\n"
   ]
  },
  {
   "cell_type": "markdown",
   "metadata": {},
   "source": [
    "## Example: The `Person` Class\n",
    "\n",
    "Let’s define a simple `Person` class that stores the following information:\n",
    "\n",
    "- First name\n",
    "- Last name\n",
    "- ID number\n",
    "- Date of birth\n",
    "\n",
    "It also has two methods:\n",
    "- `greet()` – introduces the person\n",
    "- `call()` – simulates making a phone call to the person\n"
   ]
  },
  {
   "cell_type": "code",
   "execution_count": 1,
   "metadata": {
    "vscode": {
     "languageId": "plaintext"
    }
   },
   "outputs": [],
   "source": [
    "class Person:\n",
    "    def __init__(self, first_name, last_name, id_number, birth_date):\n",
    "        self.first_name = first_name\n",
    "        self.last_name = last_name\n",
    "        self._id_number = id_number        # protected attribute (encapsulation)\n",
    "        self.birth_date = birth_date\n",
    "\n",
    "    def greet(self):\n",
    "        print(f\"Hello, my name is {self.first_name} {self.last_name}.\")\n",
    "        \n",
    "    def call(self):\n",
    "        print(f\"Calling {self.first_name} {self.last_name}...\")\n",
    "\n",
    "    def get_id(self):\n",
    "        return self._id_number  # controlled access through a method\n"
   ]
  },
  {
   "cell_type": "code",
   "execution_count": 2,
   "metadata": {},
   "outputs": [
    {
     "name": "stdout",
     "output_type": "stream",
     "text": [
      "Hello, my name is Mohammad Raziei.\n",
      "Calling Mohammad Raziei...\n",
      "123456789\n"
     ]
    }
   ],
   "source": [
    "person1 = Person(\"Mohammad\", \"Raziei\", \"123456789\", \"1996-08-15\")\n",
    "\n",
    "person1.greet()    # Output: Hello, my name is Mohammad Raziei.\n",
    "person1.call()     # Output: Calling Mohammad Raziei...\n",
    "\n",
    "# Accessing ID number via a method (not directly)\n",
    "print(person1.get_id())  # Output: 123456789\n"
   ]
  },
  {
   "cell_type": "code",
   "execution_count": 3,
   "metadata": {},
   "outputs": [
    {
     "name": "stdout",
     "output_type": "stream",
     "text": [
      "Mohammad\n"
     ]
    }
   ],
   "source": [
    "print(person1.first_name)"
   ]
  },
  {
   "cell_type": "markdown",
   "metadata": {},
   "source": [
    "> 🔐 Note: The `_id_number` is a **protected attribute**, meaning it is intended to be used only within the class and its subclasses. Although it can technically be accessed from outside, it is a convention in Python to treat it as non-public. This is a common example of **encapsulation**."
   ]
  },
  {
   "cell_type": "code",
   "execution_count": 4,
   "metadata": {},
   "outputs": [],
   "source": [
    "# person1._id_number # ❌ This will raise an error (private method)"
   ]
  },
  {
   "cell_type": "markdown",
   "metadata": {},
   "source": [
    "\n",
    "## Summary\n",
    "\n",
    "- OOP structures code using **classes** and **objects**.\n",
    "- **Encapsulation** hides internal data and exposes only necessary parts through methods.\n",
    "- The `Person` class shows how we define a class, use attributes and methods, and apply encapsulation using private variables.\n"
   ]
  },
  {
   "cell_type": "markdown",
   "metadata": {},
   "source": [
    "# Inheritance in Python\n",
    "\n",
    "## What is Inheritance?\n",
    "\n",
    "**Inheritance** is one of the core concepts of Object-Oriented Programming (OOP). It allows a class (called the **child** or **subclass**) to inherit properties and behaviors (attributes and methods) from another class (called the **parent** or **superclass**).\n",
    "\n",
    "This promotes **code reuse** and helps in building a **hierarchical structure** of classes. The child class can also **override** methods from the parent class to provide specific behavior.\n"
   ]
  },
  {
   "cell_type": "markdown",
   "metadata": {},
   "source": [
    "## Example: The `Student` Class (A Subclass of `Person`)\n",
    "\n",
    "Let’s create a `Student` class that inherits from the `Person` class. It overrides the `call()` method to show different behavior and defines a private method to store the student number."
   ]
  },
  {
   "cell_type": "code",
   "execution_count": 5,
   "metadata": {},
   "outputs": [],
   "source": [
    "class Person:\n",
    "    def __init__(self, first_name, last_name, id_number, birth_date):\n",
    "        self.first_name = first_name\n",
    "        self.last_name = last_name\n",
    "        self._id_number = id_number\n",
    "        self.birth_date = birth_date\n",
    "\n",
    "    def greet(self):\n",
    "        print(f\"Hello, my name is {self.first_name} {self.last_name}.\")\n",
    "\n",
    "    def call(self):\n",
    "        print(f\"Calling {self.first_name} {self.last_name}...\")\n",
    "\n",
    "    def get_id(self):\n",
    "        return self._id_number"
   ]
  },
  {
   "cell_type": "markdown",
   "metadata": {},
   "source": [
    "### Defining the Subclass"
   ]
  },
  {
   "cell_type": "code",
   "execution_count": 6,
   "metadata": {},
   "outputs": [],
   "source": [
    "class Student(Person):\n",
    "    def __init__(self, first_name, last_name, id_number, birth_date, student_number):\n",
    "        super().__init__(first_name, last_name, id_number, birth_date)\n",
    "        self.__std_number = student_number  # private method\n",
    "\n",
    "    def call(self):\n",
    "        print(f\"Connecting to student {self.first_name} {self.last_name}...\")\n",
    "\n",
    "    def get_std_number(self):\n",
    "        return self.__std_number"
   ]
  },
  {
   "cell_type": "markdown",
   "metadata": {},
   "source": [
    "### Using the Subclass"
   ]
  },
  {
   "cell_type": "code",
   "execution_count": 7,
   "metadata": {},
   "outputs": [
    {
     "name": "stdout",
     "output_type": "stream",
     "text": [
      "Hello, my name is Ali Ahmadi.\n",
      "Connecting to student Ali Ahmadi...\n"
     ]
    }
   ],
   "source": [
    "s1 = Student(\"Ali\", \"Ahmadi\", \"987654321\", \"2002-04-20\", \"STU123\")\n",
    "\n",
    "s1.greet()   # Inherited from Person\n",
    "s1.call()    # Overridden in Student\n",
    "\n",
    "# s1.__std_number  ❌ This will raise an error (private method)"
   ]
  },
  {
   "cell_type": "markdown",
   "metadata": {},
   "source": [
    "---\n",
    "\n",
    "> ⚠️ **Note:** The method `__std_number()` is a **private method**. In Python, private methods (starting with double underscore `__`) **cannot be called from outside the class**. This is part of encapsulation to protect internal implementation details.\n",
    "\n",
    "---"
   ]
  },
  {
   "cell_type": "markdown",
   "metadata": {},
   "source": [
    "## Summary\n",
    "\n",
    "- **Inheritance** allows one class to reuse code from another.\n",
    "- The `Student` class **inherits** the `greet()` method from `Person`.\n",
    "- It **overrides** the `call()` method to implement its own version.\n",
    "- Private members like `__std_number` are hidden and cannot be accessed directly from outside the class."
   ]
  },
  {
   "cell_type": "markdown",
   "metadata": {},
   "source": [
    "## Inheritance and Private Methods: A Deeper Example\n",
    "\n",
    "Let’s define a class called `Representative` that inherits from `Student`. This class adds a new attribute `role` to indicate the student’s representative role (e.g., \"IEEE member\").\n",
    "\n",
    "We’ll also try to access the private method `__std_number()` defined in the `Student` class from within the `Representative` class.\n",
    "\n",
    "---\n",
    "\n",
    "### Code Example\n"
   ]
  },
  {
   "cell_type": "code",
   "execution_count": 8,
   "metadata": {},
   "outputs": [],
   "source": [
    "class Representative(Student):\n",
    "    def __init__(self, first_name, last_name, id_number, birth_date, student_number, role):\n",
    "        super().__init__(first_name, last_name, id_number, birth_date, student_number)\n",
    "        self.role = role\n",
    "\n",
    "    def show_role_and_student_number(self):\n",
    "        print(f\"{self.first_name} is a representative of role: {self.role}\")\n",
    "        \n",
    "        # Trying to access private method from the parent class:\n",
    "        try:\n",
    "            print(\"Student number:\", self.__std_number)  # ❌ Will raise an AttributeError\n",
    "        except AttributeError as e:\n",
    "            print(\"Error:\", e)\n"
   ]
  },
  {
   "cell_type": "code",
   "execution_count": 9,
   "metadata": {},
   "outputs": [
    {
     "name": "stdout",
     "output_type": "stream",
     "text": [
      "Hello, my name is Amir Karimi.\n",
      "Connecting to student Amir Karimi...\n",
      "Amir is a representative of role: IEEE\n",
      "Error: 'Representative' object has no attribute '_Representative__std_number'\n"
     ]
    }
   ],
   "source": [
    "rep = Representative(\"Amir\", \"Karimi\", \"1122334455\", \"2000-01-01\", \"STU890\", \"IEEE\")\n",
    "\n",
    "rep.greet()   # inherited from Person\n",
    "rep.call()    # overridden in Student\n",
    "rep.show_role_and_student_number()"
   ]
  },
  {
   "cell_type": "markdown",
   "metadata": {},
   "source": [
    "---\n",
    "\n",
    "> 🚫 **Note:** Even though `Representative` is a subclass of `Student`, it still **cannot access the private method** `__std_number()` defined in `Student`. This shows how Python’s name mangling protects private members from being accessed outside their own class.\n",
    "\n",
    "---"
   ]
  },
  {
   "cell_type": "markdown",
   "metadata": {},
   "source": [
    "\n",
    "## Summary\n",
    "\n",
    "- Inheritance allows `Representative` to reuse and extend the `Student` class.\n",
    "- Private methods like `__std_number` are **not inherited** or accessible in subclasses.\n",
    "- This behavior enforces strong **encapsulation** and protects internal details.\n"
   ]
  },
  {
   "cell_type": "markdown",
   "metadata": {},
   "source": [
    "## 🧰 Toolbox Tip: Using `rich` to Beautify Your Error Messages\n",
    "\n",
    "Sometimes when you're working with object-oriented code, you may run into exceptions (like trying to call a private method). Normally, Python's error messages are plain and hard to read. The [`rich`](https://github.com/Textualize/rich) library makes those error messages much clearer and more colorful.\n",
    "\n",
    "Here’s how you can use it to display an error when trying to access a private method:\n",
    "\n",
    "### ❌ Problem Example: Accessing a Private Method"
   ]
  },
  {
   "cell_type": "code",
   "execution_count": 10,
   "metadata": {},
   "outputs": [],
   "source": [
    "# from rich.traceback import install\n",
    "\n",
    "# install()  # Enable pretty tracebacks in the terminal or script\n",
    "\n",
    "from rich.console import Console\n",
    "\n",
    "console = Console()\n",
    "\n",
    "\n",
    "class Representative(Student):\n",
    "    def __init__(self, first_name, last_name, id_number, birth_date, student_number, role):\n",
    "        super().__init__(first_name, last_name, id_number, birth_date, student_number)\n",
    "        self.role = role\n",
    "\n",
    "    def show_role_and_student_number(self):\n",
    "        print(f\"{self.first_name} is a representative of role: {self.role}\")\n",
    "        \n",
    "        # Trying to access private method from the parent class:\n",
    "        try:\n",
    "            print(self._id_number)\n",
    "            print(self.__std_number)\n",
    "        except Exception as e:\n",
    "            console.print(\"[bold red]Error:[/bold red] You tried to access a private method!\")\n",
    "            console.print_exception(show_locals=True)\n"
   ]
  },
  {
   "cell_type": "code",
   "execution_count": 11,
   "metadata": {},
   "outputs": [
    {
     "name": "stdout",
     "output_type": "stream",
     "text": [
      "Hello, my name is Amir Karimi.\n",
      "Connecting to student Amir Karimi...\n",
      "Amir is a representative of role: IEEE\n",
      "1122334455\n"
     ]
    },
    {
     "data": {
      "text/html": [
       "<pre style=\"white-space:pre;overflow-x:auto;line-height:normal;font-family:Menlo,'DejaVu Sans Mono',consolas,'Courier New',monospace\"><span style=\"color: #800000; text-decoration-color: #800000; font-weight: bold\">Error:</span> You tried to access a private method!\n",
       "</pre>\n"
      ],
      "text/plain": [
       "\u001b[1;31mError:\u001b[0m You tried to access a private method!\n"
      ]
     },
     "metadata": {},
     "output_type": "display_data"
    },
    {
     "data": {
      "text/html": [
       "<pre style=\"white-space:pre;overflow-x:auto;line-height:normal;font-family:Menlo,'DejaVu Sans Mono',consolas,'Courier New',monospace\"><span style=\"color: #800000; text-decoration-color: #800000\">╭─────────────────────────────── </span><span style=\"color: #800000; text-decoration-color: #800000; font-weight: bold\">Traceback </span><span style=\"color: #bf7f7f; text-decoration-color: #bf7f7f; font-weight: bold\">(most recent call last)</span><span style=\"color: #800000; text-decoration-color: #800000\"> ────────────────────────────────╮</span>\n",
       "<span style=\"color: #800000; text-decoration-color: #800000\">│</span> in <span style=\"color: #00ff00; text-decoration-color: #00ff00\">show_role_and_student_number</span>:<span style=\"color: #0000ff; text-decoration-color: #0000ff\">19</span>                                                               <span style=\"color: #800000; text-decoration-color: #800000\">│</span>\n",
       "<span style=\"color: #800000; text-decoration-color: #800000\">│</span>                                                                                                  <span style=\"color: #800000; text-decoration-color: #800000\">│</span>\n",
       "<span style=\"color: #800000; text-decoration-color: #800000\">│</span>   <span style=\"color: #7f7f7f; text-decoration-color: #7f7f7f\">16 </span><span style=\"color: #7f7f7f; text-decoration-color: #7f7f7f\">│   │   </span><span style=\"color: #7f7f7f; text-decoration-color: #7f7f7f\"># Trying to access private method from the parent class:</span>                            <span style=\"color: #800000; text-decoration-color: #800000\">│</span>\n",
       "<span style=\"color: #800000; text-decoration-color: #800000\">│</span>   <span style=\"color: #7f7f7f; text-decoration-color: #7f7f7f\">17 </span><span style=\"color: #7f7f7f; text-decoration-color: #7f7f7f\">│   │   </span><span style=\"color: #0000ff; text-decoration-color: #0000ff\">try</span>:                                                                                <span style=\"color: #800000; text-decoration-color: #800000\">│</span>\n",
       "<span style=\"color: #800000; text-decoration-color: #800000\">│</span>   <span style=\"color: #7f7f7f; text-decoration-color: #7f7f7f\">18 </span><span style=\"color: #7f7f7f; text-decoration-color: #7f7f7f\">│   │   │   </span><span style=\"color: #00ffff; text-decoration-color: #00ffff\">print</span>(<span style=\"color: #00ffff; text-decoration-color: #00ffff\">self</span>._id_number)                                                          <span style=\"color: #800000; text-decoration-color: #800000\">│</span>\n",
       "<span style=\"color: #800000; text-decoration-color: #800000\">│</span> <span style=\"color: #800000; text-decoration-color: #800000\">❱ </span>19 <span style=\"color: #7f7f7f; text-decoration-color: #7f7f7f\">│   │   │   </span><span style=\"color: #00ffff; text-decoration-color: #00ffff\">print</span>(<span style=\"color: #00ffff; text-decoration-color: #00ffff\">self</span>.__std_number)                                                        <span style=\"color: #800000; text-decoration-color: #800000\">│</span>\n",
       "<span style=\"color: #800000; text-decoration-color: #800000\">│</span>   <span style=\"color: #7f7f7f; text-decoration-color: #7f7f7f\">20 </span><span style=\"color: #7f7f7f; text-decoration-color: #7f7f7f\">│   │   </span><span style=\"color: #0000ff; text-decoration-color: #0000ff\">except</span> <span style=\"color: #00ffff; text-decoration-color: #00ffff\">Exception</span> <span style=\"color: #0000ff; text-decoration-color: #0000ff\">as</span> e:                                                              <span style=\"color: #800000; text-decoration-color: #800000\">│</span>\n",
       "<span style=\"color: #800000; text-decoration-color: #800000\">│</span>   <span style=\"color: #7f7f7f; text-decoration-color: #7f7f7f\">21 </span><span style=\"color: #7f7f7f; text-decoration-color: #7f7f7f\">│   │   │   </span>console.print(<span style=\"color: #808000; text-decoration-color: #808000\">\"[bold red]Error:[/bold red] You tried to access a private met</span>    <span style=\"color: #800000; text-decoration-color: #800000\">│</span>\n",
       "<span style=\"color: #800000; text-decoration-color: #800000\">│</span>   <span style=\"color: #7f7f7f; text-decoration-color: #7f7f7f\">22 </span><span style=\"color: #7f7f7f; text-decoration-color: #7f7f7f\">│   │   │   </span>console.print_exception(show_locals=<span style=\"color: #0000ff; text-decoration-color: #0000ff\">True</span>)                                       <span style=\"color: #800000; text-decoration-color: #800000\">│</span>\n",
       "<span style=\"color: #800000; text-decoration-color: #800000\">│</span>                                                                                                  <span style=\"color: #800000; text-decoration-color: #800000\">│</span>\n",
       "<span style=\"color: #800000; text-decoration-color: #800000\">│</span> <span style=\"color: #808000; text-decoration-color: #808000\">╭─────────────────────────────────────────── locals ───────────────────────────────────────────╮</span> <span style=\"color: #800000; text-decoration-color: #800000\">│</span>\n",
       "<span style=\"color: #800000; text-decoration-color: #800000\">│</span> <span style=\"color: #808000; text-decoration-color: #808000\">│</span>    e = <span style=\"color: #800080; text-decoration-color: #800080; font-weight: bold\">AttributeError</span><span style=\"font-weight: bold\">(</span><span style=\"color: #808000; text-decoration-color: #808000\">\"'Representative' object has no attribute </span>                             <span style=\"color: #808000; text-decoration-color: #808000\">│</span> <span style=\"color: #800000; text-decoration-color: #800000\">│</span>\n",
       "<span style=\"color: #800000; text-decoration-color: #800000\">│</span> <span style=\"color: #808000; text-decoration-color: #808000\">│</span>        <span style=\"color: #808000; text-decoration-color: #808000\">'_Representative__std_number'\"</span><span style=\"font-weight: bold\">)</span>                                                       <span style=\"color: #808000; text-decoration-color: #808000\">│</span> <span style=\"color: #800000; text-decoration-color: #800000\">│</span>\n",
       "<span style=\"color: #800000; text-decoration-color: #800000\">│</span> <span style=\"color: #808000; text-decoration-color: #808000\">│</span> self = <span style=\"font-weight: bold\">&lt;</span><span style=\"color: #ff00ff; text-decoration-color: #ff00ff; font-weight: bold\">__main__.Representative</span><span style=\"color: #000000; text-decoration-color: #000000\"> object at </span><span style=\"color: #0000ff; text-decoration-color: #0000ff\">0x000001998849D250</span><span style=\"font-weight: bold\">&gt;</span>                                <span style=\"color: #808000; text-decoration-color: #808000\">│</span> <span style=\"color: #800000; text-decoration-color: #800000\">│</span>\n",
       "<span style=\"color: #800000; text-decoration-color: #800000\">│</span> <span style=\"color: #808000; text-decoration-color: #808000\">╰──────────────────────────────────────────────────────────────────────────────────────────────╯</span> <span style=\"color: #800000; text-decoration-color: #800000\">│</span>\n",
       "<span style=\"color: #800000; text-decoration-color: #800000\">╰──────────────────────────────────────────────────────────────────────────────────────────────────╯</span>\n",
       "<span style=\"color: #ff0000; text-decoration-color: #ff0000; font-weight: bold\">AttributeError: </span><span style=\"color: #008000; text-decoration-color: #008000\">'Representative'</span> object has no attribute <span style=\"color: #008000; text-decoration-color: #008000\">'_Representative__std_number'</span>\n",
       "</pre>\n"
      ],
      "text/plain": [
       "\u001b[31m╭─\u001b[0m\u001b[31m──────────────────────────────\u001b[0m\u001b[31m \u001b[0m\u001b[1;31mTraceback \u001b[0m\u001b[1;2;31m(most recent call last)\u001b[0m\u001b[31m \u001b[0m\u001b[31m───────────────────────────────\u001b[0m\u001b[31m─╮\u001b[0m\n",
       "\u001b[31m│\u001b[0m in \u001b[92mshow_role_and_student_number\u001b[0m:\u001b[94m19\u001b[0m                                                               \u001b[31m│\u001b[0m\n",
       "\u001b[31m│\u001b[0m                                                                                                  \u001b[31m│\u001b[0m\n",
       "\u001b[31m│\u001b[0m   \u001b[2m16 \u001b[0m\u001b[2m│   │   \u001b[0m\u001b[2m# Trying to access private method from the parent class:\u001b[0m                            \u001b[31m│\u001b[0m\n",
       "\u001b[31m│\u001b[0m   \u001b[2m17 \u001b[0m\u001b[2m│   │   \u001b[0m\u001b[94mtry\u001b[0m:                                                                                \u001b[31m│\u001b[0m\n",
       "\u001b[31m│\u001b[0m   \u001b[2m18 \u001b[0m\u001b[2m│   │   │   \u001b[0m\u001b[96mprint\u001b[0m(\u001b[96mself\u001b[0m._id_number)                                                          \u001b[31m│\u001b[0m\n",
       "\u001b[31m│\u001b[0m \u001b[31m❱ \u001b[0m19 \u001b[2m│   │   │   \u001b[0m\u001b[96mprint\u001b[0m(\u001b[96mself\u001b[0m.__std_number)                                                        \u001b[31m│\u001b[0m\n",
       "\u001b[31m│\u001b[0m   \u001b[2m20 \u001b[0m\u001b[2m│   │   \u001b[0m\u001b[94mexcept\u001b[0m \u001b[96mException\u001b[0m \u001b[94mas\u001b[0m e:                                                              \u001b[31m│\u001b[0m\n",
       "\u001b[31m│\u001b[0m   \u001b[2m21 \u001b[0m\u001b[2m│   │   │   \u001b[0mconsole.print(\u001b[33m\"\u001b[0m\u001b[33m[bold red]Error:[/bold red] You tried to access a private met\u001b[0m    \u001b[31m│\u001b[0m\n",
       "\u001b[31m│\u001b[0m   \u001b[2m22 \u001b[0m\u001b[2m│   │   │   \u001b[0mconsole.print_exception(show_locals=\u001b[94mTrue\u001b[0m)                                       \u001b[31m│\u001b[0m\n",
       "\u001b[31m│\u001b[0m                                                                                                  \u001b[31m│\u001b[0m\n",
       "\u001b[31m│\u001b[0m \u001b[33m╭─\u001b[0m\u001b[33m──────────────────────────────────────────\u001b[0m\u001b[33m locals \u001b[0m\u001b[33m──────────────────────────────────────────\u001b[0m\u001b[33m─╮\u001b[0m \u001b[31m│\u001b[0m\n",
       "\u001b[31m│\u001b[0m \u001b[33m│\u001b[0m    e = \u001b[1;35mAttributeError\u001b[0m\u001b[1m(\u001b[0m\u001b[33m\"'Representative' object has no attribute \u001b[0m                             \u001b[33m│\u001b[0m \u001b[31m│\u001b[0m\n",
       "\u001b[31m│\u001b[0m \u001b[33m│\u001b[0m        \u001b[33m'_Representative__std_number'\"\u001b[0m\u001b[1m)\u001b[0m                                                       \u001b[33m│\u001b[0m \u001b[31m│\u001b[0m\n",
       "\u001b[31m│\u001b[0m \u001b[33m│\u001b[0m self = \u001b[1m<\u001b[0m\u001b[1;95m__main__.Representative\u001b[0m\u001b[39m object at \u001b[0m\u001b[94m0x000001998849D250\u001b[0m\u001b[1m>\u001b[0m                                \u001b[33m│\u001b[0m \u001b[31m│\u001b[0m\n",
       "\u001b[31m│\u001b[0m \u001b[33m╰──────────────────────────────────────────────────────────────────────────────────────────────╯\u001b[0m \u001b[31m│\u001b[0m\n",
       "\u001b[31m╰──────────────────────────────────────────────────────────────────────────────────────────────────╯\u001b[0m\n",
       "\u001b[1;91mAttributeError: \u001b[0m\u001b[32m'Representative'\u001b[0m object has no attribute \u001b[32m'_Representative__std_number'\u001b[0m\n"
      ]
     },
     "metadata": {},
     "output_type": "display_data"
    }
   ],
   "source": [
    "rep = Representative(\"Amir\", \"Karimi\", \"1122334455\", \"2000-01-01\", \"STU890\", \"IEEE\")\n",
    "\n",
    "rep.greet()   # inherited from Person\n",
    "rep.call()    # overridden in Student\n",
    "rep.show_role_and_student_number()"
   ]
  },
  {
   "cell_type": "markdown",
   "metadata": {},
   "source": [
    "> 🧠 This is a great way to **visually highlight errors** and understand the problem faster during development."
   ]
  },
  {
   "cell_type": "markdown",
   "metadata": {},
   "source": [
    "The `show_locals=True` argument tells `rich` to display **local variables** at the point where the exception occurred, which helps in debugging by showing the internal state of the program."
   ]
  },
  {
   "cell_type": "markdown",
   "metadata": {},
   "source": [
    "\n",
    "### ✨ What is `rich`?\n",
    "\n",
    "[`rich`](https://github.com/Textualize/rich) is a Python library for **rich text and beautiful formatting in the terminal**. It supports:\n",
    "\n",
    "- Syntax highlighting\n",
    "- Pretty tracebacks\n",
    "- Tables, progress bars, markdown rendering, and more\n",
    "- Great for debugging, logging, and building CLI tools\n",
    "\n",
    "---\n",
    "\n",
    "### ✅ More Cool Examples"
   ]
  },
  {
   "cell_type": "code",
   "execution_count": 12,
   "metadata": {},
   "outputs": [
    {
     "data": {
      "text/html": [
       "<pre style=\"white-space:pre;overflow-x:auto;line-height:normal;font-family:Menlo,'DejaVu Sans Mono',consolas,'Courier New',monospace\"><span style=\"color: #008000; text-decoration-color: #008000; font-weight: bold\">Success!</span>\n",
       "</pre>\n"
      ],
      "text/plain": [
       "\u001b[1;32mSuccess!\u001b[0m\n"
      ]
     },
     "metadata": {},
     "output_type": "display_data"
    },
    {
     "data": {
      "text/html": [
       "<pre style=\"white-space:pre;overflow-x:auto;line-height:normal;font-family:Menlo,'DejaVu Sans Mono',consolas,'Courier New',monospace\"><span style=\"color: #808000; text-decoration-color: #808000; font-weight: bold\">Warning!</span>\n",
       "</pre>\n"
      ],
      "text/plain": [
       "\u001b[1;33mWarning!\u001b[0m\n"
      ]
     },
     "metadata": {},
     "output_type": "display_data"
    }
   ],
   "source": [
    "#### Colored Console Output\n",
    "from rich.console import Console\n",
    "\n",
    "console = Console()\n",
    "console.print(\"Success!\", style=\"bold green\")\n",
    "console.print(\"Warning!\", style=\"bold yellow\")"
   ]
  },
  {
   "cell_type": "markdown",
   "metadata": {},
   "source": [
    "---\n",
    "\n",
    "### 📖 Learn More\n",
    "\n",
    "- GitHub: [Textualize/rich](https://github.com/Textualize/rich)  \n",
    "- Documentation: [https://rich.readthedocs.io](https://rich.readthedocs.io)\n",
    "\n",
    "---\n",
    "\n",
    "> ✨ Use `rich` to make your code not only work — but **look great while it runs**!"
   ]
  },
  {
   "cell_type": "markdown",
   "metadata": {},
   "source": [
    "# 🧬 Polymorphism in Python\n",
    "\n",
    "## What is Polymorphism?\n",
    "\n",
    "**Polymorphism** is one of the core principles of Object-Oriented Programming (OOP).  \n",
    "The word comes from Greek: *poly* = many, *morph* = form — meaning **\"many forms.\"**\n",
    "\n",
    "In programming, **polymorphism** allows different classes to provide **different implementations** of the same method, even though they share the same name. This makes your code **flexible, reusable, and extensible**.\n",
    "\n",
    "---\n",
    "\n",
    "## Example 1: Method with the Same Name in Different Classes\n",
    "\n",
    "Let’s say we have two classes, `Person` and `Dog`. Both have a `speak()` method, but each one behaves differently.\n"
   ]
  },
  {
   "cell_type": "code",
   "execution_count": 13,
   "metadata": {},
   "outputs": [
    {
     "name": "stdout",
     "output_type": "stream",
     "text": [
      "Hello, I’m a person.\n",
      "Woof! I’m a dog.\n"
     ]
    }
   ],
   "source": [
    "class Person:\n",
    "    def speak(self):\n",
    "        print(\"Hello, I’m a person.\")\n",
    "\n",
    "class Dog:\n",
    "    def speak(self):\n",
    "        print(\"Woof! I’m a dog.\")\n",
    "\n",
    "### Using Polymorphism:\n",
    "\n",
    "def make_it_speak(entity):\n",
    "    entity.speak()\n",
    "\n",
    "p = Person()\n",
    "d = Dog()\n",
    "\n",
    "make_it_speak(p)  # Output: Hello, I’m a person.\n",
    "make_it_speak(d)  # Output: Woof! I’m a dog."
   ]
  },
  {
   "cell_type": "markdown",
   "metadata": {},
   "source": [
    "> 💡 Even though `p` and `d` are from different classes, they both respond to `speak()`. That’s polymorphism in action!\n",
    "\n",
    "---\n",
    "\n",
    "## Example 2: Polymorphism with Inheritance\n",
    "\n",
    "Let’s see how polymorphism works when classes **inherit from the same parent**:"
   ]
  },
  {
   "cell_type": "code",
   "execution_count": 2,
   "metadata": {},
   "outputs": [
    {
     "name": "stdout",
     "output_type": "stream",
     "text": [
      "Area: 16\n",
      "Area: 28.259999999999998\n"
     ]
    }
   ],
   "source": [
    "class Shape:\n",
    "    def area(self):\n",
    "        pass  # abstract method (intended to be overridden)\n",
    "\n",
    "class Square(Shape):\n",
    "    def __init__(self, side):\n",
    "        self.side = side\n",
    "\n",
    "    def area(self):\n",
    "        return self.side * self.side\n",
    "\n",
    "class Circle(Shape):\n",
    "    def __init__(self, radius):\n",
    "        self.radius = radius\n",
    "\n",
    "    def area(self):\n",
    "        return 3.14 * self.radius * self.radius\n",
    "\n",
    "### Using Polymorphism:\n",
    "\n",
    "shapes = [Square(4), Circle(3)]\n",
    "\n",
    "for shape in shapes:\n",
    "    print(f\"Area: {shape.area()}\")\n"
   ]
  },
  {
   "cell_type": "markdown",
   "metadata": {},
   "source": [
    "## Why Use Polymorphism?\n",
    "\n",
    "- Clean and scalable code\n",
    "- Easy to add new classes without changing existing logic\n",
    "- Ideal for building reusable components and frameworks\n",
    "\n",
    "---\n",
    "\n",
    "## ✅ Summary\n",
    "\n",
    "- **Polymorphism** means many forms — same method name, different behavior.\n",
    "- It works with unrelated classes or inherited classes.\n",
    "- Helps in writing flexible and reusable code.\n",
    "\n",
    "---"
   ]
  },
  {
   "cell_type": "markdown",
   "metadata": {},
   "source": [
    "### 🔧 Bonus Tip\n",
    "\n",
    "In Python, polymorphism is **duck-typed**:  \n",
    "> \"If it walks like a duck and quacks like a duck, it's a duck.\"  \n",
    "As long as an object has the method you need, Python will call it — no need for strict typing."
   ]
  }
 ],
 "metadata": {
  "kernelspec": {
   "display_name": "Python 3 (ipykernel)",
   "language": "python",
   "name": "python3"
  },
  "language_info": {
   "codemirror_mode": {
    "name": "ipython",
    "version": 3
   },
   "file_extension": ".py",
   "mimetype": "text/x-python",
   "name": "python",
   "nbconvert_exporter": "python",
   "pygments_lexer": "ipython3",
   "version": "3.11.5"
  }
 },
 "nbformat": 4,
 "nbformat_minor": 2
}
