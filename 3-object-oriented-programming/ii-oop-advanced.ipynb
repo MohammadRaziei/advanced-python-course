{
 "cells": [
  {
   "cell_type": "markdown",
   "id": "565ee594",
   "metadata": {},
   "source": [
    "# 🧠 Advanced Object-Oriented Programming in Python\n",
    "\n",
    "Now that you’ve learned the basics of classes, objects, inheritance, and encapsulation, it’s time to explore more powerful features of Python’s object-oriented model.\n",
    "\n",
    "In this section, we dive into **Advanced OOP**, starting with one of Python’s most magical capabilities: **Magic Methods**.\n",
    "\n",
    "---\n",
    "\n",
    "## ✨ Magic Methods (Dunder Methods)\n",
    "\n",
    "Magic methods — also called **dunder methods** (short for “**double underscore**”) — are special methods that allow you to define or override how objects behave with **built-in operators** and **functions**.\n",
    "\n",
    "They always start and end with two underscores, like `__init__`, `__add__`, `__str__`, etc.\n",
    "\n",
    "---\n",
    "\n",
    "### 🧮 Example: Point Class with Magic Methods\n",
    "\n",
    "Let’s say we want to build a `Point` class that supports vector addition, printing, and length calculation. We’ll use magic methods like:\n",
    "\n",
    "- `__init__()` → to initialize the object\n",
    "- `__str__()` → for readable string output\n",
    "- `__add__()` → to define point addition using `+`\n",
    "- `__len__()` → to get the point length using `len()`"
   ]
  },
  {
   "cell_type": "code",
   "execution_count": 1,
   "id": "e0ff7fac",
   "metadata": {},
   "outputs": [],
   "source": [
    "import math\n",
    "\n",
    "class Point:\n",
    "    def __init__(self, x, y):\n",
    "        self.x = x\n",
    "        self.y = y\n",
    "\n",
    "    def __add__(self, other):\n",
    "        return Point(self.x + other.x, self.y + other.y)\n",
    "\n",
    "    def __str__(self):\n",
    "        return f\"Point({self.x}, {self.y})\"\n",
    "\n",
    "    def __len__(self):\n",
    "        return round(math.sqrt(self.x ** 2 + self.y ** 2))"
   ]
  },
  {
   "cell_type": "code",
   "execution_count": 2,
   "id": "f73a42fb",
   "metadata": {},
   "outputs": [
    {
     "name": "stdout",
     "output_type": "stream",
     "text": [
      "Point(3, 4)\n",
      "5\n",
      "Point(4, 6)\n"
     ]
    }
   ],
   "source": [
    "### 🚀 Usage:\n",
    "p1 = Point(3, 4)\n",
    "p2 = Point(1, 2)\n",
    "\n",
    "print(p1)         # Point(3, 4) → uses __str__\n",
    "print(len(p1))    # 5 → uses __len__ (sqrt(3² + 4²) = 5)\n",
    "print(p1 + p2)    # Point(4, 6) → uses __add__"
   ]
  },
  {
   "cell_type": "markdown",
   "id": "6c8e83fb",
   "metadata": {},
   "source": [
    "\n",
    "---\n",
    "\n",
    "### 🔍 Why Use Magic Methods?\n",
    "\n",
    "- You can **customize how your objects behave** with built-in Python features.\n",
    "- They make your classes **more intuitive and Pythonic**.\n",
    "- You can override comparison, hashing, iteration, and more.\n",
    "\n",
    "---\n",
    "\n",
    "### 🧰 Common Magic Methods\n",
    "\n",
    "| Method         | Description                       |\n",
    "|----------------|-----------------------------------|\n",
    "| `__init__`     | Constructor (called on creation)  |\n",
    "| `__str__`      | String representation             |\n",
    "| `__repr__`     | Debug-friendly string             |\n",
    "| `__add__`      | Overloads `+` operator            |\n",
    "| `__len__`      | Returns length via `len()`        |\n",
    "| `__eq__`       | Equality check (`==`)             |\n",
    "| `__lt__`       | Less than (`<`)                   |\n",
    "| `__gt__`       | Less than (`>`)                   |\n",
    "| `__call__`     | Makes an object callable          |\n",
    "| `__getitem__`  | Enables indexing like `obj[key]`       |\n",
    "\n",
    "---\n",
    "\n",
    "> ⚠️ Remember: Magic methods should be used **sparingly** and **meaningfully** — they can greatly improve usability when done right, but overusing them can make your code hard to read.\n",
    "\n",
    "---\n"
   ]
  },
  {
   "cell_type": "markdown",
   "id": "aa0e4c0a",
   "metadata": {},
   "source": [
    "## 🧠 Complete List of Common Dunder (Magic) Methods in Python\n",
    "\n",
    "---\n",
    "\n",
    "### 🏗️ **Object Lifecycle (Construction & Initialization)**\n",
    "\n",
    "| Method         | Purpose                               |\n",
    "|----------------|----------------------------------------|\n",
    "| `__new__`      | Creates a new instance (rarely used)   |\n",
    "| `__init__`     | Initializes the instance after creation |\n",
    "| `__del__`      | Destructor, called when object is deleted |\n",
    "\n",
    "---\n",
    "\n",
    "### 🧾 **String Representation**\n",
    "\n",
    "| Method         | Purpose                                  |\n",
    "|----------------|-------------------------------------------|\n",
    "| `__str__`      | User-friendly string (`print(obj)`)       |\n",
    "| `__repr__`     | Official string (used in debugging, REPL) |\n",
    "| `__format__`   | Controls behavior of `format(obj)`        |\n",
    "| `__bytes__`    | Called by `bytes(obj)`                    |\n",
    "\n",
    "---\n",
    "\n",
    "### 🔣 **Type Conversion**\n",
    "\n",
    "| Method         | Purpose                          |\n",
    "|----------------|-----------------------------------|\n",
    "| `__int__`      | Called by `int(obj)`              |\n",
    "| `__float__`    | Called by `float(obj)`            |\n",
    "| `__complex__`  | Called by `complex(obj)`          |\n",
    "| `__bool__`     | Called by `bool(obj)`             |\n",
    "| `__index__`    | Used when object is used as index (e.g., `list[obj]`) |\n",
    "\n",
    "---\n",
    "\n",
    "### ➕ **Arithmetic Operators**\n",
    "\n",
    "| Method         | Operator     |\n",
    "|----------------|--------------|\n",
    "| `__add__`      | `+`          |\n",
    "| `__sub__`      | `-`          |\n",
    "| `__mul__`      | `*`          |\n",
    "| `__matmul__`   | `@`          |\n",
    "| `__truediv__`  | `/`          |\n",
    "| `__floordiv__` | `//`         |\n",
    "| `__mod__`      | `%`          |\n",
    "| `__pow__`      | `**`         |\n",
    "| `__neg__`      | Unary `-`    |\n",
    "| `__pos__`      | Unary `+`    |\n",
    "| `__abs__`      | `abs(obj)`   |\n",
    "\n",
    "---\n",
    "\n",
    "### 🧮 **In-place Arithmetic**\n",
    "\n",
    "| Method           | Operator  |\n",
    "|------------------|-----------|\n",
    "| `__iadd__`       | `+=`      |\n",
    "| `__isub__`       | `-=`      |\n",
    "| `__imul__`       | `*=`      |\n",
    "| `__itruediv__`   | `/=`      |\n",
    "| `__ifloordiv__`  | `//=`     |\n",
    "| `__imod__`       | `%=`      |\n",
    "| `__ipow__`       | `**=`     |\n",
    "\n",
    "---\n",
    "\n",
    "### 🧑‍⚖️ **Comparison Operators**\n",
    "\n",
    "| Method         | Operator |\n",
    "|----------------|----------|\n",
    "| `__eq__`       | `==`     |\n",
    "| `__ne__`       | `!=`     |\n",
    "| `__lt__`       | `<`      |\n",
    "| `__le__`       | `<=`     |\n",
    "| `__gt__`       | `>`      |\n",
    "| `__ge__`       | `>=`     |\n",
    "\n",
    "---\n",
    "\n",
    "### 📦 **Collection & Indexing**\n",
    "\n",
    "| Method         | Purpose                        |\n",
    "|----------------|-------------------------------|\n",
    "| `__len__`      | Called by `len(obj)`          |\n",
    "| `__getitem__`  | Enables indexing (`obj[i]`)   |\n",
    "| `__setitem__`  | Assignment to index           |\n",
    "| `__delitem__`  | Deleting an item              |\n",
    "| `__contains__` | Called by `in` operator       |\n",
    "| `__iter__`     | Called by `iter(obj)`         |\n",
    "| `__next__`     | Called by `next(obj)`         |\n",
    "\n",
    "---\n",
    "\n",
    "### 🛠️ **Callable & Context Management**\n",
    "\n",
    "| Method         | Purpose                                  |\n",
    "|----------------|-------------------------------------------|\n",
    "| `__call__`     | Makes object callable like a function     |\n",
    "| `__enter__`    | Used in context manager (`with` block)    |\n",
    "| `__exit__`     | Exit method for context manager           |\n",
    "\n",
    "---\n",
    "\n",
    "### 🧰 **Attribute Access**\n",
    "\n",
    "| Method            | Purpose                                 |\n",
    "|-------------------|------------------------------------------|\n",
    "| `__getattr__`     | Called when attribute not found          |\n",
    "| `__getattribute__`| Called for every attribute access        |\n",
    "| `__setattr__`     | Called when setting an attribute         |\n",
    "| `__delattr__`     | Called when deleting an attribute        |\n",
    "| `__dir__`         | Controls output of `dir(obj)`            |\n",
    "\n",
    "---\n",
    "\n",
    "### 🧱 **Miscellaneous / Advanced**\n",
    "\n",
    "| Method         | Purpose                                 |\n",
    "|----------------|------------------------------------------|\n",
    "| `__hash__`     | Used for hashable objects (like dict keys) |\n",
    "| `__sizeof__`   | Used by `sys.getsizeof()`                 |\n",
    "| `__class__`    | The class object of the instance          |\n",
    "| `__instancecheck__` | Used with `isinstance()`             |\n",
    "| `__subclasscheck__` | Used with `issubclass()`             |\n",
    "\n",
    "---\n",
    "\n",
    "## 🔍 Notes\n",
    "\n",
    "- Many of these methods are optional — you only implement what you need.\n",
    "- Overriding them can make your objects feel like built-in types!\n",
    "- Python uses them behind the scenes to make syntax more natural.\n",
    "\n",
    "---\n",
    "\n"
   ]
  },
  {
   "cell_type": "markdown",
   "id": "b2e505d8",
   "metadata": {},
   "source": [
    "🧮 Python Vector Class Example "
   ]
  },
  {
   "cell_type": "code",
   "execution_count": 3,
   "id": "d3434cd8",
   "metadata": {},
   "outputs": [],
   "source": [
    "import math\n",
    "\n",
    "class Vector:\n",
    "    def __init__(self, data):\n",
    "        self._data = list(data)\n",
    "\n",
    "    def __len__(self):\n",
    "        return len(self._data)\n",
    "\n",
    "    def __getitem__(self, index):\n",
    "        return self._data[index]\n",
    "\n",
    "    def __setitem__(self, index, value):\n",
    "        self._data[index] = value\n",
    "\n",
    "    def __add__(self, other):\n",
    "        if len(self) != len(other):\n",
    "            raise ValueError(\"Vectors must be of the same length.\")\n",
    "        return Vector([a + b for a, b in zip(self._data, other._data)])\n",
    "\n",
    "    def __sub__(self, other):\n",
    "        if len(self) != len(other):\n",
    "            raise ValueError(\"Vectors must be of the same length.\")\n",
    "        return Vector([a - b for a, b in zip(self._data, other._data)])\n",
    "\n",
    "    def __mul__(self, scalar):\n",
    "        return Vector([a * scalar for a in self._data])\n",
    "\n",
    "    def __rmul__(self, scalar):\n",
    "        return self.__mul__(scalar)\n",
    "\n",
    "    def norm(self):\n",
    "        return math.sqrt(sum(a**2 for a in self._data))\n",
    "\n",
    "    def __str__(self):\n",
    "        return \"[\" + \"  \".join(f\"{x:.2f}\" for x in self._data) + \"]\"\n",
    "\n",
    "    def __call__(self, other):\n",
    "        \"\"\"Compute dot product when object is called with another vector.\"\"\"\n",
    "        if len(self) != len(other):\n",
    "            raise ValueError(\"Vectors must be of the same length.\")\n",
    "        return sum(a * b for a, b in zip(self._data, other._data))\n"
   ]
  },
  {
   "cell_type": "code",
   "execution_count": 4,
   "id": "b70875f6",
   "metadata": {},
   "outputs": [
    {
     "name": "stdout",
     "output_type": "stream",
     "text": [
      "v1: [1.00  2.00  3.00]\n",
      "v2: [4.00  5.00  6.00]\n",
      "v1 + v2: [5.00  7.00  9.00]\n",
      "v1 - v2: [-3.00  -3.00  -3.00]\n",
      "2 * v1: [2.00  4.00  6.00]\n",
      "Norm of v1: 3.7416573867739413\n",
      "v1 dot v2: 32\n",
      "v1[1]: 2\n"
     ]
    }
   ],
   "source": [
    "v1 = Vector([1, 2, 3])\n",
    "v2 = Vector([4, 5, 6])\n",
    "\n",
    "print(\"v1:\", v1)\n",
    "print(\"v2:\", v2)\n",
    "\n",
    "print(\"v1 + v2:\", v1 + v2)\n",
    "print(\"v1 - v2:\", v1 - v2)\n",
    "print(\"2 * v1:\", 2 * v1)\n",
    "print(\"Norm of v1:\", v1.norm())\n",
    "print(\"v1 dot v2:\", v1(v2))       # Using __call__ as dot product\n",
    "print(\"v1[1]:\", v1[1])            # Indexing\n"
   ]
  },
  {
   "cell_type": "markdown",
   "id": "35bb677b",
   "metadata": {},
   "source": [
    "# 🧩 `@staticmethod` and `@classmethod` in Python\n",
    "\n",
    "In Python, not all methods in a class need to operate on an instance (`self`). Sometimes, you just want a method that relates to the **class** as a whole — or maybe a method that doesn't need any object context at all.\n",
    "\n",
    "For this purpose, Python gives us two powerful tools:\n",
    "- `@staticmethod`\n",
    "- `@classmethod`\n",
    "\n",
    "These are known as **method decorators**.\n",
    "\n",
    "---"
   ]
  },
  {
   "cell_type": "markdown",
   "id": "285ccb95",
   "metadata": {},
   "source": [
    "## 🛠️ 1. `@staticmethod`\n",
    "\n",
    "A **static method** doesn’t receive the instance (`self`) or class (`cls`) as the first argument. It behaves just like a regular function, but it lives **inside a class**, because conceptually it’s related to that class.\n",
    "\n",
    "### ✅ When to use:\n",
    "- Utility functions\n",
    "- Mathematical calculations\n",
    "- Methods that **don’t need object or class state**\n",
    "\n",
    "### 🧪 Example:"
   ]
  },
  {
   "cell_type": "code",
   "execution_count": 5,
   "id": "2bcc906a",
   "metadata": {},
   "outputs": [
    {
     "name": "stdout",
     "output_type": "stream",
     "text": [
      "25\n"
     ]
    }
   ],
   "source": [
    "class MathTools:\n",
    "    @staticmethod\n",
    "    def square(x):\n",
    "        return x * x\n",
    "\n",
    "print(MathTools.square(5))  # Output: 25"
   ]
  },
  {
   "cell_type": "markdown",
   "id": "a83725ce",
   "metadata": {},
   "source": [
    "> 🎯 This method can be called without creating an object of `MathTools`.\n",
    "\n",
    "---\n",
    "\n",
    "## 🧠 2. `@classmethod`\n",
    "\n",
    "A **class method** receives the **class itself** as the first argument (`cls`) instead of the instance. It can access and modify **class-level attributes**.\n",
    "\n",
    "### ✅ When to use:\n",
    "- Creating **alternative constructors**\n",
    "- Modifying or inspecting class-level data\n",
    "\n",
    "### 🧪 Example:"
   ]
  },
  {
   "cell_type": "code",
   "execution_count": 6,
   "id": "7b316099",
   "metadata": {},
   "outputs": [],
   "source": [
    "class Person:\n",
    "    population = 0\n",
    "\n",
    "    def __init__(self, name):\n",
    "        self.name = name\n",
    "        Person.population += 1\n",
    "\n",
    "    @classmethod\n",
    "    def get_population(cls):\n",
    "        return cls.population"
   ]
  },
  {
   "cell_type": "code",
   "execution_count": 7,
   "id": "c147b500",
   "metadata": {},
   "outputs": [
    {
     "name": "stdout",
     "output_type": "stream",
     "text": [
      "2\n"
     ]
    }
   ],
   "source": [
    "p1 = Person(\"Ali\")\n",
    "p2 = Person(\"Mohammad\")\n",
    "print(Person.get_population())  # Output: 2"
   ]
  },
  {
   "cell_type": "markdown",
   "id": "6ca3c3c3",
   "metadata": {},
   "source": [
    "---\n",
    "\n",
    "## 🎨 These Are Decorators!\n",
    "\n",
    "Both `@staticmethod` and `@classmethod` are **built-in decorators** — they change the behavior of the method that follows them.\n",
    "\n",
    "> 🧠 **Note:** We will explain decorators in more detail in the lesson titled  \n",
    "👉 [🔗 *Understanding Python Decorators*](#decorators) *(coming soon!)*\n",
    "\n",
    "---\n",
    "\n",
    "## 📌 Summary\n",
    "\n",
    "| Feature         | Receives        | Accesses `self` | Accesses `cls` | Usage                             |\n",
    "|------------------|------------------|------------------|------------------|----------------------------------|\n",
    "| `@staticmethod`  | nothing           | ❌               | ❌               | Utility functions                |\n",
    "| `@classmethod`   | class (`cls`)     | ❌               | ✅               | Class-wide behavior, factories  |\n",
    "| Normal method    | instance (`self`) | ✅               | ❌               | Object-specific behavior         |\n",
    "\n",
    "---\n",
    "\n",
    "Want to go deeper? You can even create **custom decorators** of your own! We’ll explore that in our decorator section soon."
   ]
  },
  {
   "cell_type": "markdown",
   "id": "b4c42af1",
   "metadata": {},
   "source": [
    "## 🧵 Since We're Talking About Decorators...\n",
    "\n",
    "Now that we’ve seen `@staticmethod` and `@classmethod`, let’s introduce another powerful built-in decorator in Python:\n",
    "\n",
    "# 🏡 `@property`: The Pythonic Way to Access Attributes\n",
    "\n",
    "In Python, you can **expose a method like an attribute** using the `@property` decorator. This allows you to write clean and intuitive code like `rect.area` instead of `rect.get_area()`.\n",
    "\n",
    "---\n",
    "\n",
    "### 🧠 Why Use `@property`?\n",
    "\n",
    "- To **control access** to an attribute (e.g. validation, computation).\n",
    "- To make **methods behave like attributes**, improving readability.\n",
    "- To define **read-only properties** that can’t be modified directly.\n",
    "\n",
    "---\n",
    "\n",
    "## 📐 Example: A `Rectangle` Class with Read-only Area\n",
    "\n",
    "We define `x` and `y` (width and height) as regular attributes.  \n",
    "Then we use `@property` to expose `area` as a **read-only computed attribute**."
   ]
  },
  {
   "cell_type": "code",
   "execution_count": 8,
   "id": "18c45ede",
   "metadata": {},
   "outputs": [],
   "source": [
    "class Rectangle:\n",
    "    def __init__(self, x, y):\n",
    "        self._x = x\n",
    "        self._y = y\n",
    "\n",
    "    @property\n",
    "    def x(self):\n",
    "        return self._x\n",
    "\n",
    "    @x.setter\n",
    "    def x(self, value):\n",
    "        if value < 0:\n",
    "            raise ValueError(\"Width must be non-negative.\")\n",
    "        self._x = value\n",
    "\n",
    "    @property\n",
    "    def y(self):\n",
    "        return self._y\n",
    "\n",
    "    @y.setter\n",
    "    def y(self, value):\n",
    "        if value < 0:\n",
    "            raise ValueError(\"Height must be non-negative.\")\n",
    "        self._y = value\n",
    "\n",
    "    @property\n",
    "    def area(self):\n",
    "        return self._x * self._y  # Read-only: no setter defined"
   ]
  },
  {
   "cell_type": "markdown",
   "id": "fa765ed4",
   "metadata": {},
   "source": [
    "### 🧪 Usage"
   ]
  },
  {
   "cell_type": "code",
   "execution_count": 9,
   "id": "51efbfc8",
   "metadata": {},
   "outputs": [
    {
     "name": "stdout",
     "output_type": "stream",
     "text": [
      "3\n",
      "4\n",
      "12\n",
      "20\n"
     ]
    },
    {
     "data": {
      "text/html": [
       "<pre style=\"white-space:pre;overflow-x:auto;line-height:normal;font-family:Menlo,'DejaVu Sans Mono',consolas,'Courier New',monospace\"><span style=\"color: #800000; text-decoration-color: #800000\">╭─────────────────────────────── </span><span style=\"color: #800000; text-decoration-color: #800000; font-weight: bold\">Traceback </span><span style=\"color: #bf7f7f; text-decoration-color: #bf7f7f; font-weight: bold\">(most recent call last)</span><span style=\"color: #800000; text-decoration-color: #800000\"> ────────────────────────────────╮</span>\n",
       "<span style=\"color: #800000; text-decoration-color: #800000\">│</span> in <span style=\"color: #00ff00; text-decoration-color: #00ff00\">&lt;module&gt;</span>:<span style=\"color: #0000ff; text-decoration-color: #0000ff\">14</span>                                                                                   <span style=\"color: #800000; text-decoration-color: #800000\">│</span>\n",
       "<span style=\"color: #800000; text-decoration-color: #800000\">│</span>                                                                                                  <span style=\"color: #800000; text-decoration-color: #800000\">│</span>\n",
       "<span style=\"color: #800000; text-decoration-color: #800000\">│</span>   <span style=\"color: #7f7f7f; text-decoration-color: #7f7f7f\">11 </span><span style=\"color: #7f7f7f; text-decoration-color: #7f7f7f\">│   </span><span style=\"color: #00ffff; text-decoration-color: #00ffff\">print</span>(rect.area)     <span style=\"color: #7f7f7f; text-decoration-color: #7f7f7f\"># 20</span>                                                               <span style=\"color: #800000; text-decoration-color: #800000\">│</span>\n",
       "<span style=\"color: #800000; text-decoration-color: #800000\">│</span>   <span style=\"color: #7f7f7f; text-decoration-color: #7f7f7f\">12 </span><span style=\"color: #7f7f7f; text-decoration-color: #7f7f7f\">│   </span>                                                                                        <span style=\"color: #800000; text-decoration-color: #800000\">│</span>\n",
       "<span style=\"color: #800000; text-decoration-color: #800000\">│</span>   <span style=\"color: #7f7f7f; text-decoration-color: #7f7f7f\">13 </span><span style=\"color: #7f7f7f; text-decoration-color: #7f7f7f\">│   </span>                                                                                        <span style=\"color: #800000; text-decoration-color: #800000\">│</span>\n",
       "<span style=\"color: #800000; text-decoration-color: #800000\">│</span> <span style=\"color: #800000; text-decoration-color: #800000\">❱ </span>14 <span style=\"color: #7f7f7f; text-decoration-color: #7f7f7f\">│   </span>rect.area = <span style=\"color: #0000ff; text-decoration-color: #0000ff\">100</span>  <span style=\"color: #7f7f7f; text-decoration-color: #7f7f7f\"># ❌ This will raise an error (no setter for area)</span>                     <span style=\"color: #800000; text-decoration-color: #800000\">│</span>\n",
       "<span style=\"color: #800000; text-decoration-color: #800000\">│</span>   <span style=\"color: #7f7f7f; text-decoration-color: #7f7f7f\">15 </span><span style=\"color: #0000ff; text-decoration-color: #0000ff\">except</span>:                                                                                     <span style=\"color: #800000; text-decoration-color: #800000\">│</span>\n",
       "<span style=\"color: #800000; text-decoration-color: #800000\">│</span>   <span style=\"color: #7f7f7f; text-decoration-color: #7f7f7f\">16 </span><span style=\"color: #7f7f7f; text-decoration-color: #7f7f7f\">│   </span>console.print_exception()                                                               <span style=\"color: #800000; text-decoration-color: #800000\">│</span>\n",
       "<span style=\"color: #800000; text-decoration-color: #800000\">│</span>   <span style=\"color: #7f7f7f; text-decoration-color: #7f7f7f\">17 </span>                                                                                            <span style=\"color: #800000; text-decoration-color: #800000\">│</span>\n",
       "<span style=\"color: #800000; text-decoration-color: #800000\">╰──────────────────────────────────────────────────────────────────────────────────────────────────╯</span>\n",
       "<span style=\"color: #ff0000; text-decoration-color: #ff0000; font-weight: bold\">AttributeError: </span>property <span style=\"color: #008000; text-decoration-color: #008000\">'area'</span> of <span style=\"color: #008000; text-decoration-color: #008000\">'Rectangle'</span> object has no setter\n",
       "</pre>\n"
      ],
      "text/plain": [
       "\u001b[31m╭─\u001b[0m\u001b[31m──────────────────────────────\u001b[0m\u001b[31m \u001b[0m\u001b[1;31mTraceback \u001b[0m\u001b[1;2;31m(most recent call last)\u001b[0m\u001b[31m \u001b[0m\u001b[31m───────────────────────────────\u001b[0m\u001b[31m─╮\u001b[0m\n",
       "\u001b[31m│\u001b[0m in \u001b[92m<module>\u001b[0m:\u001b[94m14\u001b[0m                                                                                   \u001b[31m│\u001b[0m\n",
       "\u001b[31m│\u001b[0m                                                                                                  \u001b[31m│\u001b[0m\n",
       "\u001b[31m│\u001b[0m   \u001b[2m11 \u001b[0m\u001b[2m│   \u001b[0m\u001b[96mprint\u001b[0m(rect.area)     \u001b[2m# 20\u001b[0m                                                               \u001b[31m│\u001b[0m\n",
       "\u001b[31m│\u001b[0m   \u001b[2m12 \u001b[0m\u001b[2m│   \u001b[0m                                                                                        \u001b[31m│\u001b[0m\n",
       "\u001b[31m│\u001b[0m   \u001b[2m13 \u001b[0m\u001b[2m│   \u001b[0m                                                                                        \u001b[31m│\u001b[0m\n",
       "\u001b[31m│\u001b[0m \u001b[31m❱ \u001b[0m14 \u001b[2m│   \u001b[0mrect.area = \u001b[94m100\u001b[0m  \u001b[2m# ❌ This will raise an error (no setter for area)\u001b[0m                     \u001b[31m│\u001b[0m\n",
       "\u001b[31m│\u001b[0m   \u001b[2m15 \u001b[0m\u001b[94mexcept\u001b[0m:                                                                                     \u001b[31m│\u001b[0m\n",
       "\u001b[31m│\u001b[0m   \u001b[2m16 \u001b[0m\u001b[2m│   \u001b[0mconsole.print_exception()                                                               \u001b[31m│\u001b[0m\n",
       "\u001b[31m│\u001b[0m   \u001b[2m17 \u001b[0m                                                                                            \u001b[31m│\u001b[0m\n",
       "\u001b[31m╰──────────────────────────────────────────────────────────────────────────────────────────────────╯\u001b[0m\n",
       "\u001b[1;91mAttributeError: \u001b[0mproperty \u001b[32m'area'\u001b[0m of \u001b[32m'Rectangle'\u001b[0m object has no setter\n"
      ]
     },
     "metadata": {},
     "output_type": "display_data"
    }
   ],
   "source": [
    "from rich.console import Console\n",
    "console = Console()\n",
    "\n",
    "try:\n",
    "    rect = Rectangle(3, 4)\n",
    "    print(rect.x)        # 3\n",
    "    print(rect.y)        # 4\n",
    "    print(rect.area)     # 12\n",
    "\n",
    "    rect.x = 5\n",
    "    print(rect.area)     # 20\n",
    "\n",
    "\n",
    "    rect.area = 100  # ❌ This will raise an error (no setter for area)\n",
    "except:\n",
    "    console.print_exception()"
   ]
  },
  {
   "cell_type": "markdown",
   "id": "fa6ad659",
   "metadata": {},
   "source": [
    "\n",
    "---\n",
    "\n",
    "### 🛡️ Making It Read-only\n",
    "\n",
    "Notice that `area` has only a **getter**, not a setter — so you can't do `rect.area = 50`.  \n",
    "This is how you create **computed, protected properties** in Python.\n",
    "\n",
    "---\n",
    "\n",
    "## 🧵 Summary\n",
    "\n",
    "| Decorator     | Purpose                                |\n",
    "|----------------|----------------------------------------|\n",
    "| `@property`    | Turns method into a readable attribute |\n",
    "| `@<prop>.setter` | Allows controlled value assignment     |\n",
    "| No setter      | Makes the property read-only           |\n",
    "\n",
    "---\n",
    "\n",
    "> 💬 Using `@property` keeps your class clean and expressive, while giving you the control of getter/setter logic — without the ugliness of `get_` and `set_` methods.\n"
   ]
  },
  {
   "cell_type": "markdown",
   "id": "344222d2",
   "metadata": {},
   "source": [
    "# 🚀 Boosting Performance with `@cached_property`\n",
    "\n",
    "Sometimes, a `@property` involves **expensive computation** (like calculating area, loading data, or parsing files). If the result won’t change, we can **cache it** to avoid re-computation every time.\n",
    "\n",
    "Python provides a simple and elegant way to do that using:\n",
    "\n",
    "## 🧠 `@cached_property` (Python 3.8+)\n",
    "\n",
    "This decorator stores the result of the property the **first time** it's accessed,  \n",
    "and **reuses it** on subsequent calls — unless the object is reset.\n",
    "\n",
    "---\n",
    "\n",
    "### ✅ When to Use:\n",
    "- For computed values that **don’t change** over time\n",
    "- To improve performance by avoiding repeated calculation\n",
    "- For immutable or semi-static data\n",
    "\n",
    "---\n",
    "\n",
    "### ⚠️ When **Not** to Use:\n",
    "- If your data can change (like `x` or `y` in a mutable object)\n",
    "- If your object needs to reflect updates in real-time\n",
    "- In memory-sensitive environments (cache uses memory)\n",
    "\n",
    "---\n",
    "\n",
    "## 🧪 Modified `Rectangle` Example with `@cached_property`"
   ]
  },
  {
   "cell_type": "code",
   "execution_count": 10,
   "id": "f4e38b87",
   "metadata": {},
   "outputs": [],
   "source": [
    "from functools import cached_property\n",
    "\n",
    "class Rectangle:\n",
    "    def __init__(self, x, y):\n",
    "        self._x = x\n",
    "        self._y = y\n",
    "\n",
    "    @property\n",
    "    def x(self):\n",
    "        return self._x\n",
    "\n",
    "    @x.setter\n",
    "    def x(self, value):\n",
    "        if value < 0:\n",
    "            raise ValueError(\"Width must be non-negative.\")\n",
    "        self._x = value\n",
    "        # Invalidate cache manually if needed (see below)\n",
    "\n",
    "    @property\n",
    "    def y(self):\n",
    "        return self._y\n",
    "\n",
    "    @y.setter\n",
    "    def y(self, value):\n",
    "        if value < 0:\n",
    "            raise ValueError(\"Height must be non-negative.\")\n",
    "        self._y = value\n",
    "        # Invalidate cache manually if needed (see below)\n",
    "\n",
    "    @cached_property\n",
    "    def area(self):\n",
    "        print(\"Computing area...\")\n",
    "        return self._x * self._y"
   ]
  },
  {
   "cell_type": "markdown",
   "id": "914707a2",
   "metadata": {},
   "source": [
    "---\n",
    "\n",
    "### 🧪 Usage"
   ]
  },
  {
   "cell_type": "code",
   "execution_count": 11,
   "id": "f9e03a14",
   "metadata": {},
   "outputs": [
    {
     "name": "stdout",
     "output_type": "stream",
     "text": [
      "Computing area...\n",
      "12\n",
      "12\n",
      "12\n"
     ]
    }
   ],
   "source": [
    "r = Rectangle(3, 4)\n",
    "print(r.area)  # \"Computing area...\" → 12\n",
    "print(r.area)  # (No computation, cached) → 12\n",
    "\n",
    "r.x = 5\n",
    "print(r.area)  # Still returns 12, not updated!"
   ]
  },
  {
   "cell_type": "markdown",
   "id": "41e7a943",
   "metadata": {},
   "source": [
    "---\n",
    "\n",
    "## 🔍 Problem: `@cached_property` Doesn't Auto-Update!\n",
    "\n",
    "Because the result is **cached**, if you update `x` or `y`, the cached `area` won’t change unless you **manually delete the cache**:\n"
   ]
  },
  {
   "cell_type": "code",
   "execution_count": 12,
   "id": "aee1a6d7",
   "metadata": {},
   "outputs": [
    {
     "name": "stdout",
     "output_type": "stream",
     "text": [
      "Computing area...\n",
      "20\n"
     ]
    }
   ],
   "source": [
    "del r.__dict__['area']\n",
    "print(r.area)  # Recomputes area → 20"
   ]
  },
  {
   "cell_type": "markdown",
   "id": "1bd6fab4",
   "metadata": {},
   "source": [
    "---\n",
    "\n",
    "## 🧾 Summary\n",
    "\n",
    "| Feature             | Behavior                                       |\n",
    "|---------------------|------------------------------------------------|\n",
    "| `@property`         | Computes on every access                      |\n",
    "| `@cached_property`  | Computes once and caches the result           |\n",
    "| Update-safe?        | ❌ No – doesn't auto-update if inputs change  |\n",
    "| Speed benefit?      | ✅ Yes – avoids recomputing expensive results |\n",
    "\n",
    "---\n",
    "\n",
    "> ⚠️ Use `@cached_property` **only if** your property depends on values that won't change — or you're handling cache invalidation manually.\n",
    "\n",
    "For more info:  \n",
    "🔗 [functools.cached_property — Python Docs](https://docs.python.org/3/library/functools.html#functools.cached_property)\n"
   ]
  },
  {
   "cell_type": "markdown",
   "id": "5c20df70",
   "metadata": {},
   "source": [
    "# 🧵 From Decorators to Abstract Classes in AI Models\n",
    "\n",
    "Now that we’ve seen how Python decorators like `@property`, `@classmethod`, and `@staticmethod` work, it’s time to learn a powerful concept in **object-oriented programming**:  \n",
    "👉 **Abstract Base Classes** — or simply **ABC**.\n",
    "\n",
    "When designing artificial intelligence systems, we often want to define **a common interface** for all models, while allowing each one to behave differently.  \n",
    "That’s exactly what ABCs are for.\n",
    "\n",
    "---\n",
    "\n",
    "## 🧠 What is an Abstract Base Class?\n",
    "\n",
    "An abstract base class lets us:\n",
    "\n",
    "- Define a method (e.g. `process`) that **must be implemented** in subclasses\n",
    "- Prevent instantiation of incomplete classes\n",
    "- Enforce a structure across different models (e.g. SVM, Random Forest, etc.)\n",
    "\n",
    "Let’s see this in action by building an abstract `Classifier` and a concrete `SVMClassifier`.\n",
    "\n",
    "---\n",
    "\n",
    "## 🛠 Step 1: Train and Save a Simple SVM Model\n",
    "\n",
    "Before defining any classes, we’ll quickly **train and save** a basic SVM model using `scikit-learn`."
   ]
  },
  {
   "cell_type": "code",
   "execution_count": 13,
   "id": "422f0a49",
   "metadata": {},
   "outputs": [
    {
     "data": {
      "text/plain": [
       "['svm_model.pkl']"
      ]
     },
     "execution_count": 13,
     "metadata": {},
     "output_type": "execute_result"
    }
   ],
   "source": [
    "from sklearn.svm import SVC\n",
    "from sklearn.datasets import load_iris\n",
    "import joblib\n",
    "\n",
    "# Train a simple model\n",
    "X, y = load_iris(return_X_y=True)\n",
    "model = SVC(kernel=\"linear\", probability=True)\n",
    "model.fit(X, y)\n",
    "\n",
    "# Save it to disk\n",
    "joblib.dump(model, \"svm_model.pkl\")"
   ]
  },
  {
   "cell_type": "markdown",
   "id": "a5bf94d1",
   "metadata": {},
   "source": [
    "---\n",
    "\n",
    "## 🧱 Step 2: Define `Classifier` (Abstract Base Class)"
   ]
  },
  {
   "cell_type": "code",
   "execution_count": 14,
   "id": "10415375",
   "metadata": {},
   "outputs": [],
   "source": [
    "from abc import ABC, abstractmethod\n",
    "\n",
    "class Classifier(ABC):\n",
    "    @abstractmethod\n",
    "    def process(self, X):\n",
    "        \"\"\"Process input X and return predictions\"\"\"\n",
    "        pass"
   ]
  },
  {
   "cell_type": "markdown",
   "id": "393c37b7",
   "metadata": {},
   "source": [
    "---\n",
    "\n",
    "## 🧱 Step 3: Define `SVMClassifier` (Concrete Subclass)\n",
    "\n",
    "This class:\n",
    "\n",
    "- Loads the pretrained model in `__init__`\n",
    "- Implements the required `process()` method"
   ]
  },
  {
   "cell_type": "code",
   "execution_count": 15,
   "id": "23dccc41",
   "metadata": {},
   "outputs": [],
   "source": [
    "import joblib\n",
    "\n",
    "class SVMClassifier(Classifier):\n",
    "    def __init__(self):\n",
    "        self.model = joblib.load(\"svm_model.pkl\")\n",
    "\n",
    "    def process(self, X):\n",
    "        return self.model.predict(X)"
   ]
  },
  {
   "cell_type": "markdown",
   "id": "c8cc559b",
   "metadata": {},
   "source": [
    "## 🧪 Step 4: Use the Class"
   ]
  },
  {
   "cell_type": "code",
   "execution_count": 16,
   "id": "7404c9d8",
   "metadata": {},
   "outputs": [
    {
     "name": "stdout",
     "output_type": "stream",
     "text": [
      "Predictions: [0 0 0 0 0]\n"
     ]
    }
   ],
   "source": [
    "from sklearn.datasets import load_iris\n",
    "\n",
    "X, _ = load_iris(return_X_y=True)\n",
    "\n",
    "clf = SVMClassifier()\n",
    "predictions = clf.process(X[:5])\n",
    "\n",
    "print(\"Predictions:\", predictions)"
   ]
  },
  {
   "cell_type": "markdown",
   "id": "19ed0990",
   "metadata": {},
   "source": [
    "---\n",
    "\n",
    "## ✅ What You Learned\n",
    "\n",
    "- `Classifier` is an **abstract base class**: it defines a method `process()` but doesn’t implement it.\n",
    "- `SVMClassifier` is a **concrete subclass**: it loads a model and implements `process()`.\n",
    "- This structure ensures **all classifiers follow the same interface**, while allowing flexibility in implementation.\n",
    "- Great for building modular, maintainable, and extendable ML systems.\n",
    "\n",
    "---\n",
    "\n",
    "> 🧠 Want to extend it? Just create new subclasses like `KNNClassifier`, `RFClassifier`, etc., each with their own logic but the same `process()` method.\n"
   ]
  }
 ],
 "metadata": {
  "kernelspec": {
   "display_name": "Python 3 (ipykernel)",
   "language": "python",
   "name": "python3"
  },
  "language_info": {
   "codemirror_mode": {
    "name": "ipython",
    "version": 3
   },
   "file_extension": ".py",
   "mimetype": "text/x-python",
   "name": "python",
   "nbconvert_exporter": "python",
   "pygments_lexer": "ipython3",
   "version": "3.11.5"
  }
 },
 "nbformat": 4,
 "nbformat_minor": 5
}
