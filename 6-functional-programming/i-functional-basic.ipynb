{
 "cells": [
  {
   "cell_type": "markdown",
   "id": "21c2330e",
   "metadata": {},
   "source": [
    "# 🧠 Functional Programming in Python – A Step-by-Step Guide\n",
    "\n",
    "---\n",
    "\n",
    "## 🎯 Why Functional Programming?\n",
    "\n",
    "Before diving into code, let’s understand the **mindset**:  \n",
    "> \"Don't tell the computer how to do it — tell it what you want.\"\n",
    "\n",
    "Functional programming is about **describing transformations**, not managing steps. You focus on **expressing logic**, not building loops and containers.\n",
    "\n",
    "---\n",
    "\n",
    "## 🛠️ Reminder: How Functions Work in Python\n",
    "\n",
    "Before we start with functional tools, let’s recall how to write a basic function:\n"
   ]
  },
  {
   "cell_type": "code",
   "execution_count": 1,
   "id": "bd806679",
   "metadata": {},
   "outputs": [
    {
     "name": "stdout",
     "output_type": "stream",
     "text": [
      "16\n"
     ]
    }
   ],
   "source": [
    "def square(x):\n",
    "    return x ** 2\n",
    "\n",
    "print(square(4))  # Output: 16"
   ]
  },
  {
   "cell_type": "markdown",
   "id": "71d60a50",
   "metadata": {},
   "source": [
    "\n",
    "This is a **named function**. Python also allows you to write anonymous functions called **lambda functions**:\n"
   ]
  },
  {
   "cell_type": "code",
   "execution_count": 2,
   "id": "523c9adc",
   "metadata": {},
   "outputs": [
    {
     "name": "stdout",
     "output_type": "stream",
     "text": [
      "16\n"
     ]
    }
   ],
   "source": [
    "square = lambda x: x ** 2\n",
    "print(square(4))  # Output: 16"
   ]
  },
  {
   "cell_type": "markdown",
   "id": "5cdfa65d",
   "metadata": {},
   "source": [
    "\n",
    "Lambda functions are useful when you need a short function *on the fly*, especially when working with functional tools like `map`, `filter`, and `reduce`.\n",
    "\n",
    "---\n",
    "\n",
    "## ❌ The Problem with Loops\n",
    "\n",
    "Let’s say you want to sum a list of numbers:\n"
   ]
  },
  {
   "cell_type": "code",
   "execution_count": 3,
   "id": "2a0cfbe1",
   "metadata": {},
   "outputs": [
    {
     "name": "stdout",
     "output_type": "stream",
     "text": [
      "15\n"
     ]
    }
   ],
   "source": [
    "numbers = [1, 2, 3, 4, 5]\n",
    "total = 0\n",
    "for num in numbers:\n",
    "    total += num\n",
    "\n",
    "print(total)  # 15"
   ]
  },
  {
   "cell_type": "markdown",
   "id": "4e9027c7",
   "metadata": {},
   "source": [
    "\n",
    "This works, but it's **verbose**, **mutates state**, and is **not reusable**.\n",
    "\n",
    "---"
   ]
  },
  {
   "cell_type": "markdown",
   "id": "504d8968",
   "metadata": {},
   "source": [
    "## ✅ Better: `reduce()` + `lambda`"
   ]
  },
  {
   "cell_type": "code",
   "execution_count": 4,
   "id": "6cb8de86",
   "metadata": {},
   "outputs": [
    {
     "name": "stdout",
     "output_type": "stream",
     "text": [
      "15\n"
     ]
    }
   ],
   "source": [
    "from functools import reduce\n",
    "\n",
    "numbers = [1, 2, 3, 4, 5]\n",
    "total = reduce(lambda x, y: x + y, numbers)\n",
    "print(total)  # 15"
   ]
  },
  {
   "cell_type": "markdown",
   "id": "4e7cfd4b",
   "metadata": {},
   "source": [
    "\n",
    "This is **declarative** — it describes *what* we want (a reduction), not *how* to accumulate values.\n",
    "\n",
    "---\n",
    "\n",
    "## 🧰 Even Better: Use `operator` Instead of `lambda`\n"
   ]
  },
  {
   "cell_type": "code",
   "execution_count": 5,
   "id": "f02b3698",
   "metadata": {},
   "outputs": [
    {
     "name": "stdout",
     "output_type": "stream",
     "text": [
      "15\n",
      "5\n",
      "120\n"
     ]
    }
   ],
   "source": [
    "from functools import reduce\n",
    "import operator\n",
    "\n",
    "numbers = [1, 2, 3, 4, 5]\n",
    "\n",
    "# Using operator.add\n",
    "total = reduce(operator.add, numbers, 0)\n",
    "print(total)  # 15\n",
    "\n",
    "# Maximum value\n",
    "maximum = reduce(max, numbers, 0)\n",
    "print(maximum)  # 5\n",
    "\n",
    "# Product\n",
    "product = reduce(operator.mul, numbers, 1)\n",
    "print(product)  # 120"
   ]
  },
  {
   "cell_type": "markdown",
   "id": "0f9cad58",
   "metadata": {},
   "source": [
    "## 🎯 What is List Comprehension?\n",
    "\n",
    "List comprehension is a **compact way to create lists** in Python by describing **what** should go in the list, **not how** to build it.\n",
    "\n",
    "### ✅ Syntax:\n",
    "\n",
    "```python\n",
    "[expression for item in iterable]\n",
    "```\n",
    "\n",
    "It’s a one-liner for:\n",
    "```python\n",
    "result = []\n",
    "for item in iterable:\n",
    "    result.append(expression)\n",
    "```\n",
    "\n",
    "---\n",
    "\n",
    "## 📌 Basic Example"
   ]
  },
  {
   "cell_type": "code",
   "execution_count": 6,
   "id": "7a5e0bc2",
   "metadata": {},
   "outputs": [
    {
     "name": "stdout",
     "output_type": "stream",
     "text": [
      "[2, 4, 6, 8]\n"
     ]
    }
   ],
   "source": [
    "numbers = [1, 2, 3, 4]\n",
    "doubled = [x * 2 for x in numbers]\n",
    "print(doubled)  # [2, 4, 6, 8]"
   ]
  },
  {
   "cell_type": "markdown",
   "id": "f78ab0aa",
   "metadata": {},
   "source": [
    "---\n",
    "\n",
    "## 🔍 Adding Conditions – `if`\n",
    "\n",
    "### ✅ Syntax:\n",
    "\n",
    "\n",
    "```python\n",
    "[expression for item in iterable if condition]\n",
    "```\n",
    "\n",
    "\n",
    "### 🧪 Example: Filter even numbers\n"
   ]
  },
  {
   "cell_type": "code",
   "execution_count": 7,
   "id": "21200815",
   "metadata": {},
   "outputs": [
    {
     "name": "stdout",
     "output_type": "stream",
     "text": [
      "[0, 2, 4, 6, 8]\n"
     ]
    }
   ],
   "source": [
    "evens = [x for x in range(10) if x % 2 == 0]\n",
    "print(evens)  # [0, 2, 4, 6, 8]"
   ]
  },
  {
   "cell_type": "markdown",
   "id": "2d7f2ae4",
   "metadata": {},
   "source": [
    "---\n",
    "\n",
    "## 🧠 With `if-else` inside the expression\n",
    "\n",
    "You can also use a conditional expression inside the output itself.\n",
    "\n",
    "### ✅ Syntax:\n",
    "```python\n",
    "[expression_if_true if condition else expression_if_false for item in iterable]\n",
    "```\n",
    "\n",
    "### 🧪 Example: Tag numbers as even/odd\n",
    "\n"
   ]
  },
  {
   "cell_type": "code",
   "execution_count": 8,
   "id": "3d30abea",
   "metadata": {},
   "outputs": [
    {
     "name": "stdout",
     "output_type": "stream",
     "text": [
      "['even', 'odd', 'even', 'odd', 'even']\n"
     ]
    }
   ],
   "source": [
    "labels = [\"even\" if x % 2 == 0 else \"odd\" for x in range(5)]\n",
    "print(labels)  # ['even', 'odd', 'even', 'odd', 'even']"
   ]
  },
  {
   "cell_type": "markdown",
   "id": "ca56bc58",
   "metadata": {},
   "source": [
    "---\n",
    "\n",
    "## 🔂 Nested Loops\n",
    "\n",
    "List comprehensions can contain **multiple for loops**, just like nested loops.\n",
    "\n",
    "### ✅ Syntax:\n",
    "\n",
    "\n",
    "```python\n",
    "[expression for item1 in iterable1 for item2 in iterable2]\n",
    "```\n",
    "\n",
    "### 🧪 Example: Cartesian Product"
   ]
  },
  {
   "cell_type": "code",
   "execution_count": 9,
   "id": "871ee7ed",
   "metadata": {},
   "outputs": [
    {
     "name": "stdout",
     "output_type": "stream",
     "text": [
      "[(1, 'a'), (1, 'b'), (2, 'a'), (2, 'b')]\n"
     ]
    }
   ],
   "source": [
    "pairs = [(x, y) for x in [1, 2] for y in ['a', 'b']]\n",
    "print(pairs)  # [(1, 'a'), (1, 'b'), (2, 'a'), (2, 'b')]"
   ]
  },
  {
   "cell_type": "markdown",
   "id": "18687f4c",
   "metadata": {},
   "source": [
    "> Think of it like:\n",
    "```python\n",
    "for x in [1, 2]:\n",
    "    for y in ['a', 'b']:\n",
    "        ...\n",
    "```"
   ]
  },
  {
   "cell_type": "markdown",
   "id": "9a5f167a",
   "metadata": {},
   "source": [
    "---\n",
    "\n",
    "## 🧪 More Real Examples\n",
    "\n",
    "### 1. Square all even numbersm"
   ]
  },
  {
   "cell_type": "code",
   "execution_count": 10,
   "id": "f56aaea1",
   "metadata": {},
   "outputs": [
    {
     "data": {
      "text/plain": [
       "[0, 4, 16, 36, 64]"
      ]
     },
     "execution_count": 10,
     "metadata": {},
     "output_type": "execute_result"
    }
   ],
   "source": [
    "[x**2 for x in range(10) if x % 2 == 0]"
   ]
  },
  {
   "cell_type": "markdown",
   "id": "6fd0d6b3",
   "metadata": {},
   "source": [
    "### 2. Extract first characters from list of strings"
   ]
  },
  {
   "cell_type": "code",
   "execution_count": 11,
   "id": "199b0df2",
   "metadata": {},
   "outputs": [],
   "source": [
    "words = [\"hello\", \"world\"]\n",
    "first_letters = [word[0] for word in words]"
   ]
  },
  {
   "cell_type": "markdown",
   "id": "83f5c54c",
   "metadata": {},
   "source": [
    "\n",
    "### 3. Flatten a 2D list"
   ]
  },
  {
   "cell_type": "code",
   "execution_count": 12,
   "id": "3d8cca39",
   "metadata": {},
   "outputs": [
    {
     "name": "stdout",
     "output_type": "stream",
     "text": [
      "[1, 2, 3, 4, 5, 6]\n"
     ]
    }
   ],
   "source": [
    "matrix = [[1, 2], [3, 4], [5, 6]]\n",
    "flattened = [num for row in matrix for num in row]\n",
    "print(flattened)  # [1, 2, 3, 4, 5, 6]"
   ]
  },
  {
   "cell_type": "markdown",
   "id": "c6f33dc4",
   "metadata": {},
   "source": [
    "---\n",
    "\n",
    "## ⚠️ Good Practices\n",
    "\n",
    "\n",
    "\n",
    "| Tip                          | Why it matters |\n",
    "|------------------------------|----------------|\n",
    "| Keep it short & readable     | Don’t cram logic-heavy loops |\n",
    "| Avoid too many `if`/`else`   | Use regular `for` if too complex |\n",
    "| Use parentheses for generator | To save memory |\n",
    "\n",
    "---\n",
    "\n",
    "## 💎 Bonus: Set & Dict Comprehensions\n",
    "\n",
    "### Set Comprehension:"
   ]
  },
  {
   "cell_type": "code",
   "execution_count": 13,
   "id": "1bbf8930",
   "metadata": {},
   "outputs": [],
   "source": [
    "squares = {x**2 for x in range(5)}"
   ]
  },
  {
   "cell_type": "markdown",
   "id": "3ee06437",
   "metadata": {},
   "source": [
    "\n",
    "### Dictionary Comprehension:"
   ]
  },
  {
   "cell_type": "code",
   "execution_count": 14,
   "id": "8c1b50c5",
   "metadata": {},
   "outputs": [],
   "source": [
    "squared_map = {x: x**2 for x in range(5)}"
   ]
  },
  {
   "cell_type": "markdown",
   "id": "fe9ec53e",
   "metadata": {},
   "source": [
    "---\n",
    "\n",
    "## 🧠 Summary\n",
    "\n",
    "| Goal                          | List Comprehension                        |\n",
    "|-------------------------------|-------------------------------------------|\n",
    "| Transform a list              | `[x * 2 for x in lst]`                    |\n",
    "| Filter items                  | `[x for x in lst if condition]`           |\n",
    "| Conditional logic             | `[x if cond else y for x in lst]`         |\n",
    "| Nested loops                  | `[f(x, y) for x in A for y in B]`         |\n",
    "| Flatten lists                 | `[i for sublist in lst for i in sublist]` |\n",
    "\n",
    "---\n",
    "\n",
    "> ✨ **List comprehensions are Python's built-in DSL for data transformation** — fast, expressive, and readable when used wisely.\n"
   ]
  },
  {
   "cell_type": "markdown",
   "id": "19d92e41",
   "metadata": {},
   "source": [
    "# 🧠 Functional Tools in Python: `map`, `filter`, and `itertools`\n",
    "\n",
    "---\n",
    "\n",
    "## 🎯 Why Use These Tools?\n",
    "\n",
    "Python provides a set of **built-in functional tools** that help us write code in a **cleaner, more declarative, and Pythonic** way — especially when dealing with **transformations, filtering, and iteration**.\n",
    "\n",
    "Instead of writing explicit `for` loops, you can use:\n",
    "- `map()` → to transform data\n",
    "- `filter()` → to select data\n",
    "- `zip()`, `enumerate()` → to combine or track data\n",
    "- `itertools` → for powerful iteration patterns\n",
    "\n",
    "Let’s look at how these tools compare to traditional `list comprehension`.\n",
    "\n",
    "---\n",
    "\n",
    "## 🔧 `map()`\n",
    "\n",
    "> Applies a function to each item in an iterable.\n",
    "\n",
    "### ✅ Syntax:\n",
    "\n",
    "```python\n",
    "map(function, iterable)\n",
    "```\n"
   ]
  },
  {
   "cell_type": "markdown",
   "id": "f4fbc704",
   "metadata": {},
   "source": [
    "\n",
    "### 🔁 Example 1: Doubling numbers\n",
    "\n",
    "#### List Comprehension:"
   ]
  },
  {
   "cell_type": "code",
   "execution_count": 15,
   "id": "66c2411b",
   "metadata": {},
   "outputs": [
    {
     "data": {
      "text/plain": [
       "[0, 2, 4, 6, 8]"
      ]
     },
     "execution_count": 15,
     "metadata": {},
     "output_type": "execute_result"
    }
   ],
   "source": [
    "[x * 2 for x in range(5)]  # [0, 2, 4, 6, 8]"
   ]
  },
  {
   "cell_type": "markdown",
   "id": "70a7f613",
   "metadata": {},
   "source": [
    "#### Using `map`:"
   ]
  },
  {
   "cell_type": "code",
   "execution_count": 16,
   "id": "6883e938",
   "metadata": {},
   "outputs": [
    {
     "data": {
      "text/plain": [
       "[0, 2, 4, 6, 8]"
      ]
     },
     "execution_count": 16,
     "metadata": {},
     "output_type": "execute_result"
    }
   ],
   "source": [
    "list(map(lambda x: x * 2, range(5)))"
   ]
  },
  {
   "cell_type": "markdown",
   "id": "fab552cb",
   "metadata": {},
   "source": [
    "---\n",
    "\n",
    "### 🔁 Example 2: Convert all strings to uppercase\n",
    "\n",
    "#### List Comprehension:"
   ]
  },
  {
   "cell_type": "code",
   "execution_count": 17,
   "id": "a6f62d0e",
   "metadata": {},
   "outputs": [
    {
     "data": {
      "text/plain": [
       "['A', 'B', 'C']"
      ]
     },
     "execution_count": 17,
     "metadata": {},
     "output_type": "execute_result"
    }
   ],
   "source": [
    "[word.upper() for word in [\"a\", \"b\", \"c\"]]"
   ]
  },
  {
   "cell_type": "markdown",
   "id": "a9eeda13",
   "metadata": {},
   "source": [
    "#### Using `map`:"
   ]
  },
  {
   "cell_type": "code",
   "execution_count": 18,
   "id": "9c636200",
   "metadata": {},
   "outputs": [
    {
     "data": {
      "text/plain": [
       "['A', 'B', 'C']"
      ]
     },
     "execution_count": 18,
     "metadata": {},
     "output_type": "execute_result"
    }
   ],
   "source": [
    "list(map(str.upper, [\"a\", \"b\", \"c\"]))"
   ]
  },
  {
   "cell_type": "markdown",
   "id": "7e5f928a",
   "metadata": {},
   "source": [
    "---\n",
    "\n",
    "## 🔍 `filter()`\n",
    "\n",
    "> Filters elements from an iterable based on a condition.\n",
    "\n",
    "### ✅ Syntax:\n",
    "\n",
    "```python\n",
    "filter(function, iterable)\n",
    "```"
   ]
  },
  {
   "cell_type": "markdown",
   "id": "22364ff7",
   "metadata": {},
   "source": [
    "\n",
    "### 🔁 Example 1: Filter even numbers\n",
    "\n",
    "#### List Comprehension:"
   ]
  },
  {
   "cell_type": "code",
   "execution_count": 19,
   "id": "07a2eb69",
   "metadata": {},
   "outputs": [
    {
     "data": {
      "text/plain": [
       "[0, 2, 4, 6, 8]"
      ]
     },
     "execution_count": 19,
     "metadata": {},
     "output_type": "execute_result"
    }
   ],
   "source": [
    "[x for x in range(10) if x % 2 == 0]"
   ]
  },
  {
   "cell_type": "markdown",
   "id": "5d2d7da6",
   "metadata": {},
   "source": [
    "#### Using `filter`:"
   ]
  },
  {
   "cell_type": "code",
   "execution_count": 20,
   "id": "30fadb80",
   "metadata": {},
   "outputs": [
    {
     "data": {
      "text/plain": [
       "[0, 2, 4, 6, 8]"
      ]
     },
     "execution_count": 20,
     "metadata": {},
     "output_type": "execute_result"
    }
   ],
   "source": [
    "list(filter(lambda x: x % 2 == 0, range(10)))"
   ]
  },
  {
   "cell_type": "markdown",
   "id": "9d62a3c3",
   "metadata": {},
   "source": [
    "---\n",
    "\n",
    "### 🔁 Example 2: Filter out empty strings\n"
   ]
  },
  {
   "cell_type": "code",
   "execution_count": 21,
   "id": "e306d306",
   "metadata": {},
   "outputs": [],
   "source": [
    "words = [\"Python\", \"\", \"AI\", \"\", \"Data\"]"
   ]
  },
  {
   "cell_type": "markdown",
   "id": "02ff5f2e",
   "metadata": {},
   "source": [
    "#### List Comprehension:"
   ]
  },
  {
   "cell_type": "code",
   "execution_count": 22,
   "id": "a8123dc6",
   "metadata": {},
   "outputs": [
    {
     "data": {
      "text/plain": [
       "['Python', 'AI', 'Data']"
      ]
     },
     "execution_count": 22,
     "metadata": {},
     "output_type": "execute_result"
    }
   ],
   "source": [
    "[word for word in words if word]"
   ]
  },
  {
   "cell_type": "markdown",
   "id": "b4d324fe",
   "metadata": {},
   "source": [
    "#### Using `filter`:"
   ]
  },
  {
   "cell_type": "code",
   "execution_count": 23,
   "id": "a777cfde",
   "metadata": {},
   "outputs": [
    {
     "data": {
      "text/plain": [
       "['Python', 'AI', 'Data']"
      ]
     },
     "execution_count": 23,
     "metadata": {},
     "output_type": "execute_result"
    }
   ],
   "source": [
    "list(filter(None, words))"
   ]
  },
  {
   "cell_type": "markdown",
   "id": "cb5797f5",
   "metadata": {},
   "source": [
    "\n",
    "---\n",
    "\n",
    "## 🔗 `zip()` – Combine Iterables\n",
    "\n",
    "> Combines multiple iterables into tuples, element by element.\n",
    "\n",
    "### 🧪 Example:"
   ]
  },
  {
   "cell_type": "code",
   "execution_count": 24,
   "id": "77dddc17",
   "metadata": {},
   "outputs": [],
   "source": [
    "names = [\"Ali\", \"Sara\", \"Omid\"]\n",
    "scores = [95, 88, 77]"
   ]
  },
  {
   "cell_type": "code",
   "execution_count": 25,
   "id": "716c8035",
   "metadata": {},
   "outputs": [
    {
     "data": {
      "text/plain": [
       "[('Ali', 95), ('Sara', 88), ('Omid', 77)]"
      ]
     },
     "execution_count": 25,
     "metadata": {},
     "output_type": "execute_result"
    }
   ],
   "source": [
    "list(zip(names, scores))\n",
    "# [('Ali', 95), ('Sara', 88), ('Omid', 77)]"
   ]
  },
  {
   "cell_type": "markdown",
   "id": "037db691",
   "metadata": {},
   "source": [
    "---\n",
    "\n",
    "## 🔢 `enumerate()` – Index + Item\n",
    "\n",
    "> Adds a counter to an iterable.\n"
   ]
  },
  {
   "cell_type": "code",
   "execution_count": 26,
   "id": "64638779",
   "metadata": {},
   "outputs": [
    {
     "name": "stdout",
     "output_type": "stream",
     "text": [
      "0 apple\n",
      "1 banana\n"
     ]
    }
   ],
   "source": [
    "for index, value in enumerate([\"apple\", \"banana\"]):\n",
    "    print(index, value)"
   ]
  },
  {
   "cell_type": "markdown",
   "id": "6326a7d5",
   "metadata": {},
   "source": [
    "\n",
    "---\n",
    "\n",
    "## 🔥 `itertools` – Advanced Iteration Tools\n",
    "\n",
    "The `itertools` module provides **lazy**, **memory-efficient**, and **composable** functions for working with iterables.\n"
   ]
  },
  {
   "cell_type": "code",
   "execution_count": 27,
   "id": "a6dd4ba3",
   "metadata": {},
   "outputs": [],
   "source": [
    "import itertools"
   ]
  },
  {
   "cell_type": "markdown",
   "id": "e0524952",
   "metadata": {},
   "source": [
    "\n",
    "---\n",
    "\n",
    "### ✅ Common itertools Functions\n",
    "\n",
    "| Function               | Description                                      |\n",
    "|------------------------|--------------------------------------------------|\n",
    "| `count(start)`         | Infinite counter (lazy)                          |\n",
    "| `cycle(iterable)`      | Repeat items forever                             |\n",
    "| `repeat(item, times)`  | Repeat item N times                              |\n",
    "| `chain(a, b, ...)`     | Flatten multiple iterables                       |\n",
    "| `product(a, b)`        | Cartesian product of iterables                   |\n",
    "| `permutations(iter)`   | All orderings                                    |\n",
    "| `combinations(iter, r)`| All r-length combinations                        |\n",
    "| `accumulate(iter)`     | Running total or custom accumulation             |\n",
    "| `groupby(iter, key)`   | Group consecutive items by a key function        |\n",
    "\n",
    "---\n",
    "\n",
    "### 🔁 Example: `itertools.chain`\n"
   ]
  },
  {
   "cell_type": "code",
   "execution_count": 28,
   "id": "ef32a5a6",
   "metadata": {},
   "outputs": [
    {
     "data": {
      "text/plain": [
       "[1, 2, 3, 4]"
      ]
     },
     "execution_count": 28,
     "metadata": {},
     "output_type": "execute_result"
    }
   ],
   "source": [
    "from itertools import chain\n",
    "\n",
    "a = [1, 2]\n",
    "b = [3, 4]\n",
    "list(chain(a, b))  # [1, 2, 3, 4]"
   ]
  },
  {
   "cell_type": "markdown",
   "id": "4bab7ece",
   "metadata": {},
   "source": [
    "Equivalent list comprehension:"
   ]
  },
  {
   "cell_type": "code",
   "execution_count": 29,
   "id": "38b3166a",
   "metadata": {},
   "outputs": [
    {
     "data": {
      "text/plain": [
       "[1, 2, 3, 4]"
      ]
     },
     "execution_count": 29,
     "metadata": {},
     "output_type": "execute_result"
    }
   ],
   "source": [
    "[x for seq in [a, b] for x in seq]"
   ]
  },
  {
   "cell_type": "markdown",
   "id": "a013f15e",
   "metadata": {},
   "source": [
    "---\n",
    "\n",
    "### 🔁 Example: `itertools.product`\n"
   ]
  },
  {
   "cell_type": "code",
   "execution_count": 30,
   "id": "258a85dc",
   "metadata": {},
   "outputs": [
    {
     "data": {
      "text/plain": [
       "[(1, 'a'), (1, 'b'), (2, 'a'), (2, 'b')]"
      ]
     },
     "execution_count": 30,
     "metadata": {},
     "output_type": "execute_result"
    }
   ],
   "source": [
    "from itertools import product\n",
    "\n",
    "list(product([1, 2], ['a', 'b']))"
   ]
  },
  {
   "cell_type": "markdown",
   "id": "4ac9d493",
   "metadata": {},
   "source": [
    "Equivalent nested loops:"
   ]
  },
  {
   "cell_type": "code",
   "execution_count": 31,
   "id": "b7b7b2f9",
   "metadata": {},
   "outputs": [
    {
     "data": {
      "text/plain": [
       "[(1, 'a'), (1, 'b'), (2, 'a'), (2, 'b')]"
      ]
     },
     "execution_count": 31,
     "metadata": {},
     "output_type": "execute_result"
    }
   ],
   "source": [
    "[(x, y) for x in [1, 2] for y in ['a', 'b']]"
   ]
  },
  {
   "cell_type": "markdown",
   "id": "eae2ee9c",
   "metadata": {},
   "source": [
    "---\n",
    "\n",
    "### 🔁 Example: `itertools.accumulate`"
   ]
  },
  {
   "cell_type": "code",
   "execution_count": 32,
   "id": "06af3226",
   "metadata": {},
   "outputs": [
    {
     "data": {
      "text/plain": [
       "[1, 3, 6, 10]"
      ]
     },
     "execution_count": 32,
     "metadata": {},
     "output_type": "execute_result"
    }
   ],
   "source": [
    "from itertools import accumulate\n",
    "\n",
    "list(accumulate([1, 2, 3, 4]))  # [1, 3, 6, 10]"
   ]
  },
  {
   "cell_type": "markdown",
   "id": "d75de40a",
   "metadata": {},
   "source": [
    "---\n",
    "\n",
    "## 🧠 Summary Table\n",
    "\n",
    "| Task                      | List Comprehension                          | Functional Equivalent       |\n",
    "|---------------------------|---------------------------------------------|-----------------------------|\n",
    "| Transform values          | `[x * 2 for x in lst]`                      | `map(lambda x: x * 2, lst)` |\n",
    "| Filter values             | `[x for x in lst if x > 0]`                 | `filter(lambda x: x > 0, lst)` |\n",
    "| Flatten nested lists      | `[i for sub in lst for i in sub]`           | `chain.from_iterable(lst)`  |\n",
    "| Cartesian product         | `[(x, y) for x in A for y in B]`            | `product(A, B)`             |\n",
    "| Enumerate items           | `[(i, v) for i, v in enumerate(lst)]`       | `enumerate(lst)`            |\n",
    "\n",
    "---\n",
    "\n",
    "> 🧠 These tools are not just about writing shorter code — they encourage **thinking in terms of transformations and composition**, which is at the heart of functional programming in Python.\n",
    "\n",
    "---\n",
    "\n",
    "📌 Next: Would you like to explore **generator expressions** and **lazy evaluation** for efficient iteration in large datasets?\n"
   ]
  },
  {
   "cell_type": "markdown",
   "id": "9487ccb5",
   "metadata": {},
   "source": [
    "# 📊 Functional Programming with Pandas & NumPy\n",
    "\n",
    "---\n",
    "\n",
    "## 📦 Introduction\n",
    "\n",
    "`pandas` and `numpy` are the **go-to libraries** for data manipulation and numerical computing in Python. Both of them support a **vectorized and functional style** of coding that helps avoid explicit loops.\n",
    "\n",
    "> Instead of saying “loop over each row,” you can say “apply this transformation to all rows” — the **functional mindset**.\n",
    "\n",
    "---\n",
    "\n",
    "## 🧠 Why Functional?\n",
    "\n",
    "- Faster (internally written in C)\n",
    "- More readable\n",
    "- Closer to SQL and math-style operations\n",
    "- Avoids explicit `for` loops\n",
    "\n",
    "---\n",
    "\n",
    "## 🧮 NumPy – Functional Thinking with Arrays\n",
    "\n",
    "### 📌 Element-wise Transformation\n",
    "\n"
   ]
  },
  {
   "cell_type": "code",
   "execution_count": 33,
   "id": "c8b46634",
   "metadata": {},
   "outputs": [],
   "source": [
    "import numpy as np\n",
    "\n",
    "arr = np.array([1, 2, 3, 4])\n",
    "\n",
    "# Multiply all elements by 10\n",
    "result = arr * 10"
   ]
  },
  {
   "cell_type": "markdown",
   "id": "53fe131f",
   "metadata": {},
   "source": [
    "#### ❌ Instead of:"
   ]
  },
  {
   "cell_type": "code",
   "execution_count": 34,
   "id": "cc5a472f",
   "metadata": {},
   "outputs": [
    {
     "data": {
      "text/plain": [
       "[10, 20, 30, 40]"
      ]
     },
     "execution_count": 34,
     "metadata": {},
     "output_type": "execute_result"
    }
   ],
   "source": [
    "[x * 10 for x in arr]"
   ]
  },
  {
   "cell_type": "markdown",
   "id": "0aef647e",
   "metadata": {},
   "source": [
    "---\n",
    "\n",
    "### 🔍 Filtering (Boolean Masking)"
   ]
  },
  {
   "cell_type": "code",
   "execution_count": 35,
   "id": "7a4addf3",
   "metadata": {},
   "outputs": [],
   "source": [
    "# Keep only even numbers\n",
    "even = arr[arr % 2 == 0]"
   ]
  },
  {
   "cell_type": "markdown",
   "id": "bafbd67c",
   "metadata": {},
   "source": [
    "#### ✅ This is like:"
   ]
  },
  {
   "cell_type": "code",
   "execution_count": 36,
   "id": "72403bbb",
   "metadata": {},
   "outputs": [
    {
     "data": {
      "text/plain": [
       "[2, 4]"
      ]
     },
     "execution_count": 36,
     "metadata": {},
     "output_type": "execute_result"
    }
   ],
   "source": [
    "list(filter(lambda x: x % 2 == 0, arr))"
   ]
  },
  {
   "cell_type": "markdown",
   "id": "aa38217f",
   "metadata": {},
   "source": [
    "---\n",
    "\n",
    "### 📊 Aggregation (Functional Reduce)"
   ]
  },
  {
   "cell_type": "code",
   "execution_count": 37,
   "id": "db016942",
   "metadata": {},
   "outputs": [
    {
     "data": {
      "text/plain": [
       "2.5"
      ]
     },
     "execution_count": 37,
     "metadata": {},
     "output_type": "execute_result"
    }
   ],
   "source": [
    "np.sum(arr)       # Like reduce(add, arr)\n",
    "np.prod(arr)      # Product of all elements\n",
    "np.max(arr)       # Maximum value\n",
    "np.mean(arr)      # Average"
   ]
  },
  {
   "cell_type": "markdown",
   "id": "9e77e299",
   "metadata": {},
   "source": [
    "\n",
    "---\n",
    "\n",
    "## 🧰 Pandas – Functional DataFrame Processing"
   ]
  },
  {
   "cell_type": "code",
   "execution_count": 38,
   "id": "0ac93625",
   "metadata": {},
   "outputs": [],
   "source": [
    "import pandas as pd\n",
    "\n",
    "df = pd.DataFrame({\n",
    "    \"name\": [\"Ali\", \"Sara\", \"Nima\"],\n",
    "    \"score\": [85, 92, 78]\n",
    "})"
   ]
  },
  {
   "cell_type": "markdown",
   "id": "f4ed63da",
   "metadata": {},
   "source": [
    "\n",
    "---\n",
    "\n",
    "### 🔄 `.map()` – Like `map()` for a Series\n"
   ]
  },
  {
   "cell_type": "code",
   "execution_count": 39,
   "id": "c601768f",
   "metadata": {},
   "outputs": [
    {
     "data": {
      "text/html": [
       "<div>\n",
       "<style scoped>\n",
       "    .dataframe tbody tr th:only-of-type {\n",
       "        vertical-align: middle;\n",
       "    }\n",
       "\n",
       "    .dataframe tbody tr th {\n",
       "        vertical-align: top;\n",
       "    }\n",
       "\n",
       "    .dataframe thead th {\n",
       "        text-align: right;\n",
       "    }\n",
       "</style>\n",
       "<table border=\"1\" class=\"dataframe\">\n",
       "  <thead>\n",
       "    <tr style=\"text-align: right;\">\n",
       "      <th></th>\n",
       "      <th>name</th>\n",
       "      <th>score</th>\n",
       "      <th>score_plus_5</th>\n",
       "    </tr>\n",
       "  </thead>\n",
       "  <tbody>\n",
       "    <tr>\n",
       "      <th>0</th>\n",
       "      <td>Ali</td>\n",
       "      <td>85</td>\n",
       "      <td>90</td>\n",
       "    </tr>\n",
       "    <tr>\n",
       "      <th>1</th>\n",
       "      <td>Sara</td>\n",
       "      <td>92</td>\n",
       "      <td>97</td>\n",
       "    </tr>\n",
       "    <tr>\n",
       "      <th>2</th>\n",
       "      <td>Nima</td>\n",
       "      <td>78</td>\n",
       "      <td>83</td>\n",
       "    </tr>\n",
       "  </tbody>\n",
       "</table>\n",
       "</div>"
      ],
      "text/plain": [
       "   name  score  score_plus_5\n",
       "0   Ali     85            90\n",
       "1  Sara     92            97\n",
       "2  Nima     78            83"
      ]
     },
     "execution_count": 39,
     "metadata": {},
     "output_type": "execute_result"
    }
   ],
   "source": [
    "df[\"score_plus_5\"] = df[\"score\"].map(lambda x: x + 5)\n",
    "df"
   ]
  },
  {
   "cell_type": "markdown",
   "id": "5faea683",
   "metadata": {},
   "source": [
    "\n",
    "---\n",
    "\n",
    "### 🧪 `.apply()` – Apply function to rows or columns"
   ]
  },
  {
   "cell_type": "code",
   "execution_count": 40,
   "id": "6ccb2c3a",
   "metadata": {},
   "outputs": [
    {
     "data": {
      "text/html": [
       "<div>\n",
       "<style scoped>\n",
       "    .dataframe tbody tr th:only-of-type {\n",
       "        vertical-align: middle;\n",
       "    }\n",
       "\n",
       "    .dataframe tbody tr th {\n",
       "        vertical-align: top;\n",
       "    }\n",
       "\n",
       "    .dataframe thead th {\n",
       "        text-align: right;\n",
       "    }\n",
       "</style>\n",
       "<table border=\"1\" class=\"dataframe\">\n",
       "  <thead>\n",
       "    <tr style=\"text-align: right;\">\n",
       "      <th></th>\n",
       "      <th>name</th>\n",
       "      <th>score</th>\n",
       "      <th>score_plus_5</th>\n",
       "      <th>status</th>\n",
       "    </tr>\n",
       "  </thead>\n",
       "  <tbody>\n",
       "    <tr>\n",
       "      <th>0</th>\n",
       "      <td>Ali</td>\n",
       "      <td>85</td>\n",
       "      <td>90</td>\n",
       "      <td>pass</td>\n",
       "    </tr>\n",
       "    <tr>\n",
       "      <th>1</th>\n",
       "      <td>Sara</td>\n",
       "      <td>92</td>\n",
       "      <td>97</td>\n",
       "      <td>pass</td>\n",
       "    </tr>\n",
       "    <tr>\n",
       "      <th>2</th>\n",
       "      <td>Nima</td>\n",
       "      <td>78</td>\n",
       "      <td>83</td>\n",
       "      <td>fail</td>\n",
       "    </tr>\n",
       "  </tbody>\n",
       "</table>\n",
       "</div>"
      ],
      "text/plain": [
       "   name  score  score_plus_5 status\n",
       "0   Ali     85            90   pass\n",
       "1  Sara     92            97   pass\n",
       "2  Nima     78            83   fail"
      ]
     },
     "execution_count": 40,
     "metadata": {},
     "output_type": "execute_result"
    }
   ],
   "source": [
    "# Apply row-wise\n",
    "df[\"status\"] = df.apply(\n",
    "    lambda row: \"pass\" if row[\"score\"] >= 80 else \"fail\",\n",
    "    axis=1\n",
    ")\n",
    "df"
   ]
  },
  {
   "cell_type": "markdown",
   "id": "d4e97557",
   "metadata": {},
   "source": [
    "---\n",
    "\n",
    "### 🔎 `.query()` – Functional Filtering\n",
    "\n"
   ]
  },
  {
   "cell_type": "code",
   "execution_count": 41,
   "id": "9da9d416",
   "metadata": {},
   "outputs": [
    {
     "data": {
      "text/html": [
       "<div>\n",
       "<style scoped>\n",
       "    .dataframe tbody tr th:only-of-type {\n",
       "        vertical-align: middle;\n",
       "    }\n",
       "\n",
       "    .dataframe tbody tr th {\n",
       "        vertical-align: top;\n",
       "    }\n",
       "\n",
       "    .dataframe thead th {\n",
       "        text-align: right;\n",
       "    }\n",
       "</style>\n",
       "<table border=\"1\" class=\"dataframe\">\n",
       "  <thead>\n",
       "    <tr style=\"text-align: right;\">\n",
       "      <th></th>\n",
       "      <th>name</th>\n",
       "      <th>score</th>\n",
       "      <th>score_plus_5</th>\n",
       "      <th>status</th>\n",
       "    </tr>\n",
       "  </thead>\n",
       "  <tbody>\n",
       "    <tr>\n",
       "      <th>0</th>\n",
       "      <td>Ali</td>\n",
       "      <td>85</td>\n",
       "      <td>90</td>\n",
       "      <td>pass</td>\n",
       "    </tr>\n",
       "    <tr>\n",
       "      <th>1</th>\n",
       "      <td>Sara</td>\n",
       "      <td>92</td>\n",
       "      <td>97</td>\n",
       "      <td>pass</td>\n",
       "    </tr>\n",
       "  </tbody>\n",
       "</table>\n",
       "</div>"
      ],
      "text/plain": [
       "   name  score  score_plus_5 status\n",
       "0   Ali     85            90   pass\n",
       "1  Sara     92            97   pass"
      ]
     },
     "execution_count": 41,
     "metadata": {},
     "output_type": "execute_result"
    }
   ],
   "source": [
    "high_scores = df.query(\"score > 80\")\n",
    "high_scores"
   ]
  },
  {
   "cell_type": "markdown",
   "id": "c2c7d7d3",
   "metadata": {},
   "source": [
    "\n",
    "---\n",
    "\n",
    "### 🧼 `.pipe()` – Function Composition\n"
   ]
  },
  {
   "cell_type": "code",
   "execution_count": 42,
   "id": "cc5bdc72",
   "metadata": {},
   "outputs": [
    {
     "data": {
      "text/html": [
       "<div>\n",
       "<style scoped>\n",
       "    .dataframe tbody tr th:only-of-type {\n",
       "        vertical-align: middle;\n",
       "    }\n",
       "\n",
       "    .dataframe tbody tr th {\n",
       "        vertical-align: top;\n",
       "    }\n",
       "\n",
       "    .dataframe thead th {\n",
       "        text-align: right;\n",
       "    }\n",
       "</style>\n",
       "<table border=\"1\" class=\"dataframe\">\n",
       "  <thead>\n",
       "    <tr style=\"text-align: right;\">\n",
       "      <th></th>\n",
       "      <th>name</th>\n",
       "      <th>score</th>\n",
       "      <th>score_plus_5</th>\n",
       "      <th>status</th>\n",
       "      <th>score_n</th>\n",
       "    </tr>\n",
       "  </thead>\n",
       "  <tbody>\n",
       "    <tr>\n",
       "      <th>0</th>\n",
       "      <td>Ali</td>\n",
       "      <td>85</td>\n",
       "      <td>90</td>\n",
       "      <td>pass</td>\n",
       "      <td>0.85</td>\n",
       "    </tr>\n",
       "    <tr>\n",
       "      <th>1</th>\n",
       "      <td>Sara</td>\n",
       "      <td>92</td>\n",
       "      <td>97</td>\n",
       "      <td>pass</td>\n",
       "      <td>0.92</td>\n",
       "    </tr>\n",
       "    <tr>\n",
       "      <th>2</th>\n",
       "      <td>Nima</td>\n",
       "      <td>78</td>\n",
       "      <td>83</td>\n",
       "      <td>fail</td>\n",
       "      <td>0.78</td>\n",
       "    </tr>\n",
       "  </tbody>\n",
       "</table>\n",
       "</div>"
      ],
      "text/plain": [
       "   name  score  score_plus_5 status  score_n\n",
       "0   Ali     85            90   pass     0.85\n",
       "1  Sara     92            97   pass     0.92\n",
       "2  Nima     78            83   fail     0.78"
      ]
     },
     "execution_count": 42,
     "metadata": {},
     "output_type": "execute_result"
    }
   ],
   "source": [
    "def normalize(df):\n",
    "    df[\"score_n\"] = df[\"score\"] / 100\n",
    "    return df\n",
    "\n",
    "df = df.pipe(normalize)\n",
    "df"
   ]
  },
  {
   "cell_type": "markdown",
   "id": "3f739eb3",
   "metadata": {},
   "source": [
    "`.pipe()` allows you to **chain transformations** functionally:\n",
    "\n",
    "\n",
    "```python\n",
    "df.pipe(func1).pipe(func2)\n",
    "```"
   ]
  },
  {
   "cell_type": "markdown",
   "id": "502e7709",
   "metadata": {},
   "source": [
    "### 🔢 `.agg()` – Functional Aggregation"
   ]
  },
  {
   "cell_type": "code",
   "execution_count": 43,
   "id": "0d269e20",
   "metadata": {},
   "outputs": [
    {
     "data": {
      "text/html": [
       "<div>\n",
       "<style scoped>\n",
       "    .dataframe tbody tr th:only-of-type {\n",
       "        vertical-align: middle;\n",
       "    }\n",
       "\n",
       "    .dataframe tbody tr th {\n",
       "        vertical-align: top;\n",
       "    }\n",
       "\n",
       "    .dataframe thead th {\n",
       "        text-align: right;\n",
       "    }\n",
       "</style>\n",
       "<table border=\"1\" class=\"dataframe\">\n",
       "  <thead>\n",
       "    <tr style=\"text-align: right;\">\n",
       "      <th></th>\n",
       "      <th>score</th>\n",
       "    </tr>\n",
       "  </thead>\n",
       "  <tbody>\n",
       "    <tr>\n",
       "      <th>mean</th>\n",
       "      <td>85.0</td>\n",
       "    </tr>\n",
       "    <tr>\n",
       "      <th>max</th>\n",
       "      <td>92.0</td>\n",
       "    </tr>\n",
       "    <tr>\n",
       "      <th>min</th>\n",
       "      <td>78.0</td>\n",
       "    </tr>\n",
       "  </tbody>\n",
       "</table>\n",
       "</div>"
      ],
      "text/plain": [
       "      score\n",
       "mean   85.0\n",
       "max    92.0\n",
       "min    78.0"
      ]
     },
     "execution_count": 43,
     "metadata": {},
     "output_type": "execute_result"
    }
   ],
   "source": [
    "df.agg({\n",
    "    \"score\": [\"mean\", \"max\", \"min\"]\n",
    "})"
   ]
  },
  {
   "cell_type": "markdown",
   "id": "7b71f3b5",
   "metadata": {},
   "source": [
    "\n",
    "---\n",
    "\n",
    "### 🎛️ Functional Summary in Pandas\n",
    "\n",
    "| Goal              | Pandas Tool     | Functional Equivalent |\n",
    "|-------------------|-----------------|------------------------|\n",
    "| Transform column  | `.map()`        | `map()`                |\n",
    "| Row logic         | `.apply()`      | `map()` over dicts     |\n",
    "| Filter rows       | `.query()`      | `filter()`             |\n",
    "| Aggregation       | `.agg()`        | `reduce()`             |\n",
    "| Chain ops         | `.pipe()`       | function composition   |\n",
    "\n",
    "---\n",
    "\n",
    "## 🧠 Key Takeaway\n",
    "\n",
    "> Pandas and NumPy are inherently **functional-style libraries**.  \n",
    "> Learn to express **“what” should happen to the data**, not **“how” to loop over it.**\n",
    "\n",
    "---\n",
    "\n",
    "## 🔚 Bonus: Avoid Loops in Pandas\n",
    "\n",
    "❌ Don’t do this:\n"
   ]
  },
  {
   "cell_type": "code",
   "execution_count": 48,
   "id": "fbf1f555",
   "metadata": {},
   "outputs": [
    {
     "data": {
      "text/html": [
       "<div>\n",
       "<style scoped>\n",
       "    .dataframe tbody tr th:only-of-type {\n",
       "        vertical-align: middle;\n",
       "    }\n",
       "\n",
       "    .dataframe tbody tr th {\n",
       "        vertical-align: top;\n",
       "    }\n",
       "\n",
       "    .dataframe thead th {\n",
       "        text-align: right;\n",
       "    }\n",
       "</style>\n",
       "<table border=\"1\" class=\"dataframe\">\n",
       "  <thead>\n",
       "    <tr style=\"text-align: right;\">\n",
       "      <th></th>\n",
       "      <th>name</th>\n",
       "      <th>score</th>\n",
       "      <th>score_plus_5</th>\n",
       "      <th>status</th>\n",
       "      <th>score_n</th>\n",
       "      <th>new_col</th>\n",
       "    </tr>\n",
       "  </thead>\n",
       "  <tbody>\n",
       "    <tr>\n",
       "      <th>0</th>\n",
       "      <td>Ali</td>\n",
       "      <td>85</td>\n",
       "      <td>90</td>\n",
       "      <td>pass</td>\n",
       "      <td>0.85</td>\n",
       "      <td>90</td>\n",
       "    </tr>\n",
       "    <tr>\n",
       "      <th>1</th>\n",
       "      <td>Sara</td>\n",
       "      <td>92</td>\n",
       "      <td>97</td>\n",
       "      <td>pass</td>\n",
       "      <td>0.92</td>\n",
       "      <td>97</td>\n",
       "    </tr>\n",
       "    <tr>\n",
       "      <th>2</th>\n",
       "      <td>Nima</td>\n",
       "      <td>78</td>\n",
       "      <td>83</td>\n",
       "      <td>fail</td>\n",
       "      <td>0.78</td>\n",
       "      <td>83</td>\n",
       "    </tr>\n",
       "  </tbody>\n",
       "</table>\n",
       "</div>"
      ],
      "text/plain": [
       "   name  score  score_plus_5 status  score_n  new_col\n",
       "0   Ali     85            90   pass     0.85       90\n",
       "1  Sara     92            97   pass     0.92       97\n",
       "2  Nima     78            83   fail     0.78       83"
      ]
     },
     "execution_count": 48,
     "metadata": {},
     "output_type": "execute_result"
    }
   ],
   "source": [
    "for i in range(len(df)):\n",
    "    df.loc[i, \"new_col\"] = df.loc[i, \"score\"] + 5\n",
    "df"
   ]
  },
  {
   "cell_type": "markdown",
   "id": "610c3a97",
   "metadata": {},
   "source": [
    "✅ Do this:"
   ]
  },
  {
   "cell_type": "code",
   "execution_count": 47,
   "id": "95d62f24",
   "metadata": {},
   "outputs": [
    {
     "data": {
      "text/html": [
       "<div>\n",
       "<style scoped>\n",
       "    .dataframe tbody tr th:only-of-type {\n",
       "        vertical-align: middle;\n",
       "    }\n",
       "\n",
       "    .dataframe tbody tr th {\n",
       "        vertical-align: top;\n",
       "    }\n",
       "\n",
       "    .dataframe thead th {\n",
       "        text-align: right;\n",
       "    }\n",
       "</style>\n",
       "<table border=\"1\" class=\"dataframe\">\n",
       "  <thead>\n",
       "    <tr style=\"text-align: right;\">\n",
       "      <th></th>\n",
       "      <th>name</th>\n",
       "      <th>score</th>\n",
       "      <th>score_plus_5</th>\n",
       "      <th>status</th>\n",
       "      <th>score_n</th>\n",
       "      <th>new_col</th>\n",
       "    </tr>\n",
       "  </thead>\n",
       "  <tbody>\n",
       "    <tr>\n",
       "      <th>0</th>\n",
       "      <td>Ali</td>\n",
       "      <td>85</td>\n",
       "      <td>90</td>\n",
       "      <td>pass</td>\n",
       "      <td>0.85</td>\n",
       "      <td>90</td>\n",
       "    </tr>\n",
       "    <tr>\n",
       "      <th>1</th>\n",
       "      <td>Sara</td>\n",
       "      <td>92</td>\n",
       "      <td>97</td>\n",
       "      <td>pass</td>\n",
       "      <td>0.92</td>\n",
       "      <td>97</td>\n",
       "    </tr>\n",
       "    <tr>\n",
       "      <th>2</th>\n",
       "      <td>Nima</td>\n",
       "      <td>78</td>\n",
       "      <td>83</td>\n",
       "      <td>fail</td>\n",
       "      <td>0.78</td>\n",
       "      <td>83</td>\n",
       "    </tr>\n",
       "  </tbody>\n",
       "</table>\n",
       "</div>"
      ],
      "text/plain": [
       "   name  score  score_plus_5 status  score_n  new_col\n",
       "0   Ali     85            90   pass     0.85       90\n",
       "1  Sara     92            97   pass     0.92       97\n",
       "2  Nima     78            83   fail     0.78       83"
      ]
     },
     "execution_count": 47,
     "metadata": {},
     "output_type": "execute_result"
    }
   ],
   "source": [
    "df[\"new_col\"] = df[\"score\"] + 5\n",
    "df"
   ]
  },
  {
   "cell_type": "markdown",
   "id": "a0c7ffd2",
   "metadata": {},
   "source": [
    "Or even better:"
   ]
  },
  {
   "cell_type": "code",
   "execution_count": 49,
   "id": "ad7e1208",
   "metadata": {},
   "outputs": [
    {
     "data": {
      "text/html": [
       "<div>\n",
       "<style scoped>\n",
       "    .dataframe tbody tr th:only-of-type {\n",
       "        vertical-align: middle;\n",
       "    }\n",
       "\n",
       "    .dataframe tbody tr th {\n",
       "        vertical-align: top;\n",
       "    }\n",
       "\n",
       "    .dataframe thead th {\n",
       "        text-align: right;\n",
       "    }\n",
       "</style>\n",
       "<table border=\"1\" class=\"dataframe\">\n",
       "  <thead>\n",
       "    <tr style=\"text-align: right;\">\n",
       "      <th></th>\n",
       "      <th>name</th>\n",
       "      <th>score</th>\n",
       "      <th>score_plus_5</th>\n",
       "      <th>status</th>\n",
       "      <th>score_n</th>\n",
       "      <th>new_col</th>\n",
       "    </tr>\n",
       "  </thead>\n",
       "  <tbody>\n",
       "    <tr>\n",
       "      <th>0</th>\n",
       "      <td>Ali</td>\n",
       "      <td>85</td>\n",
       "      <td>90</td>\n",
       "      <td>pass</td>\n",
       "      <td>0.85</td>\n",
       "      <td>90</td>\n",
       "    </tr>\n",
       "    <tr>\n",
       "      <th>1</th>\n",
       "      <td>Sara</td>\n",
       "      <td>92</td>\n",
       "      <td>97</td>\n",
       "      <td>pass</td>\n",
       "      <td>0.92</td>\n",
       "      <td>97</td>\n",
       "    </tr>\n",
       "    <tr>\n",
       "      <th>2</th>\n",
       "      <td>Nima</td>\n",
       "      <td>78</td>\n",
       "      <td>83</td>\n",
       "      <td>fail</td>\n",
       "      <td>0.78</td>\n",
       "      <td>83</td>\n",
       "    </tr>\n",
       "  </tbody>\n",
       "</table>\n",
       "</div>"
      ],
      "text/plain": [
       "   name  score  score_plus_5 status  score_n  new_col\n",
       "0   Ali     85            90   pass     0.85       90\n",
       "1  Sara     92            97   pass     0.92       97\n",
       "2  Nima     78            83   fail     0.78       83"
      ]
     },
     "execution_count": 49,
     "metadata": {},
     "output_type": "execute_result"
    }
   ],
   "source": [
    "df = df.assign(new_col=lambda d: d[\"score\"] + 5)\n",
    "df"
   ]
  },
  {
   "cell_type": "markdown",
   "id": "70cd0dd9",
   "metadata": {},
   "source": [
    "\n",
    "---\n",
    "\n",
    "> 🧪 Pandas and NumPy are not just data tools — they're Python’s bridge to functional, fast, and expressive data transformation.\n",
    "\n"
   ]
  }
 ],
 "metadata": {
  "kernelspec": {
   "display_name": "Python 3 (ipykernel)",
   "language": "python",
   "name": "python3"
  },
  "language_info": {
   "codemirror_mode": {
    "name": "ipython",
    "version": 3
   },
   "file_extension": ".py",
   "mimetype": "text/x-python",
   "name": "python",
   "nbconvert_exporter": "python",
   "pygments_lexer": "ipython3",
   "version": "3.11.5"
  }
 },
 "nbformat": 4,
 "nbformat_minor": 5
}
