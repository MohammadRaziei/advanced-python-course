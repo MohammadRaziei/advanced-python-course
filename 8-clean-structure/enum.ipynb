{
 "cells": [
  {
   "cell_type": "markdown",
   "id": "03c33a15",
   "metadata": {},
   "source": [
    "## Defining Meaningful and Safe Constants\n",
    "\n",
    "---\n",
    "\n",
    "## 🎯 What Is an Enum?\n",
    "\n",
    "**Enum** (short for **Enumeration**) is a **special class** in Python that represents a **set of named constant values**.\n",
    "\n",
    "> Enums allow you to define a collection of related values that are easier to understand, safer to use, and harder to misuse.\n",
    "\n",
    "Instead of using arbitrary strings or numbers, Enums provide **semantic names**.\n",
    "\n",
    "---\n",
    "\n",
    "## 🧠 Why Use Enums?\n",
    "\n",
    "| Problem Without Enums            | Benefit With Enums               |\n",
    "|-----------------------------------|-----------------------------------|\n",
    "| Magic numbers and strings in code | Clear, meaningful names           |\n",
    "| Hard to validate values           | Type-safe and easy validation     |\n",
    "| High risk of typos                | Autocomplete support in editors   |\n",
    "| Difficult maintenance             | Centralized, self-documenting code|\n",
    "\n",
    "---\n",
    "\n",
    "## 📦 How to Define an Enum\n",
    "\n",
    "You use the built-in `enum` module."
   ]
  },
  {
   "cell_type": "markdown",
   "id": "df911b48",
   "metadata": {},
   "source": [
    "\n",
    "# 🏷️ Introduction to Enums in Python  \n",
    "\n"
   ]
  },
  {
   "cell_type": "code",
   "execution_count": 1,
   "id": "75f8e4e1",
   "metadata": {},
   "outputs": [],
   "source": [
    "from enum import Enum\n",
    "\n",
    "class Color(Enum):\n",
    "    RED = 1\n",
    "    GREEN = 2\n",
    "    BLUE = 3"
   ]
  },
  {
   "cell_type": "markdown",
   "id": "389fee94",
   "metadata": {},
   "source": [
    "\n",
    "\n",
    "✅ Now you have a `Color` enum with three members: `RED`, `GREEN`, and `BLUE`.\n",
    "\n",
    "---\n",
    "\n",
    "## 📚 Using an Enum"
   ]
  },
  {
   "cell_type": "code",
   "execution_count": 3,
   "id": "2803ed4d",
   "metadata": {},
   "outputs": [
    {
     "name": "stdout",
     "output_type": "stream",
     "text": [
      "Color.RED\n",
      "RED\n",
      "1\n"
     ]
    }
   ],
   "source": [
    "color = Color.RED\n",
    "\n",
    "print(color)            # Color.RED\n",
    "print(color.name)       # 'RED'\n",
    "print(color.value)      # 1"
   ]
  },
  {
   "cell_type": "markdown",
   "id": "811b3017",
   "metadata": {},
   "source": [
    "\n",
    "You can access both the **name** and the **value** easily.\n",
    "\n",
    "---\n",
    "\n",
    "## 🛡️ Type-Safety Advantage\n",
    "\n",
    "Imagine this:\n"
   ]
  },
  {
   "cell_type": "code",
   "execution_count": 4,
   "id": "b6e67d8b",
   "metadata": {},
   "outputs": [],
   "source": [
    "def set_color(color):\n",
    "    if color == \"RED\":\n",
    "        ..."
   ]
  },
  {
   "cell_type": "markdown",
   "id": "aa7626e7",
   "metadata": {},
   "source": [
    "⬇️  \n",
    "vs with Enum:"
   ]
  },
  {
   "cell_type": "code",
   "execution_count": 6,
   "id": "1422a933",
   "metadata": {},
   "outputs": [],
   "source": [
    "def set_color(color: Color):\n",
    "    if color == Color.RED:\n",
    "        ..."
   ]
  },
  {
   "cell_type": "markdown",
   "id": "b1c9018f",
   "metadata": {},
   "source": [
    "\n",
    "✅ With enums:\n",
    "- The type is **checked**.\n",
    "- The values are **limited** to the defined options.\n",
    "\n",
    "---\n",
    "\n",
    "## 🔄 Iterating Over Enum Members\n",
    "\n",
    "You can loop through all members:\n",
    "\n"
   ]
  },
  {
   "cell_type": "code",
   "execution_count": 7,
   "id": "9e7e9c1c",
   "metadata": {},
   "outputs": [
    {
     "name": "stdout",
     "output_type": "stream",
     "text": [
      "RED 1\n",
      "GREEN 2\n",
      "BLUE 3\n"
     ]
    }
   ],
   "source": [
    "for color in Color:\n",
    "    print(color.name, color.value)"
   ]
  },
  {
   "cell_type": "markdown",
   "id": "1ac6b65c",
   "metadata": {},
   "source": [
    "\n",
    "\n"
   ]
  },
  {
   "cell_type": "markdown",
   "id": "54e12146",
   "metadata": {},
   "source": [
    "---\n",
    "\n",
    "## 🚦 Practical Example: HTTP Status Codes"
   ]
  },
  {
   "cell_type": "code",
   "execution_count": 10,
   "id": "23a4a444",
   "metadata": {},
   "outputs": [],
   "source": [
    "class Status(Enum):\n",
    "    SUCCESS = 200\n",
    "    NOT_FOUND = 404\n",
    "    SERVER_ERROR = 500"
   ]
  },
  {
   "cell_type": "markdown",
   "id": "f4c28af6",
   "metadata": {},
   "source": [
    "\n",
    "Instead of writing `200`, `404`, `500` everywhere, you now use:\n",
    "\n",
    "```python\n",
    "if response.status == Status.SUCCESS:\n",
    "    print(\"Request successful!\")\n",
    "```\n",
    "\n",
    "✅ More readable, reliable, and meaningful.\n",
    "\n",
    "---\n",
    "\n",
    "## 🧩 Enums Can Have Any Type of Value\n",
    "\n",
    "- Integers ✅\n",
    "- Strings ✅\n",
    "- Tuples ✅\n",
    "\n",
    "Example:"
   ]
  },
  {
   "cell_type": "code",
   "execution_count": 12,
   "id": "37eb2ead",
   "metadata": {},
   "outputs": [],
   "source": [
    "class Day(Enum):\n",
    "    MONDAY = \"Mon\"\n",
    "    TUESDAY = \"Tue\""
   ]
  },
  {
   "cell_type": "markdown",
   "id": "293284b6",
   "metadata": {},
   "source": [
    "Or even:"
   ]
  },
  {
   "cell_type": "code",
   "execution_count": 13,
   "id": "0bb243ab",
   "metadata": {},
   "outputs": [],
   "source": [
    "class Planet(Enum):\n",
    "    MERCURY = (3.303e+23, 2.4397e6)\n",
    "    VENUS = (4.869e+24, 6.0518e6)\n",
    "\n",
    "    def __init__(self, mass, radius):\n",
    "        self.mass = mass\n",
    "        self.radius = radius"
   ]
  },
  {
   "cell_type": "markdown",
   "id": "4da92cd0",
   "metadata": {},
   "source": [
    "\n",
    "\n",
    "✅ You can add methods inside enums!\n",
    "\n",
    "---\n",
    "\n",
    "## ⚠️ Important Rules for Enums\n",
    "\n",
    "- Enum members must have **unique values** (unless using special techniques).\n",
    "- You compare enums using identity (`is`) or equality (`==`), **never compare values directly**.\n",
    "- Enum members are **singletons** — they are created once and reused.\n",
    "\n",
    "---\n",
    "\n",
    "## 📚 Special Types of Enums\n",
    "\n",
    "| Type          | Description                              |\n",
    "|---------------|------------------------------------------|\n",
    "| `Enum`        | Basic enumeration                        |\n",
    "| `IntEnum`     | Enum where members are also integers      |\n",
    "| `StrEnum` (Python 3.11+) | Enum where members are strings |\n",
    "\n",
    "---\n",
    "\n",
    "## ✅ When to Use Enums?\n",
    "\n",
    "- Repeated constants (like roles, colors, statuses)\n",
    "- Clear, structured alternatives to \"magic strings\"\n",
    "- API development\n",
    "- State machines (defining states like STARTED, STOPPED, PAUSED)\n",
    "\n",
    "---\n",
    "\n",
    "## 🧠 Summary\n",
    "\n",
    "| Concept         | Meaning                                    |\n",
    "|-----------------|--------------------------------------------|\n",
    "| Enum            | A set of symbolic names for constant values |\n",
    "| Safer than magic numbers | Reduces typos and improves readability |\n",
    "| Easy to validate | Only valid values are allowed             |\n",
    "\n",
    "---\n",
    "\n",
    "> 💬 **Tip:** When you find yourself repeating the same strings or numbers across your codebase — it’s a great moment to refactor into an `Enum`.\n"
   ]
  }
 ],
 "metadata": {
  "kernelspec": {
   "display_name": "Python 3 (ipykernel)",
   "language": "python",
   "name": "python3"
  },
  "language_info": {
   "codemirror_mode": {
    "name": "ipython",
    "version": 3
   },
   "file_extension": ".py",
   "mimetype": "text/x-python",
   "name": "python",
   "nbconvert_exporter": "python",
   "pygments_lexer": "ipython3",
   "version": "3.11.5"
  }
 },
 "nbformat": 4,
 "nbformat_minor": 5
}
