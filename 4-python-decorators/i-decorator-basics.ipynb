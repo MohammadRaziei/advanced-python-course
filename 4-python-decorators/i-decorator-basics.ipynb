{
 "cells": [
  {
   "cell_type": "markdown",
   "id": "bad77585",
   "metadata": {},
   "source": [
    "\n",
    "# 🎨 Python Decorators: The Elegant Way to Wrap Behavior\n",
    "\n",
    "In Python, **decorators** are a powerful and elegant way to **modify or extend the behavior of functions or classes** — without changing their source code.\n",
    "\n",
    "---\n",
    "\n",
    "## 🧠 What is a Decorator?\n",
    "\n",
    "A **decorator** is just a **function that takes another function (or class) as input**,  \n",
    "adds some behavior to it, and returns a new function (or class).\n",
    "\n",
    "---\n",
    "\n",
    "### 🔁 The Core Idea\n",
    "\n",
    "This:\n",
    "\n",
    "```python\n",
    "@my_decorator\n",
    "def greet():\n",
    "    print(\"Hello!\")\n",
    "```\n",
    "\n",
    "Is exactly the same as:\n",
    "\n",
    "```python\n",
    "def greet():\n",
    "    print(\"Hello!\")\n",
    "\n",
    "greet = my_decorator(greet)\n",
    "```\n"
   ]
  },
  {
   "cell_type": "markdown",
   "id": "f36439a3",
   "metadata": {},
   "source": [
    "## 🔧 Function Decorators\n",
    "\n",
    "A decorator is a function that **takes a function and returns a new function**.\n",
    "\n",
    "### ✅ Basic Example"
   ]
  },
  {
   "cell_type": "code",
   "execution_count": 2,
   "id": "65640aef",
   "metadata": {},
   "outputs": [
    {
     "name": "stdout",
     "output_type": "stream",
     "text": [
      "Before the function runs...\n",
      "Hello!\n",
      "After the function runs.\n"
     ]
    }
   ],
   "source": [
    "def my_decorator(func):\n",
    "    def wrapper():\n",
    "        print(\"Before the function runs...\")\n",
    "        func()\n",
    "        print(\"After the function runs.\")\n",
    "    return wrapper\n",
    "\n",
    "@my_decorator\n",
    "def say_hello():\n",
    "    print(\"Hello!\")\n",
    "\n",
    "say_hello()"
   ]
  },
  {
   "cell_type": "markdown",
   "id": "f121253b",
   "metadata": {},
   "source": [
    "---\n",
    "\n",
    "## 🧱 How It Works\n",
    "\n",
    "| Step        | What Happens                         |\n",
    "|-------------|--------------------------------------|\n",
    "| `@decorator`| Calls `decorator(original_func)`     |\n",
    "| `wrapper()` | Defines new behavior around `func()` |\n",
    "| `return wrapper` | Replaces original function      |\n",
    "\n",
    "---\n",
    "\n",
    "## 🧠 Decorators Are Functions That Return Functions\n",
    "\n",
    "You can even pass arguments to your wrapper or handle `*args` and `**kwargs`:"
   ]
  },
  {
   "cell_type": "code",
   "execution_count": 4,
   "id": "8bdecb92",
   "metadata": {},
   "outputs": [],
   "source": [
    "def log_args(func):\n",
    "    def wrapper(*args, **kwargs):\n",
    "        print(f\"Calling {func.__name__} with {args}, {kwargs}\")\n",
    "        return func(*args, **kwargs)\n",
    "    return wrapper"
   ]
  },
  {
   "cell_type": "markdown",
   "id": "2d32c130",
   "metadata": {},
   "source": [
    "---\n",
    "\n",
    "## 🏛 Decorators for Classes\n",
    "\n",
    "Decorators aren’t limited to functions — you can decorate **classes** too!"
   ]
  },
  {
   "cell_type": "code",
   "execution_count": 9,
   "id": "c0edd96d",
   "metadata": {},
   "outputs": [
    {
     "name": "stdout",
     "output_type": "stream",
     "text": [
      "BaseModel registered ✅\n"
     ]
    }
   ],
   "source": [
    "def register_model(cls):\n",
    "    cls.is_registered = True\n",
    "    print(f\"{cls.__name__} registered ✅\")\n",
    "    return cls\n",
    "\n",
    "@register_model\n",
    "class BaseModel:\n",
    "    pass\n",
    "\n",
    "class User(BaseModel):\n",
    "    pass\n",
    "\n",
    "class Product(BaseModel):\n",
    "    pass"
   ]
  },
  {
   "cell_type": "markdown",
   "id": "69abfeb5",
   "metadata": {},
   "source": [
    "---\n",
    "\n",
    "## 🤝 Class Decorators\n",
    "\n",
    "Let’s see how a class decorator works.\n",
    "\n",
    "---\n",
    "\n",
    "### 🧱 Example: Tagging Models via a Base Class"
   ]
  },
  {
   "cell_type": "code",
   "execution_count": 10,
   "id": "75485db7",
   "metadata": {},
   "outputs": [
    {
     "name": "stdout",
     "output_type": "stream",
     "text": [
      "User registered ✅\n",
      "Product registered ✅\n"
     ]
    }
   ],
   "source": [
    "def register_model(cls):\n",
    "    cls.is_registered = True\n",
    "    print(f\"{cls.__name__} registered ✅\")\n",
    "    return cls\n",
    "\n",
    "@register_model\n",
    "class User:\n",
    "    pass\n",
    "\n",
    "@register_model\n",
    "class Product:\n",
    "    pass"
   ]
  },
  {
   "cell_type": "markdown",
   "id": "5916af4a",
   "metadata": {},
   "source": [
    "# 🧱 Class Decorator with Inheritance\n",
    "\n",
    "A **class decorator** is a function that takes a class, modifies or extends it, and returns a new class.  \n",
    "In advanced use cases, a class decorator can dynamically **create a subclass** of the given class, **override methods**, and **add new ones** — all without changing the original class.\n",
    "\n",
    "Let’s define a class decorator that takes any class, creates a new subclass, adds a new method to it, and overrides one of its methods if it exists."
   ]
  },
  {
   "cell_type": "code",
   "execution_count": 11,
   "id": "44585339",
   "metadata": {},
   "outputs": [],
   "source": [
    "def enhance_class(cls):\n",
    "    class Enhanced(cls):\n",
    "        def new_method(self):\n",
    "            return \"🚀 This is a new method added by the decorator.\"\n",
    "\n",
    "        def greet(self):\n",
    "            original = super().greet()\n",
    "            return original + \" (Enhanced!)\"\n",
    "    return Enhanced"
   ]
  },
  {
   "cell_type": "markdown",
   "id": "b9818824",
   "metadata": {},
   "source": [
    "Now we apply this decorator to a class that defines a `greet()` method:"
   ]
  },
  {
   "cell_type": "code",
   "execution_count": 12,
   "id": "1f474f44",
   "metadata": {},
   "outputs": [],
   "source": [
    "@enhance_class\n",
    "class Teacher:\n",
    "    def greet(self):\n",
    "        return \"Hello, I am a teacher.\""
   ]
  },
  {
   "cell_type": "markdown",
   "id": "aac46e18",
   "metadata": {},
   "source": [
    "When we create an instance of `Teacher`, it will actually be an instance of the enhanced subclass:"
   ]
  },
  {
   "cell_type": "code",
   "execution_count": 13,
   "id": "8874413a",
   "metadata": {},
   "outputs": [
    {
     "name": "stdout",
     "output_type": "stream",
     "text": [
      "Hello, I am a teacher. (Enhanced!)\n",
      "🚀 This is a new method added by the decorator.\n"
     ]
    }
   ],
   "source": [
    "t = Teacher()\n",
    "print(t.greet())       # Hello, I am a teacher. (Enhanced!)\n",
    "print(t.new_method())  # 🚀 This is a new method added by the decorator."
   ]
  },
  {
   "cell_type": "markdown",
   "id": "40392840",
   "metadata": {},
   "source": [
    "This pattern is useful when you want to:\n",
    "\n",
    "- Inject functionality into classes at runtime\n",
    "- Extend behavior without modifying the original source\n",
    "- Apply cross-cutting concerns like logging, permissions, or registration\n",
    "\n",
    "By returning a subclass inside the decorator, you preserve the original logic while gaining full control to override or extend as needed.\n"
   ]
  },
  {
   "cell_type": "markdown",
   "id": "97d8e874",
   "metadata": {},
   "source": [
    "### ✅ Class decorators are just functions that take a class and return a class.\n",
    "\n",
    "---\n",
    "\n",
    "## 📌 Summary\n",
    "\n",
    "| Concept             | Meaning                                      |\n",
    "|----------------------|----------------------------------------------|\n",
    "| `@decorator`         | Shortcut for `func = decorator(func)`        |\n",
    "| Function decorator   | Modifies how a function behaves              |\n",
    "| Class decorator      | Modifies or wraps a class                    |\n",
    "| Uses                 | Logging, timing, authentication, caching... |\n"
   ]
  }
 ],
 "metadata": {
  "kernelspec": {
   "display_name": "Python 3 (ipykernel)",
   "language": "python",
   "name": "python3"
  },
  "language_info": {
   "codemirror_mode": {
    "name": "ipython",
    "version": 3
   },
   "file_extension": ".py",
   "mimetype": "text/x-python",
   "name": "python",
   "nbconvert_exporter": "python",
   "pygments_lexer": "ipython3",
   "version": "3.11.5"
  }
 },
 "nbformat": 4,
 "nbformat_minor": 5
}
