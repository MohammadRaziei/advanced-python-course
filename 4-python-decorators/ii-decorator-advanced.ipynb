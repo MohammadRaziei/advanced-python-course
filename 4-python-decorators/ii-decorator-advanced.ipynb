{
 "cells": [
  {
   "cell_type": "markdown",
   "id": "ced0f84d",
   "metadata": {},
   "source": [
    "# 🧰 functools.wraps: Why You Need It in Every Proper Decorator\n",
    "\n",
    "When you write a function decorator, you're **wrapping** one function inside another.  \n",
    "But if you don't do it carefully, you **lose important metadata** about the original function — like its name, docstring, annotations, etc.\n",
    "\n",
    "This is where `functools.wraps` comes in.\n",
    "\n",
    "---\n",
    "\n",
    "## 🤕 The Problem Without `wraps`\n",
    "\n",
    "Let’s look at a basic decorator **without** using `wraps`:"
   ]
  },
  {
   "cell_type": "code",
   "execution_count": 7,
   "id": "9c52f9de",
   "metadata": {},
   "outputs": [],
   "source": [
    "def my_decorator(func):\n",
    "    def wrapper(*args, **kwargs):\n",
    "        print(\"Calling decorated function\")\n",
    "        return func(*args, **kwargs)\n",
    "    return wrapper\n",
    "\n",
    "@my_decorator\n",
    "def greet(name):\n",
    "    \"\"\"Says hello to the user.\"\"\"\n",
    "    print(f\"Hello, {name}!\")"
   ]
  },
  {
   "cell_type": "markdown",
   "id": "d35f9381",
   "metadata": {},
   "source": [
    "Now check the function:"
   ]
  },
  {
   "cell_type": "code",
   "execution_count": 8,
   "id": "59a54c48",
   "metadata": {},
   "outputs": [
    {
     "name": "stdout",
     "output_type": "stream",
     "text": [
      "wrapper\n",
      "None\n"
     ]
    }
   ],
   "source": [
    "print(greet.__name__)      # Output: wrapper ❌\n",
    "print(greet.__doc__)       # Output: None ❌"
   ]
  },
  {
   "cell_type": "markdown",
   "id": "851f7285",
   "metadata": {},
   "source": [
    "We lost everything about `greet`! Python thinks the function is called `wrapper` now.\n",
    "\n",
    "---\n",
    "\n",
    "## ✅ The Solution: `@wraps`\n",
    "\n",
    "Python provides a decorator called `wraps()` in the `functools` module that **copies the metadata** from the original function to the wrapper."
   ]
  },
  {
   "cell_type": "code",
   "execution_count": 10,
   "id": "1b0f9a33",
   "metadata": {},
   "outputs": [],
   "source": [
    "from functools import wraps\n",
    "\n",
    "def my_decorator(func):\n",
    "    @wraps(func)\n",
    "    def wrapper(*args, **kwargs):\n",
    "        print(\"Calling decorated function\")\n",
    "        return func(*args, **kwargs)\n",
    "    return wrapper"
   ]
  },
  {
   "cell_type": "markdown",
   "id": "751487ae",
   "metadata": {},
   "source": [
    "Now when we decorate a function:"
   ]
  },
  {
   "cell_type": "code",
   "execution_count": 12,
   "id": "acd11159",
   "metadata": {},
   "outputs": [
    {
     "name": "stdout",
     "output_type": "stream",
     "text": [
      "greet\n",
      "Says hello to the user.\n"
     ]
    }
   ],
   "source": [
    "@my_decorator\n",
    "def greet(name):\n",
    "    \"\"\"Says hello to the user.\"\"\"\n",
    "    print(f\"Hello, {name}!\")\n",
    "    \n",
    "\n",
    "# And check again:\n",
    "\n",
    "print(greet.__name__)   # Output: greet ✅\n",
    "print(greet.__doc__)    # Output: Says hello to the user. ✅\n"
   ]
  },
  {
   "cell_type": "markdown",
   "id": "391bcdc6",
   "metadata": {},
   "source": [
    "---\n",
    "\n",
    "## 📦 What `@wraps` Preserves\n",
    "\n",
    "| Attribute         | Description                     |\n",
    "|-------------------|---------------------------------|\n",
    "| `__name__`        | Original function name          |\n",
    "| `__doc__`         | Docstring                      |\n",
    "| `__annotations__` | Type hints                      |\n",
    "| `__module__`      | Module where it was defined     |\n",
    "| `__dict__`        | Custom attributes if any        |\n",
    "\n",
    "Internally, `@wraps` is just:\n",
    "\n",
    "```python\n",
    "def wraps(func):\n",
    "    def decorator(wrapper):\n",
    "        wrapper.__name__ = func.__name__\n",
    "        wrapper.__doc__ = func.__doc__\n",
    "        ...\n",
    "        return wrapper\n",
    "    return decorator\n",
    "```"
   ]
  },
  {
   "cell_type": "markdown",
   "id": "dfbb3538",
   "metadata": {},
   "source": [
    "---\n",
    "\n",
    "## ✅ Summary\n",
    "\n",
    "- Always use `@wraps` when writing decorators.\n",
    "- It keeps your decorated function's identity intact.\n",
    "- Without it, tools like `help()`, `inspect`, and even `debuggers` get confused.\n",
    "\n",
    "---\n",
    "\n",
    "> 🧠 Pro Tip: If you're chaining multiple decorators, **each one** should use `@wraps`.\n",
    "\n"
   ]
  },
  {
   "cell_type": "markdown",
   "id": "a69f2c37",
   "metadata": {},
   "source": [
    "# 🎛️ Decorators with Arguments: Understanding the Function Call Flow\n",
    "\n",
    "When you see a decorator written like this:\n",
    "\n",
    "```python\n",
    "@log(level=\"DEBUG\")\n",
    "def greet(name):\n",
    "    print(f\"Hello, {name}!\")\n",
    "```\n",
    "\n",
    "You're not just applying a decorator — you're actually **calling a function** and then using its return value as a decorator.\n",
    "\n",
    "---\n",
    "\n",
    "## 🧠 What’s Really Happening?\n",
    "\n",
    "This line:\n",
    "\n",
    "```python\n",
    "@log(level=\"DEBUG\")\n",
    "```\n",
    "\n",
    "is equivalent to this:\n",
    "\n",
    "```python\n",
    "my_decorator = log(level=\"DEBUG\")\n",
    "greet = my_decorator(greet)\n",
    "```\n",
    "\n",
    "So when Python executes this code:\n",
    "1. It calls `log(level=\"DEBUG\")`\n",
    "2. This returns a **decorator** (a function that takes `greet` as input)\n",
    "3. That decorator is then applied to `greet`\n",
    "\n",
    "---"
   ]
  },
  {
   "cell_type": "markdown",
   "id": "527e8df7",
   "metadata": {},
   "source": [
    "\n",
    "## 🛠 So How Do We Write `log`?\n",
    "\n",
    "Here’s how to define a decorator that **accepts arguments**:"
   ]
  },
  {
   "cell_type": "code",
   "execution_count": 16,
   "id": "c2c32515",
   "metadata": {},
   "outputs": [],
   "source": [
    "from functools import wraps\n",
    "\n",
    "def log(level=\"INFO\"):\n",
    "    def actual_decorator(func):\n",
    "        @wraps(func)\n",
    "        def wrapper(*args, **kwargs):\n",
    "            print(f\"[{level}] Calling {func.__name__}\")\n",
    "            return func(*args, **kwargs)\n",
    "        return wrapper\n",
    "    return actual_decorator"
   ]
  },
  {
   "cell_type": "markdown",
   "id": "ea302620",
   "metadata": {},
   "source": [
    "---\n",
    "\n",
    "## 🔁 Flow of Execution\n",
    "\n",
    "| Step                        | What Happens                              |\n",
    "|-----------------------------|--------------------------------------------|\n",
    "| `log(level=\"DEBUG\")`        | Called immediately, returns a decorator    |\n",
    "| `@log(...)`                 | Same as `greet = decorator(greet)`         |\n",
    "| `wrapper(*args, **kwargs)`  | Executes when `greet()` is called          |\n",
    "\n",
    "---\n",
    "\n",
    "## 🧪 Usage Example\n"
   ]
  },
  {
   "cell_type": "code",
   "execution_count": 17,
   "id": "6246af4e",
   "metadata": {},
   "outputs": [
    {
     "name": "stdout",
     "output_type": "stream",
     "text": [
      "[DEBUG] Calling greet\n",
      "Hello, Alice!\n"
     ]
    }
   ],
   "source": [
    "@log(level=\"DEBUG\")\n",
    "def greet(name):\n",
    "    print(f\"Hello, {name}!\")\n",
    "\n",
    "greet(\"Alice\")"
   ]
  },
  {
   "cell_type": "markdown",
   "id": "abee712f",
   "metadata": {},
   "source": [
    "\n",
    "---\n",
    "\n",
    "## 🧠 Summary\n",
    "\n",
    "- `@decorator(args)` is a **function call**, not just a label\n",
    "- It must return a real decorator: a function that takes another function\n",
    "- This is how decorators like `@retry(times=3)` or `@timeout(seconds=10)` work\n",
    "\n",
    "---\n",
    "\n",
    "Next, we’ll build our own `@repeat(n=3)` decorator that runs a function multiple times 🔁\n"
   ]
  },
  {
   "cell_type": "markdown",
   "id": "aa8f71bf",
   "metadata": {},
   "source": [
    "# 🧠 Class-Based Decorators with Functors (Function Objects)\n",
    "\n",
    "In Python, any object that defines the special method `__call__()` is **callable** — meaning you can use it like a function.\n",
    "\n",
    "Such objects are known as **functors**, or **function objects**.\n",
    "\n",
    "This means you can use a **class** as a decorator, by making it behave like a function using `__call__`.\n",
    "\n",
    "---\n",
    "\n",
    "## ✅ Why Use a Class Instead of a Function?\n",
    "\n",
    "Class-based decorators are useful when:\n",
    "\n",
    "- You need to **maintain internal state**\n",
    "- You want better **structure** and **encapsulation**\n",
    "- You’re working with **configurable decorators**\n",
    "- You want decorators to be more **testable** and **extensible**\n",
    "\n",
    "---"
   ]
  },
  {
   "cell_type": "markdown",
   "id": "83646ac5",
   "metadata": {},
   "source": [
    "## 🧰 Example: A Call Counter Decorator\n",
    "\n",
    "We’ll create a decorator that **counts how many times a function has been called**.\n"
   ]
  },
  {
   "cell_type": "code",
   "execution_count": 18,
   "id": "062ac430",
   "metadata": {},
   "outputs": [],
   "source": [
    "class CallCounter:\n",
    "    def __init__(self, func):\n",
    "        self.func = func\n",
    "        self.count = 0\n",
    "\n",
    "    def __call__(self, *args, **kwargs):\n",
    "        self.count += 1\n",
    "        print(f\"[{self.func.__name__}] has been called {self.count} time(s).\")\n",
    "        return self.func(*args, **kwargs)"
   ]
  },
  {
   "cell_type": "markdown",
   "id": "2da747e3",
   "metadata": {},
   "source": [
    "\n",
    "---\n",
    "\n",
    "### 🔍 How It Works\n",
    "\n",
    "- `__init__()` receives the original function and stores it\n",
    "- `__call__()` wraps the original function and adds behavior\n",
    "- The class instance **acts as a decorator** because it is callable\n",
    "\n",
    "---\n",
    "\n",
    "## 🧪 Usage"
   ]
  },
  {
   "cell_type": "code",
   "execution_count": 29,
   "id": "5fc9106a",
   "metadata": {},
   "outputs": [
    {
     "name": "stdout",
     "output_type": "stream",
     "text": [
      "[say_hello] has been called 1 time(s).\n",
      "Hello!\n",
      "[say_hello] has been called 2 time(s).\n",
      "Hello!\n",
      "[say_hello] has been called 3 time(s).\n",
      "Hello!\n"
     ]
    }
   ],
   "source": [
    "@CallCounter\n",
    "def say_hello():\n",
    "    print(\"Hello!\")\n",
    "\n",
    "say_hello()\n",
    "say_hello()\n",
    "say_hello()"
   ]
  },
  {
   "cell_type": "markdown",
   "id": "040f7e7e",
   "metadata": {},
   "source": [
    "---\n",
    "\n",
    "## 🧠 Real-World Use Cases\n",
    "\n",
    "- Rate limiters\n",
    "- Retry mechanisms\n",
    "- Access logging\n",
    "- Monitoring & metrics\n",
    "- Analytics tracking\n",
    "\n",
    "---\n",
    "\n",
    "## 🔄 Comparison: Function vs Class Decorators\n",
    "\n",
    "| Feature             | Function-based        | Class-based           |\n",
    "|---------------------|-----------------------|------------------------|\n",
    "| Easy to write       | ✅                    | ✅                     |\n",
    "| Holds internal state| ❌ (unless using closures) | ✅                 |\n",
    "| Better structure    | ❌                    | ✅                     |\n",
    "| Good for config     | 🔸 (with nesting)     | ✅                     |\n",
    "| Reusability         | 🔸                    | ✅                     |\n",
    "\n",
    "---\n",
    "\n",
    "## ✅ Summary\n",
    "\n",
    "- A **functor** is any object with a `__call__` method.\n",
    "- You can use a class as a decorator by defining `__init__` and `__call__`.\n",
    "- This allows decorators to store state, be more modular, and scale better in large applications.\n",
    "\n",
    "---\n",
    "\n",
    "> ✨ If you need powerful decorators with memory, flexibility, or configuration — class-based decorators are the cleanest choice.\n"
   ]
  },
  {
   "cell_type": "markdown",
   "id": "8c4cc63b",
   "metadata": {},
   "source": [
    "# 🏗️ Parameterized Class-Based Decorators in Python\n",
    "\n",
    "In the previous lesson, we learned how to build a class-based decorator using a callable class (a **functor**).\n",
    "\n",
    "Now let’s take it to the next level:\n",
    "We’ll build a class-based decorator that also **accepts arguments**, like this:\n",
    "\n",
    "```python\n",
    "@Track(enabled=True)\n",
    "def greet(name):\n",
    "    print(f\"Hello, {name}!\")\n",
    "```\n",
    "\n",
    "---\n",
    "\n",
    "## 🧠 What’s Really Happening?\n",
    "\n",
    "When Python sees `@Track(enabled=True)`, it does this:\n",
    "\n",
    "```python\n",
    "decorator = Track(enabled=True)  # Create instance of decorator class\n",
    "greet = decorator(greet)         # Call the instance with the target function\n",
    "```\n",
    "\n",
    "So your class must:\n",
    "1. Accept arguments in `__init__`\n",
    "2. Be **callable** (implement `__call__`)\n",
    "3. Apply the actual decoration inside `__call__`\n",
    "\n",
    "---\n"
   ]
  },
  {
   "cell_type": "markdown",
   "id": "2b8dc11f",
   "metadata": {},
   "source": [
    "## 🧰 Example: A Toggleable Tracker\n",
    "\n",
    "We’ll build a class-based decorator that logs a message **only if enabled**."
   ]
  },
  {
   "cell_type": "code",
   "execution_count": 26,
   "id": "b48bd501",
   "metadata": {},
   "outputs": [],
   "source": [
    "from functools import wraps\n",
    "\n",
    "class Track:\n",
    "    def __init__(self, enabled=True):\n",
    "        self.enabled = enabled\n",
    "\n",
    "    def __call__(self, func):\n",
    "        @wraps(func)\n",
    "        def wrapper(*args, **kwargs):\n",
    "            if self.enabled:\n",
    "                print(f\"[TRACK] Calling {func.__name__}\")\n",
    "            return func(*args, **kwargs)\n",
    "        return wrapper"
   ]
  },
  {
   "cell_type": "markdown",
   "id": "e35c0ebc",
   "metadata": {},
   "source": [
    "---\n",
    "\n",
    "## 🧪 Usage\n"
   ]
  },
  {
   "cell_type": "code",
   "execution_count": 30,
   "id": "93b7ada9",
   "metadata": {},
   "outputs": [
    {
     "name": "stdout",
     "output_type": "stream",
     "text": [
      "[TRACK] Calling say_hello\n",
      "Hello!\n",
      "Hi!\n"
     ]
    }
   ],
   "source": [
    "@Track(enabled=True)\n",
    "def say_hello():\n",
    "    print(\"Hello!\")\n",
    "\n",
    "@Track(enabled=False)\n",
    "def say_hi():\n",
    "    print(\"Hi!\")\n",
    "\n",
    "say_hello()\n",
    "say_hi()"
   ]
  },
  {
   "cell_type": "markdown",
   "id": "9c4b2288",
   "metadata": {},
   "source": [
    "---\n",
    "\n",
    "## 🧩 Breakdown of the Pattern\n",
    "\n",
    "| Method         | Role                                       |\n",
    "|----------------|--------------------------------------------|\n",
    "| `__init__()`   | Accepts decorator arguments                |\n",
    "| `__call__()`   | Receives the target function to decorate   |\n",
    "| `wrapper()`    | The actual logic that wraps the function   |\n",
    "\n",
    "---\n",
    "\n",
    "## 🧠 Best Practices\n",
    "\n",
    "- Always use `@wraps(func)` to preserve metadata\n",
    "- You can store config values like `enabled`, `level`, `retry_count`, etc.\n",
    "- Useful for **feature toggles**, **logging**, **validation**, and more\n",
    "\n",
    "---\n",
    "\n",
    "## ✅ Summary\n",
    "\n",
    "- A **parameterized class-based decorator** is just a callable class that takes arguments.\n",
    "- This gives you the **clarity of class-based design** + the **flexibility of configurable decorators**.\n",
    "- You can now build decorators that behave differently based on external input.\n",
    "\n",
    "---\n",
    "\n",
    "> 💬 Want to go even further? You can combine class decorators with inheritance or build reusable decorator **mixins** for tracking, logging, caching, and more.\n",
    "\n",
    "Next up: Let’s build `@Retry(n=3)` — a decorator that automatically re-executes a function if it raises an error.\n"
   ]
  },
  {
   "cell_type": "markdown",
   "id": "f38bacf7",
   "metadata": {},
   "source": [
    "# 💥 Example: Building `@Retry(n=3)` — A Fault-Tolerant Decorator\n",
    "\n",
    "When writing production code, it's common to deal with functions that may fail due to **temporary issues** — network errors, timeouts, or unavailable services.\n",
    "\n",
    "One practical solution is to use a **retry decorator**:  \n",
    "It automatically re-executes the function a fixed number of times if an exception occurs.\n",
    "\n",
    "---\n",
    "\n",
    "## 🎯 Goal\n",
    "\n",
    "Build a decorator that allows you to write:\n",
    "\n",
    "```python\n",
    "@Retry(n=3)\n",
    "def risky_operation():\n",
    "    ...\n",
    "```\n",
    "\n",
    "If `risky_operation()` raises an error, it will retry up to `n` times before finally giving up.\n",
    "\n",
    "---\n",
    "\n",
    "## 🧠 What It Should Do\n",
    "\n",
    "- Accept a parameter `n` = number of retries\n",
    "- Wrap the function using `__call__`\n",
    "- On exception, **retry** the function `n` times\n",
    "- Optionally print a message when retrying\n",
    "\n",
    "---\n",
    "\n",
    "## 🧰 Implementation\n"
   ]
  },
  {
   "cell_type": "code",
   "execution_count": 31,
   "id": "5bd8d70b",
   "metadata": {},
   "outputs": [],
   "source": [
    "from functools import wraps\n",
    "import time\n",
    "\n",
    "class Retry:\n",
    "    def __init__(self, n=3):\n",
    "        self.n = n\n",
    "\n",
    "    def __call__(self, func):\n",
    "        @wraps(func)\n",
    "        def wrapper(*args, **kwargs):\n",
    "            attempts = 0\n",
    "            while attempts < self.n:\n",
    "                try:\n",
    "                    return func(*args, **kwargs)\n",
    "                except Exception as e:\n",
    "                    attempts += 1\n",
    "                    print(f\"[Retry {attempts}/{self.n}] {func.__name__} failed: {e}\")\n",
    "                    time.sleep(0.5)  # Optional: wait before retry\n",
    "            raise RuntimeError(f\"{func.__name__} failed after {self.n} retries.\")\n",
    "        return wrapper"
   ]
  },
  {
   "cell_type": "markdown",
   "id": "eacd239b",
   "metadata": {},
   "source": [
    "\n",
    "---\n",
    "\n",
    "## 🧪 Usage\n"
   ]
  },
  {
   "cell_type": "code",
   "execution_count": 36,
   "id": "52719447",
   "metadata": {},
   "outputs": [
    {
     "name": "stdout",
     "output_type": "stream",
     "text": [
      "[Retry 1/5] unstable_function failed: Something went wrong!\n",
      "[Retry 2/5] unstable_function failed: Something went wrong!\n",
      "[Retry 3/5] unstable_function failed: Something went wrong!\n",
      "[Retry 4/5] unstable_function failed: Something went wrong!\n",
      "[Retry 5/5] unstable_function failed: Something went wrong!\n"
     ]
    },
    {
     "data": {
      "text/html": [
       "<pre style=\"white-space:pre;overflow-x:auto;line-height:normal;font-family:Menlo,'DejaVu Sans Mono',consolas,'Courier New',monospace\"><span style=\"color: #800000; text-decoration-color: #800000\">╭─────────────────────────────── </span><span style=\"color: #800000; text-decoration-color: #800000; font-weight: bold\">Traceback </span><span style=\"color: #bf7f7f; text-decoration-color: #bf7f7f; font-weight: bold\">(most recent call last)</span><span style=\"color: #800000; text-decoration-color: #800000\"> ────────────────────────────────╮</span>\n",
       "<span style=\"color: #800000; text-decoration-color: #800000\">│</span> in <span style=\"color: #00ff00; text-decoration-color: #00ff00\">&lt;module&gt;</span>:<span style=\"color: #0000ff; text-decoration-color: #0000ff\">13</span>                                                                                   <span style=\"color: #800000; text-decoration-color: #800000\">│</span>\n",
       "<span style=\"color: #800000; text-decoration-color: #800000\">│</span>                                                                                                  <span style=\"color: #800000; text-decoration-color: #800000\">│</span>\n",
       "<span style=\"color: #800000; text-decoration-color: #800000\">│</span>   <span style=\"color: #7f7f7f; text-decoration-color: #7f7f7f\">10 </span><span style=\"color: #7f7f7f; text-decoration-color: #7f7f7f\">│   </span><span style=\"color: #00ffff; text-decoration-color: #00ffff\">print</span>(<span style=\"color: #808000; text-decoration-color: #808000\">\"Success!\"</span>)                                                                       <span style=\"color: #800000; text-decoration-color: #800000\">│</span>\n",
       "<span style=\"color: #800000; text-decoration-color: #800000\">│</span>   <span style=\"color: #7f7f7f; text-decoration-color: #7f7f7f\">11 </span>                                                                                            <span style=\"color: #800000; text-decoration-color: #800000\">│</span>\n",
       "<span style=\"color: #800000; text-decoration-color: #800000\">│</span>   <span style=\"color: #7f7f7f; text-decoration-color: #7f7f7f\">12 </span><span style=\"color: #0000ff; text-decoration-color: #0000ff\">try</span>:                                                                                        <span style=\"color: #800000; text-decoration-color: #800000\">│</span>\n",
       "<span style=\"color: #800000; text-decoration-color: #800000\">│</span> <span style=\"color: #800000; text-decoration-color: #800000\">❱ </span>13 <span style=\"color: #7f7f7f; text-decoration-color: #7f7f7f\">│   </span>unstable_function()                                                                     <span style=\"color: #800000; text-decoration-color: #800000\">│</span>\n",
       "<span style=\"color: #800000; text-decoration-color: #800000\">│</span>   <span style=\"color: #7f7f7f; text-decoration-color: #7f7f7f\">14 </span><span style=\"color: #0000ff; text-decoration-color: #0000ff\">except</span>:                                                                                     <span style=\"color: #800000; text-decoration-color: #800000\">│</span>\n",
       "<span style=\"color: #800000; text-decoration-color: #800000\">│</span>   <span style=\"color: #7f7f7f; text-decoration-color: #7f7f7f\">15 </span><span style=\"color: #7f7f7f; text-decoration-color: #7f7f7f\">│   </span>console.print_exception()                                                               <span style=\"color: #800000; text-decoration-color: #800000\">│</span>\n",
       "<span style=\"color: #800000; text-decoration-color: #800000\">│</span>   <span style=\"color: #7f7f7f; text-decoration-color: #7f7f7f\">16 </span>                                                                                            <span style=\"color: #800000; text-decoration-color: #800000\">│</span>\n",
       "<span style=\"color: #800000; text-decoration-color: #800000\">│</span>                                                                                                  <span style=\"color: #800000; text-decoration-color: #800000\">│</span>\n",
       "<span style=\"color: #800000; text-decoration-color: #800000\">│</span> in <span style=\"color: #00ff00; text-decoration-color: #00ff00\">wrapper</span>:<span style=\"color: #0000ff; text-decoration-color: #0000ff\">19</span>                                                                                    <span style=\"color: #800000; text-decoration-color: #800000\">│</span>\n",
       "<span style=\"color: #800000; text-decoration-color: #800000\">│</span>                                                                                                  <span style=\"color: #800000; text-decoration-color: #800000\">│</span>\n",
       "<span style=\"color: #800000; text-decoration-color: #800000\">│</span>   <span style=\"color: #7f7f7f; text-decoration-color: #7f7f7f\">16 </span><span style=\"color: #7f7f7f; text-decoration-color: #7f7f7f\">│   │   │   │   │   </span>attempts += <span style=\"color: #0000ff; text-decoration-color: #0000ff\">1</span>                                                           <span style=\"color: #800000; text-decoration-color: #800000\">│</span>\n",
       "<span style=\"color: #800000; text-decoration-color: #800000\">│</span>   <span style=\"color: #7f7f7f; text-decoration-color: #7f7f7f\">17 </span><span style=\"color: #7f7f7f; text-decoration-color: #7f7f7f\">│   │   │   │   │   </span><span style=\"color: #00ffff; text-decoration-color: #00ffff\">print</span>(<span style=\"color: #808000; text-decoration-color: #808000\">f\"[Retry {</span>attempts<span style=\"color: #808000; text-decoration-color: #808000\">}/{</span><span style=\"color: #00ffff; text-decoration-color: #00ffff\">self</span>.n<span style=\"color: #808000; text-decoration-color: #808000\">}] {</span>func.<span style=\"color: #ff0000; text-decoration-color: #ff0000\">__name__</span><span style=\"color: #808000; text-decoration-color: #808000\">} failed: {</span>e<span style=\"color: #808000; text-decoration-color: #808000\">}\"</span>)       <span style=\"color: #800000; text-decoration-color: #800000\">│</span>\n",
       "<span style=\"color: #800000; text-decoration-color: #800000\">│</span>   <span style=\"color: #7f7f7f; text-decoration-color: #7f7f7f\">18 </span><span style=\"color: #7f7f7f; text-decoration-color: #7f7f7f\">│   │   │   │   │   </span>time.sleep(<span style=\"color: #0000ff; text-decoration-color: #0000ff\">0.5</span>)  <span style=\"color: #7f7f7f; text-decoration-color: #7f7f7f\"># Optional: wait before retry</span>                          <span style=\"color: #800000; text-decoration-color: #800000\">│</span>\n",
       "<span style=\"color: #800000; text-decoration-color: #800000\">│</span> <span style=\"color: #800000; text-decoration-color: #800000\">❱ </span>19 <span style=\"color: #7f7f7f; text-decoration-color: #7f7f7f\">│   │   │   </span><span style=\"color: #0000ff; text-decoration-color: #0000ff\">raise</span> <span style=\"color: #00ffff; text-decoration-color: #00ffff\">RuntimeError</span>(<span style=\"color: #808000; text-decoration-color: #808000\">f\"{</span>func.<span style=\"color: #ff0000; text-decoration-color: #ff0000\">__name__</span><span style=\"color: #808000; text-decoration-color: #808000\">} failed after {</span><span style=\"color: #00ffff; text-decoration-color: #00ffff\">self</span>.n<span style=\"color: #808000; text-decoration-color: #808000\">} retries.\"</span>)           <span style=\"color: #800000; text-decoration-color: #800000\">│</span>\n",
       "<span style=\"color: #800000; text-decoration-color: #800000\">│</span>   <span style=\"color: #7f7f7f; text-decoration-color: #7f7f7f\">20 </span><span style=\"color: #7f7f7f; text-decoration-color: #7f7f7f\">│   │   </span><span style=\"color: #0000ff; text-decoration-color: #0000ff\">return</span> wrapper                                                                      <span style=\"color: #800000; text-decoration-color: #800000\">│</span>\n",
       "<span style=\"color: #800000; text-decoration-color: #800000\">│</span>   <span style=\"color: #7f7f7f; text-decoration-color: #7f7f7f\">21 </span>                                                                                            <span style=\"color: #800000; text-decoration-color: #800000\">│</span>\n",
       "<span style=\"color: #800000; text-decoration-color: #800000\">╰──────────────────────────────────────────────────────────────────────────────────────────────────╯</span>\n",
       "<span style=\"color: #ff0000; text-decoration-color: #ff0000; font-weight: bold\">RuntimeError: </span>unstable_function failed after <span style=\"color: #008080; text-decoration-color: #008080; font-weight: bold\">5</span> retries.\n",
       "</pre>\n"
      ],
      "text/plain": [
       "\u001b[31m╭─\u001b[0m\u001b[31m──────────────────────────────\u001b[0m\u001b[31m \u001b[0m\u001b[1;31mTraceback \u001b[0m\u001b[1;2;31m(most recent call last)\u001b[0m\u001b[31m \u001b[0m\u001b[31m───────────────────────────────\u001b[0m\u001b[31m─╮\u001b[0m\n",
       "\u001b[31m│\u001b[0m in \u001b[92m<module>\u001b[0m:\u001b[94m13\u001b[0m                                                                                   \u001b[31m│\u001b[0m\n",
       "\u001b[31m│\u001b[0m                                                                                                  \u001b[31m│\u001b[0m\n",
       "\u001b[31m│\u001b[0m   \u001b[2m10 \u001b[0m\u001b[2m│   \u001b[0m\u001b[96mprint\u001b[0m(\u001b[33m\"\u001b[0m\u001b[33mSuccess!\u001b[0m\u001b[33m\"\u001b[0m)                                                                       \u001b[31m│\u001b[0m\n",
       "\u001b[31m│\u001b[0m   \u001b[2m11 \u001b[0m                                                                                            \u001b[31m│\u001b[0m\n",
       "\u001b[31m│\u001b[0m   \u001b[2m12 \u001b[0m\u001b[94mtry\u001b[0m:                                                                                        \u001b[31m│\u001b[0m\n",
       "\u001b[31m│\u001b[0m \u001b[31m❱ \u001b[0m13 \u001b[2m│   \u001b[0munstable_function()                                                                     \u001b[31m│\u001b[0m\n",
       "\u001b[31m│\u001b[0m   \u001b[2m14 \u001b[0m\u001b[94mexcept\u001b[0m:                                                                                     \u001b[31m│\u001b[0m\n",
       "\u001b[31m│\u001b[0m   \u001b[2m15 \u001b[0m\u001b[2m│   \u001b[0mconsole.print_exception()                                                               \u001b[31m│\u001b[0m\n",
       "\u001b[31m│\u001b[0m   \u001b[2m16 \u001b[0m                                                                                            \u001b[31m│\u001b[0m\n",
       "\u001b[31m│\u001b[0m                                                                                                  \u001b[31m│\u001b[0m\n",
       "\u001b[31m│\u001b[0m in \u001b[92mwrapper\u001b[0m:\u001b[94m19\u001b[0m                                                                                    \u001b[31m│\u001b[0m\n",
       "\u001b[31m│\u001b[0m                                                                                                  \u001b[31m│\u001b[0m\n",
       "\u001b[31m│\u001b[0m   \u001b[2m16 \u001b[0m\u001b[2m│   │   │   │   │   \u001b[0mattempts += \u001b[94m1\u001b[0m                                                           \u001b[31m│\u001b[0m\n",
       "\u001b[31m│\u001b[0m   \u001b[2m17 \u001b[0m\u001b[2m│   │   │   │   │   \u001b[0m\u001b[96mprint\u001b[0m(\u001b[33mf\u001b[0m\u001b[33m\"\u001b[0m\u001b[33m[Retry \u001b[0m\u001b[33m{\u001b[0mattempts\u001b[33m}\u001b[0m\u001b[33m/\u001b[0m\u001b[33m{\u001b[0m\u001b[96mself\u001b[0m.n\u001b[33m}\u001b[0m\u001b[33m] \u001b[0m\u001b[33m{\u001b[0mfunc.\u001b[91m__name__\u001b[0m\u001b[33m}\u001b[0m\u001b[33m failed: \u001b[0m\u001b[33m{\u001b[0me\u001b[33m}\u001b[0m\u001b[33m\"\u001b[0m)       \u001b[31m│\u001b[0m\n",
       "\u001b[31m│\u001b[0m   \u001b[2m18 \u001b[0m\u001b[2m│   │   │   │   │   \u001b[0mtime.sleep(\u001b[94m0.5\u001b[0m)  \u001b[2m# Optional: wait before retry\u001b[0m                          \u001b[31m│\u001b[0m\n",
       "\u001b[31m│\u001b[0m \u001b[31m❱ \u001b[0m19 \u001b[2m│   │   │   \u001b[0m\u001b[94mraise\u001b[0m \u001b[96mRuntimeError\u001b[0m(\u001b[33mf\u001b[0m\u001b[33m\"\u001b[0m\u001b[33m{\u001b[0mfunc.\u001b[91m__name__\u001b[0m\u001b[33m}\u001b[0m\u001b[33m failed after \u001b[0m\u001b[33m{\u001b[0m\u001b[96mself\u001b[0m.n\u001b[33m}\u001b[0m\u001b[33m retries.\u001b[0m\u001b[33m\"\u001b[0m)           \u001b[31m│\u001b[0m\n",
       "\u001b[31m│\u001b[0m   \u001b[2m20 \u001b[0m\u001b[2m│   │   \u001b[0m\u001b[94mreturn\u001b[0m wrapper                                                                      \u001b[31m│\u001b[0m\n",
       "\u001b[31m│\u001b[0m   \u001b[2m21 \u001b[0m                                                                                            \u001b[31m│\u001b[0m\n",
       "\u001b[31m╰──────────────────────────────────────────────────────────────────────────────────────────────────╯\u001b[0m\n",
       "\u001b[1;91mRuntimeError: \u001b[0munstable_function failed after \u001b[1;36m5\u001b[0m retries.\n"
      ]
     },
     "metadata": {},
     "output_type": "display_data"
    }
   ],
   "source": [
    "import random\n",
    "from rich.console import Console\n",
    "\n",
    "console = Console()\n",
    "\n",
    "@Retry(n=5)\n",
    "def unstable_function():\n",
    "    if random.random() < 0.7:\n",
    "        raise ValueError(\"Something went wrong!\")\n",
    "    print(\"Success!\")\n",
    "\n",
    "try:\n",
    "    unstable_function()\n",
    "except:\n",
    "    console.print_exception()"
   ]
  },
  {
   "cell_type": "markdown",
   "id": "3a42ab5d",
   "metadata": {},
   "source": [
    "---\n",
    "\n",
    "## 🧠 Why This Is Powerful\n",
    "\n",
    "- It helps handle **intermittent errors** without crashing the program\n",
    "- You can use it in:\n",
    "  - Network/API requests\n",
    "  - File system operations\n",
    "  - Database connections\n",
    "\n",
    "---\n",
    "\n",
    "## 🧾 Summary\n",
    "\n",
    "| Feature        | Description                                  |\n",
    "|----------------|----------------------------------------------|\n",
    "| Class-based    | Stores retry count in `self.n`               |\n",
    "| Parameterized  | Can call like `@Retry(n=5)`                  |\n",
    "| Exception-safe | Handles failures and retries automatically   |\n",
    "| Reusable       | Plug it into any risky function              |\n",
    "\n",
    "---\n",
    "\n",
    "> 🔧 You’ve just built your own **resilience layer** using a clean, reusable decorator. This is a real-world pattern used in many Python frameworks and systems.\n"
   ]
  }
 ],
 "metadata": {
  "kernelspec": {
   "display_name": "Python 3 (ipykernel)",
   "language": "python",
   "name": "python3"
  },
  "language_info": {
   "codemirror_mode": {
    "name": "ipython",
    "version": 3
   },
   "file_extension": ".py",
   "mimetype": "text/x-python",
   "name": "python",
   "nbconvert_exporter": "python",
   "pygments_lexer": "ipython3",
   "version": "3.11.5"
  }
 },
 "nbformat": 4,
 "nbformat_minor": 5
}
