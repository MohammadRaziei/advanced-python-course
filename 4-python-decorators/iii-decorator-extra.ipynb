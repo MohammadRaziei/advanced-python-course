{
 "cells": [
  {
   "cell_type": "markdown",
   "id": "36424d01",
   "metadata": {},
   "source": [
    "# 🎛️ Advanced Decorator Example with the `@decorator` Library\n",
    "\n",
    "The [`decorator`](https://pypi.org/project/decorator/) module helps you create **signature-preserving** decorators — which is especially useful for decorators that:\n",
    "\n",
    "- Accept arguments (like `@warn_slow(timelimit=60)`)\n",
    "- Need to be readable and clean\n",
    "- Should keep the original function's name, signature, and docstring\n",
    "\n",
    "Unlike `functools.wraps`, which only preserves metadata, `@decorator` **automatically preserves the full signature** of the decorated function.\n",
    "\n",
    "---\n",
    "\n",
    "## 🚀 Installation\n",
    "\n",
    "```bash\n",
    "pip install decorator\n",
    "```\n",
    "\n",
    "---\n",
    "\n",
    "## ✅ Example: Tracing Slow Functions with `@warn_slow`\n",
    "\n",
    "Let’s say you want to log a warning if a function takes too long to run.  \n",
    "You can define a parameterized decorator using the `@decorator` style like this:"
   ]
  },
  {
   "cell_type": "code",
   "execution_count": 1,
   "id": "f69770bc",
   "metadata": {},
   "outputs": [],
   "source": [
    "from decorator import decorator\n",
    "import time\n",
    "import logging\n",
    "\n",
    "logging.basicConfig(level=logging.WARNING)\n",
    "\n",
    "@decorator\n",
    "def warn_slow(func, timelimit=60, *args, **kwargs):\n",
    "    t0 = time.time()\n",
    "    result = func(*args, **kwargs)\n",
    "    dt = time.time() - t0\n",
    "\n",
    "    if dt > timelimit:\n",
    "        logging.warning('%s took %.1f seconds ⏱️ (above limit!)', func.__name__, dt)\n",
    "\n",
    "    return result\n"
   ]
  },
  {
   "cell_type": "markdown",
   "id": "b0d7c9da",
   "metadata": {},
   "source": [
    "---\n",
    "\n",
    "### 🧪 Usage\n",
    "\n",
    "You can use it both with and without parentheses:"
   ]
  },
  {
   "cell_type": "code",
   "execution_count": 2,
   "id": "e99cf265",
   "metadata": {},
   "outputs": [
    {
     "name": "stderr",
     "output_type": "stream",
     "text": [
      "WARNING:root:quick_task took 1.5 seconds ⏱️ (above limit!)\n"
     ]
    }
   ],
   "source": [
    "@warn_slow  # uses default timelimit = 60\n",
    "def preprocess():\n",
    "    time.sleep(2)\n",
    "\n",
    "@warn_slow(timelimit=1)  # custom threshold\n",
    "def quick_task():\n",
    "    time.sleep(1.5)\n",
    "    \n",
    "preprocess()\n",
    "quick_task()"
   ]
  },
  {
   "cell_type": "markdown",
   "id": "75842f85",
   "metadata": {},
   "source": [
    "### 🧠 Using `@warn_slow()` with Parentheses\n",
    "\n",
    "In addition to using `@warn_slow` without parentheses, you can also call the decorator with parentheses — even if you are not passing any arguments:\n"
   ]
  },
  {
   "cell_type": "code",
   "execution_count": 3,
   "id": "00c10bbc",
   "metadata": {},
   "outputs": [],
   "source": [
    "@warn_slow()\n",
    "def another_task():\n",
    "    time.sleep(1.2)\n",
    "    \n",
    "another_task()"
   ]
  },
  {
   "cell_type": "markdown",
   "id": "4fbc1484",
   "metadata": {},
   "source": [
    "This works because the `warn_slow` decorator provides a default value for its parameter (`timelimit=60`).  \n",
    "So calling `@warn_slow()` is essentially the same as using `@warn_slow` — both apply the decorator with default configuration.\n",
    "\n",
    "This flexibility allows your decorator to be used in two ways:\n",
    "\n",
    "- `@warn_slow` — simple application with default values\n",
    "- `@warn_slow()` — explicit application (still using default values unless specified)\n",
    "\n",
    "> ✅ The `@decorator` library makes this dual usage possible **without requiring any extra boilerplate logic** in your code."
   ]
  },
  {
   "cell_type": "markdown",
   "id": "a209f6c0",
   "metadata": {},
   "source": [
    "This dual usage is possible because `@decorator` allows the decorator to accept default arguments — and if the default arguments are acceptable, **you can skip the parentheses**.\n",
    "\n",
    "---\n"
   ]
  },
  {
   "cell_type": "markdown",
   "id": "5920d97e",
   "metadata": {},
   "source": [
    "\n",
    "## 🔍 What's Really Going On?\n",
    "\n",
    "- When you write `@warn_slow`, it works just like `@warn_slow()`\n",
    "- You’re defining a **decorator function** with the signature:  \n",
    "  `decorator(func, *args, **kwargs)`\n",
    "- `func` is the target function\n",
    "- `*args` and `**kwargs` are the arguments passed to that function when it runs\n",
    "\n",
    "---\n",
    "\n",
    "## ✅ Summary\n",
    "\n",
    "| Feature                        | Supported by `@decorator` |\n",
    "|-------------------------------|----------------------------|\n",
    "| Preserves full function signature | ✅                        |\n",
    "| Supports decorators with parameters | ✅                    |\n",
    "| Clean syntax & easy to read   | ✅                        |\n",
    "| Optional parentheses for defaults | ✅                    |\n",
    "\n",
    "---\n",
    "\n",
    "> 🧠 **Tip:** Use the `decorator` module when building advanced decorators for production code, libraries, or educational purposes — it simplifies the hard parts and preserves the beauty of your API.\n",
    "\n",
    "📚 [Documentation & Examples](https://github.com/micheles/decorator/blob/master/docs/documentation.md)\n"
   ]
  },
  {
   "cell_type": "markdown",
   "id": "0bfb0208",
   "metadata": {},
   "source": [
    "# 🧱 Stacking Decorators in Python\n",
    "\n",
    "## 💡 Yes, You Can Stack Decorators!\n",
    "\n",
    "In Python, you can apply **multiple decorators** to the same function by stacking them one after another:\n",
    "\n",
    "```python\n",
    "@decorator_one\n",
    "@decorator_two\n",
    "def my_func():\n",
    "    ...\n",
    "```\n",
    "\n",
    "This is equivalent to:\n",
    "\n",
    "```python\n",
    "my_func = decorator_one(decorator_two(my_func))\n",
    "```\n",
    "\n",
    "That means:\n",
    "- `decorator_two` is applied **first**\n",
    "- `decorator_one` wraps the result\n",
    "\n",
    "---"
   ]
  },
  {
   "cell_type": "markdown",
   "id": "d48fa27b",
   "metadata": {},
   "source": [
    "## ⏱️ Adding a Timing Decorator with Rich Output\n",
    "\n",
    "Now let’s define a second decorator called `@report_time` that:\n",
    "- Measures the function’s execution time\n",
    "- Prints it using **rich** (with styled output)\n"
   ]
  },
  {
   "cell_type": "code",
   "execution_count": 4,
   "id": "00ce7675",
   "metadata": {},
   "outputs": [],
   "source": [
    "from functools import wraps\n",
    "from rich.console import Console\n",
    "import time\n",
    "\n",
    "console = Console()\n",
    "\n",
    "def report_time(func):\n",
    "    @wraps(func)\n",
    "    def wrapper(*args, **kwargs):\n",
    "        start = time.time()\n",
    "        result = func(*args, **kwargs)\n",
    "        duration = time.time() - start\n",
    "        console.print(f\"[bold green]✅ Function [cyan]{func.__name__}[/cyan] ran in [yellow]{duration:.2f}[/yellow] seconds.\")\n",
    "        return result\n",
    "    return wrapper"
   ]
  },
  {
   "cell_type": "markdown",
   "id": "15989dc7",
   "metadata": {},
   "source": [
    "\n",
    "Now let’s **stack** it with `@report_time`:\n",
    "\n",
    "---\n",
    "\n",
    "## 🎯 Final Example with Stacked Decorators\n",
    "\n"
   ]
  },
  {
   "cell_type": "code",
   "execution_count": 5,
   "id": "db4a1320",
   "metadata": {},
   "outputs": [
    {
     "data": {
      "text/html": [
       "<pre style=\"white-space:pre;overflow-x:auto;line-height:normal;font-family:Menlo,'DejaVu Sans Mono',consolas,'Courier New',monospace\"><span style=\"color: #008000; text-decoration-color: #008000; font-weight: bold\">✅ Function </span><span style=\"color: #008080; text-decoration-color: #008080; font-weight: bold\">preprocess</span><span style=\"color: #008000; text-decoration-color: #008000; font-weight: bold\"> ran in </span><span style=\"color: #808000; text-decoration-color: #808000; font-weight: bold\">2.00</span><span style=\"color: #008000; text-decoration-color: #008000; font-weight: bold\"> seconds.</span>\n",
       "</pre>\n"
      ],
      "text/plain": [
       "\u001b[1;32m✅ Function \u001b[0m\u001b[1;36mpreprocess\u001b[0m\u001b[1;32m ran in \u001b[0m\u001b[1;33m2.00\u001b[0m\u001b[1;32m seconds.\u001b[0m\n"
      ]
     },
     "metadata": {},
     "output_type": "display_data"
    },
    {
     "name": "stderr",
     "output_type": "stream",
     "text": [
      "WARNING:root:quick_task took 1.5 seconds ⏱️ (above limit!)\n"
     ]
    },
    {
     "data": {
      "text/html": [
       "<pre style=\"white-space:pre;overflow-x:auto;line-height:normal;font-family:Menlo,'DejaVu Sans Mono',consolas,'Courier New',monospace\"><span style=\"color: #008000; text-decoration-color: #008000; font-weight: bold\">✅ Function </span><span style=\"color: #008080; text-decoration-color: #008080; font-weight: bold\">quick_task</span><span style=\"color: #008000; text-decoration-color: #008000; font-weight: bold\"> ran in </span><span style=\"color: #808000; text-decoration-color: #808000; font-weight: bold\">1.50</span><span style=\"color: #008000; text-decoration-color: #008000; font-weight: bold\"> seconds.</span>\n",
       "</pre>\n"
      ],
      "text/plain": [
       "\u001b[1;32m✅ Function \u001b[0m\u001b[1;36mquick_task\u001b[0m\u001b[1;32m ran in \u001b[0m\u001b[1;33m1.50\u001b[0m\u001b[1;32m seconds.\u001b[0m\n"
      ]
     },
     "metadata": {},
     "output_type": "display_data"
    }
   ],
   "source": [
    "import time\n",
    "\n",
    "@report_time\n",
    "@warn_slow  # uses default timelimit = 60\n",
    "def preprocess():\n",
    "    time.sleep(2)\n",
    "\n",
    "@report_time\n",
    "@warn_slow(timelimit=1)  # custom threshold\n",
    "def quick_task():\n",
    "    time.sleep(1.5)\n",
    "\n",
    "preprocess()\n",
    "quick_task()"
   ]
  },
  {
   "cell_type": "markdown",
   "id": "abe77ef0",
   "metadata": {},
   "source": [
    "\n",
    "With `rich`, the output will be **colorful and easy to read** — especially in terminal or notebook environments.\n",
    "\n",
    "---\n",
    "\n",
    "## ✅ Summary\n",
    "\n",
    "- You can **stack multiple decorators** to layer behavior\n",
    "- The **order matters** — inner ones run first\n",
    "- Use `@report_time` and `@warn_slow` together for beautiful and functional monitoring\n",
    "\n",
    "> Want to turn this into a decorator library for profiling + alerting? Just say the word!\n"
   ]
  },
  {
   "cell_type": "markdown",
   "id": "6fed13b5",
   "metadata": {},
   "source": [
    "# Some built-in decorator example\n",
    "\n",
    "## ✅ 1. `@functools.lru_cache`\n",
    "\n",
    "### 🔍 What it is:\n",
    "`@functools.lru_cache` is a **memoization decorator** that caches the results of function calls.  \n",
    "It's especially useful for expensive or recursive functions, like computing Fibonacci numbers.\n",
    "\n",
    "### 💡 What it does:\n",
    "- Saves the output of a function call with a specific input.\n",
    "- If the same input is used again, the cached result is returned instantly.\n",
    "- `lru` stands for **Least Recently Used**, meaning it discards old entries when cache size is exceeded.\n",
    "\n",
    "### 🧪 Example:"
   ]
  },
  {
   "cell_type": "code",
   "execution_count": 6,
   "id": "735f3e3c",
   "metadata": {
    "scrolled": false
   },
   "outputs": [
    {
     "data": {
      "text/html": [
       "<pre style=\"white-space:pre;overflow-x:auto;line-height:normal;font-family:Menlo,'DejaVu Sans Mono',consolas,'Courier New',monospace\"><span style=\"color: #00ff00; text-decoration-color: #00ff00\">───────────────────────────────────────────────── </span>Run <span style=\"color: #008080; text-decoration-color: #008080; font-weight: bold\">1</span>: <span style=\"color: #800080; text-decoration-color: #800080; font-weight: bold\">fib</span><span style=\"font-weight: bold\">(</span><span style=\"color: #008080; text-decoration-color: #008080; font-weight: bold\">10</span><span style=\"font-weight: bold\">)</span><span style=\"color: #00ff00; text-decoration-color: #00ff00\"> ──────────────────────────────────────────────────</span>\n",
       "</pre>\n"
      ],
      "text/plain": [
       "\u001b[92m───────────────────────────────────────────────── \u001b[0mRun \u001b[1;36m1\u001b[0m: \u001b[1;35mfib\u001b[0m\u001b[1m(\u001b[0m\u001b[1;36m10\u001b[0m\u001b[1m)\u001b[0m\u001b[92m ──────────────────────────────────────────────────\u001b[0m\n"
      ]
     },
     "metadata": {},
     "output_type": "display_data"
    },
    {
     "data": {
      "text/html": [
       "<pre style=\"white-space:pre;overflow-x:auto;line-height:normal;font-family:Menlo,'DejaVu Sans Mono',consolas,'Courier New',monospace\"><span style=\"color: #7f7f7f; text-decoration-color: #7f7f7f\">Computing </span><span style=\"color: #bf7fbf; text-decoration-color: #bf7fbf; font-weight: bold\">fib</span><span style=\"color: #7f7f7f; text-decoration-color: #7f7f7f; font-weight: bold\">(</span><span style=\"color: #7fbfbf; text-decoration-color: #7fbfbf; font-weight: bold\">10</span><span style=\"color: #7f7f7f; text-decoration-color: #7f7f7f; font-weight: bold\">)</span>\n",
       "</pre>\n"
      ],
      "text/plain": [
       "\u001b[2mComputing \u001b[0m\u001b[1;2;35mfib\u001b[0m\u001b[1;2m(\u001b[0m\u001b[1;2;36m10\u001b[0m\u001b[1;2m)\u001b[0m\n"
      ]
     },
     "metadata": {},
     "output_type": "display_data"
    },
    {
     "data": {
      "text/html": [
       "<pre style=\"white-space:pre;overflow-x:auto;line-height:normal;font-family:Menlo,'DejaVu Sans Mono',consolas,'Courier New',monospace\"><span style=\"color: #7f7f7f; text-decoration-color: #7f7f7f\">Computing </span><span style=\"color: #bf7fbf; text-decoration-color: #bf7fbf; font-weight: bold\">fib</span><span style=\"color: #7f7f7f; text-decoration-color: #7f7f7f; font-weight: bold\">(</span><span style=\"color: #7fbfbf; text-decoration-color: #7fbfbf; font-weight: bold\">9</span><span style=\"color: #7f7f7f; text-decoration-color: #7f7f7f; font-weight: bold\">)</span>\n",
       "</pre>\n"
      ],
      "text/plain": [
       "\u001b[2mComputing \u001b[0m\u001b[1;2;35mfib\u001b[0m\u001b[1;2m(\u001b[0m\u001b[1;2;36m9\u001b[0m\u001b[1;2m)\u001b[0m\n"
      ]
     },
     "metadata": {},
     "output_type": "display_data"
    },
    {
     "data": {
      "text/html": [
       "<pre style=\"white-space:pre;overflow-x:auto;line-height:normal;font-family:Menlo,'DejaVu Sans Mono',consolas,'Courier New',monospace\"><span style=\"color: #7f7f7f; text-decoration-color: #7f7f7f\">Computing </span><span style=\"color: #bf7fbf; text-decoration-color: #bf7fbf; font-weight: bold\">fib</span><span style=\"color: #7f7f7f; text-decoration-color: #7f7f7f; font-weight: bold\">(</span><span style=\"color: #7fbfbf; text-decoration-color: #7fbfbf; font-weight: bold\">8</span><span style=\"color: #7f7f7f; text-decoration-color: #7f7f7f; font-weight: bold\">)</span>\n",
       "</pre>\n"
      ],
      "text/plain": [
       "\u001b[2mComputing \u001b[0m\u001b[1;2;35mfib\u001b[0m\u001b[1;2m(\u001b[0m\u001b[1;2;36m8\u001b[0m\u001b[1;2m)\u001b[0m\n"
      ]
     },
     "metadata": {},
     "output_type": "display_data"
    },
    {
     "data": {
      "text/html": [
       "<pre style=\"white-space:pre;overflow-x:auto;line-height:normal;font-family:Menlo,'DejaVu Sans Mono',consolas,'Courier New',monospace\"><span style=\"color: #7f7f7f; text-decoration-color: #7f7f7f\">Computing </span><span style=\"color: #bf7fbf; text-decoration-color: #bf7fbf; font-weight: bold\">fib</span><span style=\"color: #7f7f7f; text-decoration-color: #7f7f7f; font-weight: bold\">(</span><span style=\"color: #7fbfbf; text-decoration-color: #7fbfbf; font-weight: bold\">7</span><span style=\"color: #7f7f7f; text-decoration-color: #7f7f7f; font-weight: bold\">)</span>\n",
       "</pre>\n"
      ],
      "text/plain": [
       "\u001b[2mComputing \u001b[0m\u001b[1;2;35mfib\u001b[0m\u001b[1;2m(\u001b[0m\u001b[1;2;36m7\u001b[0m\u001b[1;2m)\u001b[0m\n"
      ]
     },
     "metadata": {},
     "output_type": "display_data"
    },
    {
     "data": {
      "text/html": [
       "<pre style=\"white-space:pre;overflow-x:auto;line-height:normal;font-family:Menlo,'DejaVu Sans Mono',consolas,'Courier New',monospace\"><span style=\"color: #7f7f7f; text-decoration-color: #7f7f7f\">Computing </span><span style=\"color: #bf7fbf; text-decoration-color: #bf7fbf; font-weight: bold\">fib</span><span style=\"color: #7f7f7f; text-decoration-color: #7f7f7f; font-weight: bold\">(</span><span style=\"color: #7fbfbf; text-decoration-color: #7fbfbf; font-weight: bold\">6</span><span style=\"color: #7f7f7f; text-decoration-color: #7f7f7f; font-weight: bold\">)</span>\n",
       "</pre>\n"
      ],
      "text/plain": [
       "\u001b[2mComputing \u001b[0m\u001b[1;2;35mfib\u001b[0m\u001b[1;2m(\u001b[0m\u001b[1;2;36m6\u001b[0m\u001b[1;2m)\u001b[0m\n"
      ]
     },
     "metadata": {},
     "output_type": "display_data"
    },
    {
     "data": {
      "text/html": [
       "<pre style=\"white-space:pre;overflow-x:auto;line-height:normal;font-family:Menlo,'DejaVu Sans Mono',consolas,'Courier New',monospace\"><span style=\"color: #7f7f7f; text-decoration-color: #7f7f7f\">Computing </span><span style=\"color: #bf7fbf; text-decoration-color: #bf7fbf; font-weight: bold\">fib</span><span style=\"color: #7f7f7f; text-decoration-color: #7f7f7f; font-weight: bold\">(</span><span style=\"color: #7fbfbf; text-decoration-color: #7fbfbf; font-weight: bold\">5</span><span style=\"color: #7f7f7f; text-decoration-color: #7f7f7f; font-weight: bold\">)</span>\n",
       "</pre>\n"
      ],
      "text/plain": [
       "\u001b[2mComputing \u001b[0m\u001b[1;2;35mfib\u001b[0m\u001b[1;2m(\u001b[0m\u001b[1;2;36m5\u001b[0m\u001b[1;2m)\u001b[0m\n"
      ]
     },
     "metadata": {},
     "output_type": "display_data"
    },
    {
     "data": {
      "text/html": [
       "<pre style=\"white-space:pre;overflow-x:auto;line-height:normal;font-family:Menlo,'DejaVu Sans Mono',consolas,'Courier New',monospace\"><span style=\"color: #7f7f7f; text-decoration-color: #7f7f7f\">Computing </span><span style=\"color: #bf7fbf; text-decoration-color: #bf7fbf; font-weight: bold\">fib</span><span style=\"color: #7f7f7f; text-decoration-color: #7f7f7f; font-weight: bold\">(</span><span style=\"color: #7fbfbf; text-decoration-color: #7fbfbf; font-weight: bold\">4</span><span style=\"color: #7f7f7f; text-decoration-color: #7f7f7f; font-weight: bold\">)</span>\n",
       "</pre>\n"
      ],
      "text/plain": [
       "\u001b[2mComputing \u001b[0m\u001b[1;2;35mfib\u001b[0m\u001b[1;2m(\u001b[0m\u001b[1;2;36m4\u001b[0m\u001b[1;2m)\u001b[0m\n"
      ]
     },
     "metadata": {},
     "output_type": "display_data"
    },
    {
     "data": {
      "text/html": [
       "<pre style=\"white-space:pre;overflow-x:auto;line-height:normal;font-family:Menlo,'DejaVu Sans Mono',consolas,'Courier New',monospace\"><span style=\"color: #7f7f7f; text-decoration-color: #7f7f7f\">Computing </span><span style=\"color: #bf7fbf; text-decoration-color: #bf7fbf; font-weight: bold\">fib</span><span style=\"color: #7f7f7f; text-decoration-color: #7f7f7f; font-weight: bold\">(</span><span style=\"color: #7fbfbf; text-decoration-color: #7fbfbf; font-weight: bold\">3</span><span style=\"color: #7f7f7f; text-decoration-color: #7f7f7f; font-weight: bold\">)</span>\n",
       "</pre>\n"
      ],
      "text/plain": [
       "\u001b[2mComputing \u001b[0m\u001b[1;2;35mfib\u001b[0m\u001b[1;2m(\u001b[0m\u001b[1;2;36m3\u001b[0m\u001b[1;2m)\u001b[0m\n"
      ]
     },
     "metadata": {},
     "output_type": "display_data"
    },
    {
     "data": {
      "text/html": [
       "<pre style=\"white-space:pre;overflow-x:auto;line-height:normal;font-family:Menlo,'DejaVu Sans Mono',consolas,'Courier New',monospace\"><span style=\"color: #7f7f7f; text-decoration-color: #7f7f7f\">Computing </span><span style=\"color: #bf7fbf; text-decoration-color: #bf7fbf; font-weight: bold\">fib</span><span style=\"color: #7f7f7f; text-decoration-color: #7f7f7f; font-weight: bold\">(</span><span style=\"color: #7fbfbf; text-decoration-color: #7fbfbf; font-weight: bold\">2</span><span style=\"color: #7f7f7f; text-decoration-color: #7f7f7f; font-weight: bold\">)</span>\n",
       "</pre>\n"
      ],
      "text/plain": [
       "\u001b[2mComputing \u001b[0m\u001b[1;2;35mfib\u001b[0m\u001b[1;2m(\u001b[0m\u001b[1;2;36m2\u001b[0m\u001b[1;2m)\u001b[0m\n"
      ]
     },
     "metadata": {},
     "output_type": "display_data"
    },
    {
     "data": {
      "text/html": [
       "<pre style=\"white-space:pre;overflow-x:auto;line-height:normal;font-family:Menlo,'DejaVu Sans Mono',consolas,'Courier New',monospace\"><span style=\"color: #7f7f7f; text-decoration-color: #7f7f7f\">Computing </span><span style=\"color: #bf7fbf; text-decoration-color: #bf7fbf; font-weight: bold\">fib</span><span style=\"color: #7f7f7f; text-decoration-color: #7f7f7f; font-weight: bold\">(</span><span style=\"color: #7fbfbf; text-decoration-color: #7fbfbf; font-weight: bold\">1</span><span style=\"color: #7f7f7f; text-decoration-color: #7f7f7f; font-weight: bold\">)</span>\n",
       "</pre>\n"
      ],
      "text/plain": [
       "\u001b[2mComputing \u001b[0m\u001b[1;2;35mfib\u001b[0m\u001b[1;2m(\u001b[0m\u001b[1;2;36m1\u001b[0m\u001b[1;2m)\u001b[0m\n"
      ]
     },
     "metadata": {},
     "output_type": "display_data"
    },
    {
     "data": {
      "text/html": [
       "<pre style=\"white-space:pre;overflow-x:auto;line-height:normal;font-family:Menlo,'DejaVu Sans Mono',consolas,'Courier New',monospace\"><span style=\"color: #7f7f7f; text-decoration-color: #7f7f7f\">Computing </span><span style=\"color: #bf7fbf; text-decoration-color: #bf7fbf; font-weight: bold\">fib</span><span style=\"color: #7f7f7f; text-decoration-color: #7f7f7f; font-weight: bold\">(</span><span style=\"color: #7fbfbf; text-decoration-color: #7fbfbf; font-weight: bold\">0</span><span style=\"color: #7f7f7f; text-decoration-color: #7f7f7f; font-weight: bold\">)</span>\n",
       "</pre>\n"
      ],
      "text/plain": [
       "\u001b[2mComputing \u001b[0m\u001b[1;2;35mfib\u001b[0m\u001b[1;2m(\u001b[0m\u001b[1;2;36m0\u001b[0m\u001b[1;2m)\u001b[0m\n"
      ]
     },
     "metadata": {},
     "output_type": "display_data"
    },
    {
     "data": {
      "text/html": [
       "<pre style=\"white-space:pre;overflow-x:auto;line-height:normal;font-family:Menlo,'DejaVu Sans Mono',consolas,'Courier New',monospace\"><span style=\"color: #008000; text-decoration-color: #008000\">⏱️ </span><span style=\"color: #008000; text-decoration-color: #008000; font-weight: bold\">fib(</span><span style=\"color: #008000; text-decoration-color: #008000; font-weight: bold\">10</span><span style=\"color: #008000; text-decoration-color: #008000; font-weight: bold\">)</span><span style=\"color: #008000; text-decoration-color: #008000\"> took </span><span style=\"color: #808000; text-decoration-color: #808000; font-weight: bold\">0.032792</span><span style=\"color: #008000; text-decoration-color: #008000\"> seconds</span>\n",
       "</pre>\n"
      ],
      "text/plain": [
       "\u001b[32m⏱️ \u001b[0m\u001b[1;32mfib\u001b[0m\u001b[1;32m(\u001b[0m\u001b[1;32m10\u001b[0m\u001b[1;32m)\u001b[0m\u001b[32m took \u001b[0m\u001b[1;33m0.032792\u001b[0m\u001b[32m seconds\u001b[0m\n"
      ]
     },
     "metadata": {},
     "output_type": "display_data"
    },
    {
     "data": {
      "text/html": [
       "<pre style=\"white-space:pre;overflow-x:auto;line-height:normal;font-family:Menlo,'DejaVu Sans Mono',consolas,'Courier New',monospace\">Result: <span style=\"color: #008080; text-decoration-color: #008080; font-weight: bold\">55</span>\n",
       "</pre>\n"
      ],
      "text/plain": [
       "Result: \u001b[1;36m55\u001b[0m\n"
      ]
     },
     "metadata": {},
     "output_type": "display_data"
    },
    {
     "data": {
      "text/html": [
       "<pre style=\"white-space:pre;overflow-x:auto;line-height:normal;font-family:Menlo,'DejaVu Sans Mono',consolas,'Courier New',monospace\"><span style=\"color: #00ff00; text-decoration-color: #00ff00\">───────────────────────────────────────────────── </span>Run <span style=\"color: #008080; text-decoration-color: #008080; font-weight: bold\">2</span>: <span style=\"color: #800080; text-decoration-color: #800080; font-weight: bold\">fib</span><span style=\"font-weight: bold\">(</span><span style=\"color: #008080; text-decoration-color: #008080; font-weight: bold\">11</span><span style=\"font-weight: bold\">)</span><span style=\"color: #00ff00; text-decoration-color: #00ff00\"> ──────────────────────────────────────────────────</span>\n",
       "</pre>\n"
      ],
      "text/plain": [
       "\u001b[92m───────────────────────────────────────────────── \u001b[0mRun \u001b[1;36m2\u001b[0m: \u001b[1;35mfib\u001b[0m\u001b[1m(\u001b[0m\u001b[1;36m11\u001b[0m\u001b[1m)\u001b[0m\u001b[92m ──────────────────────────────────────────────────\u001b[0m\n"
      ]
     },
     "metadata": {},
     "output_type": "display_data"
    },
    {
     "data": {
      "text/html": [
       "<pre style=\"white-space:pre;overflow-x:auto;line-height:normal;font-family:Menlo,'DejaVu Sans Mono',consolas,'Courier New',monospace\"><span style=\"color: #7f7f7f; text-decoration-color: #7f7f7f\">Computing </span><span style=\"color: #bf7fbf; text-decoration-color: #bf7fbf; font-weight: bold\">fib</span><span style=\"color: #7f7f7f; text-decoration-color: #7f7f7f; font-weight: bold\">(</span><span style=\"color: #7fbfbf; text-decoration-color: #7fbfbf; font-weight: bold\">11</span><span style=\"color: #7f7f7f; text-decoration-color: #7f7f7f; font-weight: bold\">)</span>\n",
       "</pre>\n"
      ],
      "text/plain": [
       "\u001b[2mComputing \u001b[0m\u001b[1;2;35mfib\u001b[0m\u001b[1;2m(\u001b[0m\u001b[1;2;36m11\u001b[0m\u001b[1;2m)\u001b[0m\n"
      ]
     },
     "metadata": {},
     "output_type": "display_data"
    },
    {
     "data": {
      "text/html": [
       "<pre style=\"white-space:pre;overflow-x:auto;line-height:normal;font-family:Menlo,'DejaVu Sans Mono',consolas,'Courier New',monospace\"><span style=\"color: #008000; text-decoration-color: #008000\">⏱️ </span><span style=\"color: #008000; text-decoration-color: #008000; font-weight: bold\">fib(</span><span style=\"color: #008000; text-decoration-color: #008000; font-weight: bold\">11</span><span style=\"color: #008000; text-decoration-color: #008000; font-weight: bold\">)</span><span style=\"color: #008000; text-decoration-color: #008000\"> took </span><span style=\"color: #808000; text-decoration-color: #808000; font-weight: bold\">0.006097</span><span style=\"color: #008000; text-decoration-color: #008000\"> seconds</span>\n",
       "</pre>\n"
      ],
      "text/plain": [
       "\u001b[32m⏱️ \u001b[0m\u001b[1;32mfib\u001b[0m\u001b[1;32m(\u001b[0m\u001b[1;32m11\u001b[0m\u001b[1;32m)\u001b[0m\u001b[32m took \u001b[0m\u001b[1;33m0.006097\u001b[0m\u001b[32m seconds\u001b[0m\n"
      ]
     },
     "metadata": {},
     "output_type": "display_data"
    },
    {
     "data": {
      "text/html": [
       "<pre style=\"white-space:pre;overflow-x:auto;line-height:normal;font-family:Menlo,'DejaVu Sans Mono',consolas,'Courier New',monospace\">Result: <span style=\"color: #008080; text-decoration-color: #008080; font-weight: bold\">89</span>\n",
       "</pre>\n"
      ],
      "text/plain": [
       "Result: \u001b[1;36m89\u001b[0m\n"
      ]
     },
     "metadata": {},
     "output_type": "display_data"
    },
    {
     "data": {
      "text/html": [
       "<pre style=\"white-space:pre;overflow-x:auto;line-height:normal;font-family:Menlo,'DejaVu Sans Mono',consolas,'Courier New',monospace\"><span style=\"color: #00ff00; text-decoration-color: #00ff00\">────────────────────────────────────────────────── </span>Run <span style=\"color: #008080; text-decoration-color: #008080; font-weight: bold\">3</span>: <span style=\"color: #800080; text-decoration-color: #800080; font-weight: bold\">fib</span><span style=\"font-weight: bold\">(</span><span style=\"color: #008080; text-decoration-color: #008080; font-weight: bold\">9</span><span style=\"font-weight: bold\">)</span><span style=\"color: #00ff00; text-decoration-color: #00ff00\"> ──────────────────────────────────────────────────</span>\n",
       "</pre>\n"
      ],
      "text/plain": [
       "\u001b[92m────────────────────────────────────────────────── \u001b[0mRun \u001b[1;36m3\u001b[0m: \u001b[1;35mfib\u001b[0m\u001b[1m(\u001b[0m\u001b[1;36m9\u001b[0m\u001b[1m)\u001b[0m\u001b[92m ──────────────────────────────────────────────────\u001b[0m\n"
      ]
     },
     "metadata": {},
     "output_type": "display_data"
    },
    {
     "data": {
      "text/html": [
       "<pre style=\"white-space:pre;overflow-x:auto;line-height:normal;font-family:Menlo,'DejaVu Sans Mono',consolas,'Courier New',monospace\"><span style=\"color: #008000; text-decoration-color: #008000\">⏱️ </span><span style=\"color: #008000; text-decoration-color: #008000; font-weight: bold\">fib(</span><span style=\"color: #008000; text-decoration-color: #008000; font-weight: bold\">9</span><span style=\"color: #008000; text-decoration-color: #008000; font-weight: bold\">)</span><span style=\"color: #008000; text-decoration-color: #008000\"> took </span><span style=\"color: #808000; text-decoration-color: #808000; font-weight: bold\">0.000000</span><span style=\"color: #008000; text-decoration-color: #008000\"> seconds</span>\n",
       "</pre>\n"
      ],
      "text/plain": [
       "\u001b[32m⏱️ \u001b[0m\u001b[1;32mfib\u001b[0m\u001b[1;32m(\u001b[0m\u001b[1;32m9\u001b[0m\u001b[1;32m)\u001b[0m\u001b[32m took \u001b[0m\u001b[1;33m0.000000\u001b[0m\u001b[32m seconds\u001b[0m\n"
      ]
     },
     "metadata": {},
     "output_type": "display_data"
    },
    {
     "data": {
      "text/html": [
       "<pre style=\"white-space:pre;overflow-x:auto;line-height:normal;font-family:Menlo,'DejaVu Sans Mono',consolas,'Courier New',monospace\">Result: <span style=\"color: #008080; text-decoration-color: #008080; font-weight: bold\">34</span>\n",
       "</pre>\n"
      ],
      "text/plain": [
       "Result: \u001b[1;36m34\u001b[0m\n"
      ]
     },
     "metadata": {},
     "output_type": "display_data"
    },
    {
     "data": {
      "text/html": [
       "<pre style=\"white-space:pre;overflow-x:auto;line-height:normal;font-family:Menlo,'DejaVu Sans Mono',consolas,'Courier New',monospace\"><span style=\"color: #00ff00; text-decoration-color: #00ff00\">───────────────────────────────────────────────── </span>LRU Cache Info<span style=\"color: #00ff00; text-decoration-color: #00ff00\"> ──────────────────────────────────────────────────</span>\n",
       "</pre>\n"
      ],
      "text/plain": [
       "\u001b[92m───────────────────────────────────────────────── \u001b[0mLRU Cache Info\u001b[92m ──────────────────────────────────────────────────\u001b[0m\n"
      ]
     },
     "metadata": {},
     "output_type": "display_data"
    },
    {
     "data": {
      "text/html": [
       "<pre style=\"white-space:pre;overflow-x:auto;line-height:normal;font-family:Menlo,'DejaVu Sans Mono',consolas,'Courier New',monospace\"><span style=\"color: #800080; text-decoration-color: #800080; font-weight: bold\">CacheInfo</span><span style=\"font-weight: bold\">(</span><span style=\"color: #808000; text-decoration-color: #808000\">hits</span>=<span style=\"color: #008080; text-decoration-color: #008080; font-weight: bold\">11</span>, <span style=\"color: #808000; text-decoration-color: #808000\">misses</span>=<span style=\"color: #008080; text-decoration-color: #008080; font-weight: bold\">12</span>, <span style=\"color: #808000; text-decoration-color: #808000\">maxsize</span>=<span style=\"color: #008080; text-decoration-color: #008080; font-weight: bold\">128</span>, <span style=\"color: #808000; text-decoration-color: #808000\">currsize</span>=<span style=\"color: #008080; text-decoration-color: #008080; font-weight: bold\">12</span><span style=\"font-weight: bold\">)</span>\n",
       "</pre>\n"
      ],
      "text/plain": [
       "\u001b[1;35mCacheInfo\u001b[0m\u001b[1m(\u001b[0m\u001b[33mhits\u001b[0m=\u001b[1;36m11\u001b[0m, \u001b[33mmisses\u001b[0m=\u001b[1;36m12\u001b[0m, \u001b[33mmaxsize\u001b[0m=\u001b[1;36m128\u001b[0m, \u001b[33mcurrsize\u001b[0m=\u001b[1;36m12\u001b[0m\u001b[1m)\u001b[0m\n"
      ]
     },
     "metadata": {},
     "output_type": "display_data"
    }
   ],
   "source": [
    "import functools\n",
    "import time\n",
    "from rich.console import Console\n",
    "\n",
    "console = Console()\n",
    "\n",
    "# 🧠 Recursive Fibonacci with caching\n",
    "@functools.lru_cache(maxsize=128)\n",
    "def fib(n):\n",
    "    console.print(f\"[dim]Computing fib({n})[/dim]\")\n",
    "    if n < 2:\n",
    "        return n\n",
    "    return fib(n - 1) + fib(n - 2)\n",
    "\n",
    "# ⏱️ Timing wrapper\n",
    "def run(func, *args, **kwargs):\n",
    "    start = time.time_ns()\n",
    "    result = func(*args, **kwargs)\n",
    "    stop = time.time_ns()\n",
    "    duration_sec = (stop - start) * 1e-9\n",
    "    console.print(f\"[green]⏱️ {func.__name__}({', '.join(map(str, args))}) took [bold yellow]{duration_sec:.6f}[/bold yellow] seconds[/green]\")\n",
    "    return result\n",
    "\n",
    "# Clear cache before starting\n",
    "fib.cache_clear()\n",
    "\n",
    "# 🔁 First run: heavy computation\n",
    "console.rule(\"Run 1: fib(10)\")\n",
    "console.print(\"Result:\", run(fib, 10))\n",
    "\n",
    "# 🔁 Second run: partial cache reuse\n",
    "console.rule(\"Run 2: fib(11)\")\n",
    "console.print(\"Result:\", run(fib, 11))\n",
    "\n",
    "# ✅ Fully cached\n",
    "console.rule(\"Run 3: fib(9)\")\n",
    "console.print(\"Result:\", run(fib, 9))\n",
    "\n",
    "# 📦 Cache info\n",
    "console.rule(\"LRU Cache Info\")\n",
    "console.print(fib.cache_info())"
   ]
  },
  {
   "cell_type": "markdown",
   "id": "6041a696",
   "metadata": {},
   "source": [
    "### ✅ When to use:\n",
    "- Recursive functions\n",
    "- Expensive pure functions (same input → same output)\n",
    "- Avoiding redundant computation\n",
    "\n",
    "---\n",
    "\n",
    "## ✅ 2. `@functools.cache` (Python 3.9+)\n",
    "\n",
    "### 🔍 What it is:\n",
    "`@functools.cache` is a simplified version of `lru_cache`, added in Python 3.9.  \n",
    "It behaves exactly like `@lru_cache(maxsize=None)`, meaning it caches **everything forever**.\n",
    "\n",
    "### 💡 What it does:\n",
    "- Simple, unlimited caching\n",
    "- Ideal for functions with limited and repetitive input space\n",
    "\n",
    "### 🧪 Example:"
   ]
  },
  {
   "cell_type": "code",
   "execution_count": 7,
   "id": "7c4ebb5d",
   "metadata": {},
   "outputs": [
    {
     "name": "stdout",
     "output_type": "stream",
     "text": [
      "Calculating 2 * 3\n",
      "6\n",
      "6\n"
     ]
    }
   ],
   "source": [
    "import functools\n",
    "\n",
    "@functools.cache\n",
    "def multiply(x, y):\n",
    "    print(f\"Calculating {x} * {y}\")\n",
    "    return x * y\n",
    "\n",
    "print(multiply(2, 3))  # First call: calculates\n",
    "print(multiply(2, 3))  # Second call: cached"
   ]
  },
  {
   "cell_type": "markdown",
   "id": "413888a3",
   "metadata": {},
   "source": [
    "### ✅ When to use:\n",
    "- Lightweight pure functions\n",
    "- Where memory usage isn’t a concern\n",
    "- When you don’t need cache eviction (unlike `lru_cache`)\n",
    "\n",
    "---\n",
    "\n",
    "## ✅ 3. `@dataclasses.dataclass`\n",
    "\n",
    "### 🔍 What it is:\n",
    "`@dataclass` is a class decorator from the `dataclasses` module that **automatically generates boilerplate code** for classes that are mainly used to store data.\n",
    "\n",
    "### 💡 What it does:\n",
    "When you decorate a class with `@dataclass`, it auto-generates:\n",
    "- `__init__()` constructor\n",
    "- `__repr__()` for nice printing\n",
    "- `__eq__()` for comparisons\n",
    "- Optional: ordering methods (`<`, `<=`, etc.)\n",
    "\n",
    "### 🧪 Example:"
   ]
  },
  {
   "cell_type": "code",
   "execution_count": 8,
   "id": "ceeeb7c0",
   "metadata": {},
   "outputs": [
    {
     "data": {
      "text/html": [
       "<pre style=\"white-space:pre;overflow-x:auto;line-height:normal;font-family:Menlo,'DejaVu Sans Mono',consolas,'Courier New',monospace\"><span style=\"color: #800080; text-decoration-color: #800080; font-weight: bold\">User</span><span style=\"font-weight: bold\">(</span><span style=\"color: #808000; text-decoration-color: #808000\">name</span>=<span style=\"color: #008000; text-decoration-color: #008000\">'Ali'</span>, <span style=\"color: #808000; text-decoration-color: #808000\">age</span>=<span style=\"color: #008080; text-decoration-color: #008080; font-weight: bold\">25</span>, <span style=\"color: #808000; text-decoration-color: #808000\">email</span>=<span style=\"color: #008000; text-decoration-color: #008000\">'ali@example.com'</span><span style=\"font-weight: bold\">)</span>\n",
       "</pre>\n"
      ],
      "text/plain": [
       "\u001b[1;35mUser\u001b[0m\u001b[1m(\u001b[0m\u001b[33mname\u001b[0m=\u001b[32m'Ali'\u001b[0m, \u001b[33mage\u001b[0m=\u001b[1;36m25\u001b[0m, \u001b[33memail\u001b[0m=\u001b[32m'ali@example.com'\u001b[0m\u001b[1m)\u001b[0m\n"
      ]
     },
     "metadata": {},
     "output_type": "display_data"
    }
   ],
   "source": [
    "from dataclasses import dataclass\n",
    "\n",
    "@dataclass\n",
    "class User:\n",
    "    name: str\n",
    "    age: int\n",
    "    email: str\n",
    "\n",
    "u1 = User(\"Ali\", 25, \"ali@example.com\")\n",
    "console.print(u1)"
   ]
  },
  {
   "cell_type": "markdown",
   "id": "73abff0b",
   "metadata": {},
   "source": [
    "### ✅ When to use:\n",
    "- When building lightweight classes for storing structured data\n",
    "- Instead of writing repetitive `__init__`, `__repr__`, etc.\n",
    "- For config objects, DTOs, domain models\n",
    "\n",
    "---\n",
    "\n",
    "## 🧠 Summary Table\n",
    "\n",
    "| Decorator           | Purpose                         | When to Use                                       |\n",
    "|---------------------|----------------------------------|--------------------------------------------------|\n",
    "| `@lru_cache`        | Cache results with size limit   | Recursive or slow functions                      |\n",
    "| `@cache`            | Infinite cache (no limit)       | Simple memoization, few unique inputs            |\n",
    "| `@dataclass`        | Auto-create methods for classes | Replacing boilerplate in data-holding classes    |\n",
    "\n",
    "---\n",
    "\n",
    "> 📌 These decorators help you write **cleaner, faster, and more efficient Python code** with less boilerplate.\n"
   ]
  }
 ],
 "metadata": {
  "kernelspec": {
   "display_name": "Python 3 (ipykernel)",
   "language": "python",
   "name": "python3"
  },
  "language_info": {
   "codemirror_mode": {
    "name": "ipython",
    "version": 3
   },
   "file_extension": ".py",
   "mimetype": "text/x-python",
   "name": "python",
   "nbconvert_exporter": "python",
   "pygments_lexer": "ipython3",
   "version": "3.11.5"
  }
 },
 "nbformat": 4,
 "nbformat_minor": 5
}
