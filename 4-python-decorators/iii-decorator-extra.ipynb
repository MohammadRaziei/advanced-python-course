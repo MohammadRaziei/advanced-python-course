{
 "cells": [
  {
   "cell_type": "markdown",
   "id": "50a3025f",
   "metadata": {},
   "source": [
    "# 🎛️ Advanced Decorator Example with the `@decorator` Library\n",
    "\n",
    "The [`decorator`](https://pypi.org/project/decorator/) module helps you create **signature-preserving** decorators — which is especially useful for decorators that:\n",
    "\n",
    "- Accept arguments (like `@warn_slow(timelimit=60)`)\n",
    "- Need to be readable and clean\n",
    "- Should keep the original function's name, signature, and docstring\n",
    "\n",
    "Unlike `functools.wraps`, which only preserves metadata, `@decorator` **automatically preserves the full signature** of the decorated function.\n",
    "\n",
    "---\n",
    "\n",
    "## 🚀 Installation\n",
    "\n",
    "```bash\n",
    "pip install decorator\n",
    "```\n",
    "\n",
    "---\n",
    "\n",
    "## ✅ Example: Tracing Slow Functions with `@warn_slow`\n",
    "\n",
    "Let’s say you want to log a warning if a function takes too long to run.  \n",
    "You can define a parameterized decorator using the `@decorator` style like this:"
   ]
  },
  {
   "cell_type": "code",
   "execution_count": 16,
   "id": "45690f8b",
   "metadata": {},
   "outputs": [],
   "source": [
    "from decorator import decorator\n",
    "import time\n",
    "import logging\n",
    "\n",
    "logging.basicConfig(level=logging.INFO)\n",
    "\n",
    "@decorator\n",
    "def warn_slow(func, timelimit=60, *args, **kwargs):\n",
    "    t0 = time.time()\n",
    "    result = func(*args, **kwargs)\n",
    "    dt = time.time() - t0\n",
    "\n",
    "    if dt > timelimit:\n",
    "        logging.warning('%s took %.1f seconds ⏱️ (above limit!)', func.__name__, dt)\n",
    "    else:\n",
    "        logging.info('%s took %.1f seconds', func.__name__, dt)\n",
    "\n",
    "    return result\n"
   ]
  },
  {
   "cell_type": "markdown",
   "id": "661088f7",
   "metadata": {},
   "source": [
    "---\n",
    "\n",
    "### 🧪 Usage\n",
    "\n",
    "You can use it both with and without parentheses:"
   ]
  },
  {
   "cell_type": "code",
   "execution_count": 17,
   "id": "8224c8c3",
   "metadata": {},
   "outputs": [
    {
     "name": "stderr",
     "output_type": "stream",
     "text": [
      "INFO:root:preprocess took 2.0 seconds\n",
      "WARNING:root:quick_task took 1.5 seconds ⏱️ (above limit!)\n"
     ]
    }
   ],
   "source": [
    "@warn_slow  # uses default timelimit = 60\n",
    "def preprocess():\n",
    "    time.sleep(2)\n",
    "\n",
    "@warn_slow(timelimit=1)  # custom threshold\n",
    "def quick_task():\n",
    "    time.sleep(1.5)\n",
    "    \n",
    "preprocess()\n",
    "quick_task()"
   ]
  },
  {
   "cell_type": "markdown",
   "id": "a9b03d9f",
   "metadata": {},
   "source": [
    "### 🧠 Using `@warn_slow()` with Parentheses\n",
    "\n",
    "In addition to using `@warn_slow` without parentheses, you can also call the decorator with parentheses — even if you are not passing any arguments:\n"
   ]
  },
  {
   "cell_type": "code",
   "execution_count": 22,
   "id": "d7d38282",
   "metadata": {},
   "outputs": [
    {
     "name": "stderr",
     "output_type": "stream",
     "text": [
      "INFO:root:another_task took 1.2 seconds\n"
     ]
    }
   ],
   "source": [
    "@warn_slow()\n",
    "def another_task():\n",
    "    time.sleep(1.2)\n",
    "    \n",
    "another_task()"
   ]
  },
  {
   "cell_type": "markdown",
   "id": "01467d93",
   "metadata": {},
   "source": [
    "This works because the `warn_slow` decorator provides a default value for its parameter (`timelimit=60`).  \n",
    "So calling `@warn_slow()` is essentially the same as using `@warn_slow` — both apply the decorator with default configuration.\n",
    "\n",
    "This flexibility allows your decorator to be used in two ways:\n",
    "\n",
    "- `@warn_slow` — simple application with default values\n",
    "- `@warn_slow()` — explicit application (still using default values unless specified)\n",
    "\n",
    "> ✅ The `@decorator` library makes this dual usage possible **without requiring any extra boilerplate logic** in your code."
   ]
  },
  {
   "cell_type": "markdown",
   "id": "f4dca1c3",
   "metadata": {},
   "source": [
    "This dual usage is possible because `@decorator` allows the decorator to accept default arguments — and if the default arguments are acceptable, **you can skip the parentheses**.\n",
    "\n",
    "---\n"
   ]
  },
  {
   "cell_type": "markdown",
   "id": "87205093",
   "metadata": {},
   "source": [
    "\n",
    "## 🔍 What's Really Going On?\n",
    "\n",
    "- When you write `@warn_slow`, it works just like `@warn_slow()`\n",
    "- You’re defining a **decorator function** with the signature:  \n",
    "  `decorator(func, *args, **kwargs)`\n",
    "- `func` is the target function\n",
    "- `*args` and `**kwargs` are the arguments passed to that function when it runs\n",
    "\n",
    "---\n",
    "\n",
    "## ✅ Summary\n",
    "\n",
    "| Feature                        | Supported by `@decorator` |\n",
    "|-------------------------------|----------------------------|\n",
    "| Preserves full function signature | ✅                        |\n",
    "| Supports decorators with parameters | ✅                    |\n",
    "| Clean syntax & easy to read   | ✅                        |\n",
    "| Optional parentheses for defaults | ✅                    |\n",
    "\n",
    "---\n",
    "\n",
    "> 🧠 **Tip:** Use the `decorator` module when building advanced decorators for production code, libraries, or educational purposes — it simplifies the hard parts and preserves the beauty of your API.\n",
    "\n",
    "📚 [Documentation & Examples](https://github.com/micheles/decorator/blob/master/docs/documentation.md)\n"
   ]
  }
 ],
 "metadata": {
  "kernelspec": {
   "display_name": "Python 3 (ipykernel)",
   "language": "python",
   "name": "python3"
  },
  "language_info": {
   "codemirror_mode": {
    "name": "ipython",
    "version": 3
   },
   "file_extension": ".py",
   "mimetype": "text/x-python",
   "name": "python",
   "nbconvert_exporter": "python",
   "pygments_lexer": "ipython3",
   "version": "3.11.5"
  }
 },
 "nbformat": 4,
 "nbformat_minor": 5
}
